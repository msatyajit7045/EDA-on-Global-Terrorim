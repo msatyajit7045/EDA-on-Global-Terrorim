{
  "cells": [
    {
      "cell_type": "markdown",
      "metadata": {
        "id": "view-in-github",
        "colab_type": "text"
      },
      "source": [
        "<a href=\"https://colab.research.google.com/github/msatyajit7045/EDA-on-Global-Terrorim/blob/main/EDA_on_Global_Terrorism.ipynb\" target=\"_parent\"><img src=\"https://colab.research.google.com/assets/colab-badge.svg\" alt=\"Open In Colab\"/></a>"
      ]
    },
    {
      "cell_type": "code",
      "execution_count": 1,
      "metadata": {
        "id": "kUqstO-5KYcy"
      },
      "outputs": [],
      "source": [
        "# importing laibraries\n",
        "import numpy as np\n",
        "import pandas as pd\n",
        "import seaborn as sns; sns.set(color_codes=True)\n",
        "import matplotlib.pyplot as plt\n",
        "%matplotlib inline"
      ]
    },
    {
      "cell_type": "code",
      "execution_count": 2,
      "metadata": {
        "colab": {
          "base_uri": "https://localhost:8080/"
        },
        "id": "ovCQgBdQLq_m",
        "outputId": "90908718-a266-47c5-e0d0-641af1b07d33"
      },
      "outputs": [
        {
          "output_type": "stream",
          "name": "stdout",
          "text": [
            "Mounted at /content/drive\n"
          ]
        }
      ],
      "source": [
        "# mounting google drive\n",
        "from google.colab import drive\n",
        "drive.mount('/content/drive')"
      ]
    },
    {
      "cell_type": "code",
      "execution_count": 3,
      "metadata": {
        "colab": {
          "base_uri": "https://localhost:8080/"
        },
        "id": "GoKicLg-MW_9",
        "outputId": "67dc65a2-ff40-457a-ab19-770a7fb846cc"
      },
      "outputs": [
        {
          "output_type": "stream",
          "name": "stderr",
          "text": [
            "/usr/local/lib/python3.7/dist-packages/IPython/core/interactiveshell.py:2882: DtypeWarning: Columns (4,6,31,33,61,62,63,76,79,90,92,94,96,114,115,121) have mixed types.Specify dtype option on import or set low_memory=False.\n",
            "  exec(code_obj, self.user_global_ns, self.user_ns)\n"
          ]
        }
      ],
      "source": [
        "# reading csv file\n",
        "global_terrorism = pd.read_csv('/content/drive/MyDrive/AlmaBetter/EDA Capstone Project/Global Terrorism Data.csv',encoding='cp1252')\n",
        "\n"
      ]
    },
    {
      "cell_type": "markdown",
      "metadata": {
        "id": "YWvqTEKPOw28"
      },
      "source": [
        "## ***details of datafram***"
      ]
    },
    {
      "cell_type": "code",
      "execution_count": 4,
      "metadata": {
        "colab": {
          "base_uri": "https://localhost:8080/",
          "height": 317
        },
        "id": "mkLgJ6QpNwV8",
        "outputId": "9342f3d7-3ff5-44a2-ad82-cc376ad68a11"
      },
      "outputs": [
        {
          "output_type": "execute_result",
          "data": {
            "text/plain": [
              "        eventid  iyear  imonth  iday approxdate  extended resolution  country  \\\n",
              "0  197000000001   1970       7     2        NaN         0        NaN       58   \n",
              "1  197000000002   1970       0     0        NaN         0        NaN      130   \n",
              "2  197001000001   1970       1     0        NaN         0        NaN      160   \n",
              "3  197001000002   1970       1     0        NaN         0        NaN       78   \n",
              "4  197001000003   1970       1     0        NaN         0        NaN      101   \n",
              "\n",
              "          country_txt  region  ... addnotes scite1 scite2  scite3  dbsource  \\\n",
              "0  Dominican Republic       2  ...      NaN    NaN    NaN     NaN      PGIS   \n",
              "1              Mexico       1  ...      NaN    NaN    NaN     NaN      PGIS   \n",
              "2         Philippines       5  ...      NaN    NaN    NaN     NaN      PGIS   \n",
              "3              Greece       8  ...      NaN    NaN    NaN     NaN      PGIS   \n",
              "4               Japan       4  ...      NaN    NaN    NaN     NaN      PGIS   \n",
              "\n",
              "   INT_LOG  INT_IDEO INT_MISC INT_ANY  related  \n",
              "0        0         0        0       0      NaN  \n",
              "1        0         1        1       1      NaN  \n",
              "2       -9        -9        1       1      NaN  \n",
              "3       -9        -9        1       1      NaN  \n",
              "4       -9        -9        1       1      NaN  \n",
              "\n",
              "[5 rows x 135 columns]"
            ],
            "text/html": [
              "\n",
              "  <div id=\"df-d6906a6e-1888-4ec3-9b47-6932ea8edd0e\">\n",
              "    <div class=\"colab-df-container\">\n",
              "      <div>\n",
              "<style scoped>\n",
              "    .dataframe tbody tr th:only-of-type {\n",
              "        vertical-align: middle;\n",
              "    }\n",
              "\n",
              "    .dataframe tbody tr th {\n",
              "        vertical-align: top;\n",
              "    }\n",
              "\n",
              "    .dataframe thead th {\n",
              "        text-align: right;\n",
              "    }\n",
              "</style>\n",
              "<table border=\"1\" class=\"dataframe\">\n",
              "  <thead>\n",
              "    <tr style=\"text-align: right;\">\n",
              "      <th></th>\n",
              "      <th>eventid</th>\n",
              "      <th>iyear</th>\n",
              "      <th>imonth</th>\n",
              "      <th>iday</th>\n",
              "      <th>approxdate</th>\n",
              "      <th>extended</th>\n",
              "      <th>resolution</th>\n",
              "      <th>country</th>\n",
              "      <th>country_txt</th>\n",
              "      <th>region</th>\n",
              "      <th>...</th>\n",
              "      <th>addnotes</th>\n",
              "      <th>scite1</th>\n",
              "      <th>scite2</th>\n",
              "      <th>scite3</th>\n",
              "      <th>dbsource</th>\n",
              "      <th>INT_LOG</th>\n",
              "      <th>INT_IDEO</th>\n",
              "      <th>INT_MISC</th>\n",
              "      <th>INT_ANY</th>\n",
              "      <th>related</th>\n",
              "    </tr>\n",
              "  </thead>\n",
              "  <tbody>\n",
              "    <tr>\n",
              "      <th>0</th>\n",
              "      <td>197000000001</td>\n",
              "      <td>1970</td>\n",
              "      <td>7</td>\n",
              "      <td>2</td>\n",
              "      <td>NaN</td>\n",
              "      <td>0</td>\n",
              "      <td>NaN</td>\n",
              "      <td>58</td>\n",
              "      <td>Dominican Republic</td>\n",
              "      <td>2</td>\n",
              "      <td>...</td>\n",
              "      <td>NaN</td>\n",
              "      <td>NaN</td>\n",
              "      <td>NaN</td>\n",
              "      <td>NaN</td>\n",
              "      <td>PGIS</td>\n",
              "      <td>0</td>\n",
              "      <td>0</td>\n",
              "      <td>0</td>\n",
              "      <td>0</td>\n",
              "      <td>NaN</td>\n",
              "    </tr>\n",
              "    <tr>\n",
              "      <th>1</th>\n",
              "      <td>197000000002</td>\n",
              "      <td>1970</td>\n",
              "      <td>0</td>\n",
              "      <td>0</td>\n",
              "      <td>NaN</td>\n",
              "      <td>0</td>\n",
              "      <td>NaN</td>\n",
              "      <td>130</td>\n",
              "      <td>Mexico</td>\n",
              "      <td>1</td>\n",
              "      <td>...</td>\n",
              "      <td>NaN</td>\n",
              "      <td>NaN</td>\n",
              "      <td>NaN</td>\n",
              "      <td>NaN</td>\n",
              "      <td>PGIS</td>\n",
              "      <td>0</td>\n",
              "      <td>1</td>\n",
              "      <td>1</td>\n",
              "      <td>1</td>\n",
              "      <td>NaN</td>\n",
              "    </tr>\n",
              "    <tr>\n",
              "      <th>2</th>\n",
              "      <td>197001000001</td>\n",
              "      <td>1970</td>\n",
              "      <td>1</td>\n",
              "      <td>0</td>\n",
              "      <td>NaN</td>\n",
              "      <td>0</td>\n",
              "      <td>NaN</td>\n",
              "      <td>160</td>\n",
              "      <td>Philippines</td>\n",
              "      <td>5</td>\n",
              "      <td>...</td>\n",
              "      <td>NaN</td>\n",
              "      <td>NaN</td>\n",
              "      <td>NaN</td>\n",
              "      <td>NaN</td>\n",
              "      <td>PGIS</td>\n",
              "      <td>-9</td>\n",
              "      <td>-9</td>\n",
              "      <td>1</td>\n",
              "      <td>1</td>\n",
              "      <td>NaN</td>\n",
              "    </tr>\n",
              "    <tr>\n",
              "      <th>3</th>\n",
              "      <td>197001000002</td>\n",
              "      <td>1970</td>\n",
              "      <td>1</td>\n",
              "      <td>0</td>\n",
              "      <td>NaN</td>\n",
              "      <td>0</td>\n",
              "      <td>NaN</td>\n",
              "      <td>78</td>\n",
              "      <td>Greece</td>\n",
              "      <td>8</td>\n",
              "      <td>...</td>\n",
              "      <td>NaN</td>\n",
              "      <td>NaN</td>\n",
              "      <td>NaN</td>\n",
              "      <td>NaN</td>\n",
              "      <td>PGIS</td>\n",
              "      <td>-9</td>\n",
              "      <td>-9</td>\n",
              "      <td>1</td>\n",
              "      <td>1</td>\n",
              "      <td>NaN</td>\n",
              "    </tr>\n",
              "    <tr>\n",
              "      <th>4</th>\n",
              "      <td>197001000003</td>\n",
              "      <td>1970</td>\n",
              "      <td>1</td>\n",
              "      <td>0</td>\n",
              "      <td>NaN</td>\n",
              "      <td>0</td>\n",
              "      <td>NaN</td>\n",
              "      <td>101</td>\n",
              "      <td>Japan</td>\n",
              "      <td>4</td>\n",
              "      <td>...</td>\n",
              "      <td>NaN</td>\n",
              "      <td>NaN</td>\n",
              "      <td>NaN</td>\n",
              "      <td>NaN</td>\n",
              "      <td>PGIS</td>\n",
              "      <td>-9</td>\n",
              "      <td>-9</td>\n",
              "      <td>1</td>\n",
              "      <td>1</td>\n",
              "      <td>NaN</td>\n",
              "    </tr>\n",
              "  </tbody>\n",
              "</table>\n",
              "<p>5 rows × 135 columns</p>\n",
              "</div>\n",
              "      <button class=\"colab-df-convert\" onclick=\"convertToInteractive('df-d6906a6e-1888-4ec3-9b47-6932ea8edd0e')\"\n",
              "              title=\"Convert this dataframe to an interactive table.\"\n",
              "              style=\"display:none;\">\n",
              "        \n",
              "  <svg xmlns=\"http://www.w3.org/2000/svg\" height=\"24px\"viewBox=\"0 0 24 24\"\n",
              "       width=\"24px\">\n",
              "    <path d=\"M0 0h24v24H0V0z\" fill=\"none\"/>\n",
              "    <path d=\"M18.56 5.44l.94 2.06.94-2.06 2.06-.94-2.06-.94-.94-2.06-.94 2.06-2.06.94zm-11 1L8.5 8.5l.94-2.06 2.06-.94-2.06-.94L8.5 2.5l-.94 2.06-2.06.94zm10 10l.94 2.06.94-2.06 2.06-.94-2.06-.94-.94-2.06-.94 2.06-2.06.94z\"/><path d=\"M17.41 7.96l-1.37-1.37c-.4-.4-.92-.59-1.43-.59-.52 0-1.04.2-1.43.59L10.3 9.45l-7.72 7.72c-.78.78-.78 2.05 0 2.83L4 21.41c.39.39.9.59 1.41.59.51 0 1.02-.2 1.41-.59l7.78-7.78 2.81-2.81c.8-.78.8-2.07 0-2.86zM5.41 20L4 18.59l7.72-7.72 1.47 1.35L5.41 20z\"/>\n",
              "  </svg>\n",
              "      </button>\n",
              "      \n",
              "  <style>\n",
              "    .colab-df-container {\n",
              "      display:flex;\n",
              "      flex-wrap:wrap;\n",
              "      gap: 12px;\n",
              "    }\n",
              "\n",
              "    .colab-df-convert {\n",
              "      background-color: #E8F0FE;\n",
              "      border: none;\n",
              "      border-radius: 50%;\n",
              "      cursor: pointer;\n",
              "      display: none;\n",
              "      fill: #1967D2;\n",
              "      height: 32px;\n",
              "      padding: 0 0 0 0;\n",
              "      width: 32px;\n",
              "    }\n",
              "\n",
              "    .colab-df-convert:hover {\n",
              "      background-color: #E2EBFA;\n",
              "      box-shadow: 0px 1px 2px rgba(60, 64, 67, 0.3), 0px 1px 3px 1px rgba(60, 64, 67, 0.15);\n",
              "      fill: #174EA6;\n",
              "    }\n",
              "\n",
              "    [theme=dark] .colab-df-convert {\n",
              "      background-color: #3B4455;\n",
              "      fill: #D2E3FC;\n",
              "    }\n",
              "\n",
              "    [theme=dark] .colab-df-convert:hover {\n",
              "      background-color: #434B5C;\n",
              "      box-shadow: 0px 1px 3px 1px rgba(0, 0, 0, 0.15);\n",
              "      filter: drop-shadow(0px 1px 2px rgba(0, 0, 0, 0.3));\n",
              "      fill: #FFFFFF;\n",
              "    }\n",
              "  </style>\n",
              "\n",
              "      <script>\n",
              "        const buttonEl =\n",
              "          document.querySelector('#df-d6906a6e-1888-4ec3-9b47-6932ea8edd0e button.colab-df-convert');\n",
              "        buttonEl.style.display =\n",
              "          google.colab.kernel.accessAllowed ? 'block' : 'none';\n",
              "\n",
              "        async function convertToInteractive(key) {\n",
              "          const element = document.querySelector('#df-d6906a6e-1888-4ec3-9b47-6932ea8edd0e');\n",
              "          const dataTable =\n",
              "            await google.colab.kernel.invokeFunction('convertToInteractive',\n",
              "                                                     [key], {});\n",
              "          if (!dataTable) return;\n",
              "\n",
              "          const docLinkHtml = 'Like what you see? Visit the ' +\n",
              "            '<a target=\"_blank\" href=https://colab.research.google.com/notebooks/data_table.ipynb>data table notebook</a>'\n",
              "            + ' to learn more about interactive tables.';\n",
              "          element.innerHTML = '';\n",
              "          dataTable['output_type'] = 'display_data';\n",
              "          await google.colab.output.renderOutput(dataTable, element);\n",
              "          const docLink = document.createElement('div');\n",
              "          docLink.innerHTML = docLinkHtml;\n",
              "          element.appendChild(docLink);\n",
              "        }\n",
              "      </script>\n",
              "    </div>\n",
              "  </div>\n",
              "  "
            ]
          },
          "metadata": {},
          "execution_count": 4
        }
      ],
      "source": [
        "# lets see some top rows\n",
        "global_terrorism.head()"
      ]
    },
    {
      "cell_type": "code",
      "execution_count": 5,
      "metadata": {
        "colab": {
          "base_uri": "https://localhost:8080/",
          "height": 716
        },
        "id": "6yuXukCNSsKj",
        "outputId": "d30a9b9c-054b-4aab-d70d-34cc2b6f28b4"
      },
      "outputs": [
        {
          "output_type": "execute_result",
          "data": {
            "text/plain": [
              "             eventid  iyear  imonth  iday approxdate  extended resolution  \\\n",
              "181686  201712310022   2017      12    31        NaN         0        NaN   \n",
              "181687  201712310029   2017      12    31        NaN         0        NaN   \n",
              "181688  201712310030   2017      12    31        NaN         0        NaN   \n",
              "181689  201712310031   2017      12    31        NaN         0        NaN   \n",
              "181690  201712310032   2017      12    31        NaN         0        NaN   \n",
              "\n",
              "        country  country_txt  region  ... addnotes  \\\n",
              "181686      182      Somalia      11  ...      NaN   \n",
              "181687      200        Syria      10  ...      NaN   \n",
              "181688      160  Philippines       5  ...      NaN   \n",
              "181689       92        India       6  ...      NaN   \n",
              "181690      160  Philippines       5  ...      NaN   \n",
              "\n",
              "                                                   scite1  \\\n",
              "181686  \"Somalia: Al-Shabaab Militants Attack Army Che...   \n",
              "181687  \"Putin's 'victory' in Syria has turned into a ...   \n",
              "181688  \"Maguindanao clashes trap tribe members,\" Phil...   \n",
              "181689  \"Trader escapes grenade attack in Imphal,\" Bus...   \n",
              "181690  \"Security tightened in Cotabato following IED ...   \n",
              "\n",
              "                                                   scite2  \\\n",
              "181686  \"Highlights: Somalia Daily Media Highlights 2 ...   \n",
              "181687  \"Two Russian soldiers killed at Hmeymim base i...   \n",
              "181688                                                NaN   \n",
              "181689                                                NaN   \n",
              "181690  \"Security tightened in Cotabato City,\" Manila ...   \n",
              "\n",
              "                                                   scite3  \\\n",
              "181686  \"Highlights: Somalia Daily Media Highlights 1 ...   \n",
              "181687  \"Two Russian servicemen killed in Syria mortar...   \n",
              "181688                                                NaN   \n",
              "181689                                                NaN   \n",
              "181690                                                NaN   \n",
              "\n",
              "                        dbsource  INT_LOG  INT_IDEO INT_MISC INT_ANY  related  \n",
              "181686  START Primary Collection        0         0        0       0      NaN  \n",
              "181687  START Primary Collection       -9        -9        1       1      NaN  \n",
              "181688  START Primary Collection        0         0        0       0      NaN  \n",
              "181689  START Primary Collection       -9        -9        0      -9      NaN  \n",
              "181690  START Primary Collection       -9        -9        0      -9      NaN  \n",
              "\n",
              "[5 rows x 135 columns]"
            ],
            "text/html": [
              "\n",
              "  <div id=\"df-45166a16-8ccf-4189-a431-b893e6b79c88\">\n",
              "    <div class=\"colab-df-container\">\n",
              "      <div>\n",
              "<style scoped>\n",
              "    .dataframe tbody tr th:only-of-type {\n",
              "        vertical-align: middle;\n",
              "    }\n",
              "\n",
              "    .dataframe tbody tr th {\n",
              "        vertical-align: top;\n",
              "    }\n",
              "\n",
              "    .dataframe thead th {\n",
              "        text-align: right;\n",
              "    }\n",
              "</style>\n",
              "<table border=\"1\" class=\"dataframe\">\n",
              "  <thead>\n",
              "    <tr style=\"text-align: right;\">\n",
              "      <th></th>\n",
              "      <th>eventid</th>\n",
              "      <th>iyear</th>\n",
              "      <th>imonth</th>\n",
              "      <th>iday</th>\n",
              "      <th>approxdate</th>\n",
              "      <th>extended</th>\n",
              "      <th>resolution</th>\n",
              "      <th>country</th>\n",
              "      <th>country_txt</th>\n",
              "      <th>region</th>\n",
              "      <th>...</th>\n",
              "      <th>addnotes</th>\n",
              "      <th>scite1</th>\n",
              "      <th>scite2</th>\n",
              "      <th>scite3</th>\n",
              "      <th>dbsource</th>\n",
              "      <th>INT_LOG</th>\n",
              "      <th>INT_IDEO</th>\n",
              "      <th>INT_MISC</th>\n",
              "      <th>INT_ANY</th>\n",
              "      <th>related</th>\n",
              "    </tr>\n",
              "  </thead>\n",
              "  <tbody>\n",
              "    <tr>\n",
              "      <th>181686</th>\n",
              "      <td>201712310022</td>\n",
              "      <td>2017</td>\n",
              "      <td>12</td>\n",
              "      <td>31</td>\n",
              "      <td>NaN</td>\n",
              "      <td>0</td>\n",
              "      <td>NaN</td>\n",
              "      <td>182</td>\n",
              "      <td>Somalia</td>\n",
              "      <td>11</td>\n",
              "      <td>...</td>\n",
              "      <td>NaN</td>\n",
              "      <td>\"Somalia: Al-Shabaab Militants Attack Army Che...</td>\n",
              "      <td>\"Highlights: Somalia Daily Media Highlights 2 ...</td>\n",
              "      <td>\"Highlights: Somalia Daily Media Highlights 1 ...</td>\n",
              "      <td>START Primary Collection</td>\n",
              "      <td>0</td>\n",
              "      <td>0</td>\n",
              "      <td>0</td>\n",
              "      <td>0</td>\n",
              "      <td>NaN</td>\n",
              "    </tr>\n",
              "    <tr>\n",
              "      <th>181687</th>\n",
              "      <td>201712310029</td>\n",
              "      <td>2017</td>\n",
              "      <td>12</td>\n",
              "      <td>31</td>\n",
              "      <td>NaN</td>\n",
              "      <td>0</td>\n",
              "      <td>NaN</td>\n",
              "      <td>200</td>\n",
              "      <td>Syria</td>\n",
              "      <td>10</td>\n",
              "      <td>...</td>\n",
              "      <td>NaN</td>\n",
              "      <td>\"Putin's 'victory' in Syria has turned into a ...</td>\n",
              "      <td>\"Two Russian soldiers killed at Hmeymim base i...</td>\n",
              "      <td>\"Two Russian servicemen killed in Syria mortar...</td>\n",
              "      <td>START Primary Collection</td>\n",
              "      <td>-9</td>\n",
              "      <td>-9</td>\n",
              "      <td>1</td>\n",
              "      <td>1</td>\n",
              "      <td>NaN</td>\n",
              "    </tr>\n",
              "    <tr>\n",
              "      <th>181688</th>\n",
              "      <td>201712310030</td>\n",
              "      <td>2017</td>\n",
              "      <td>12</td>\n",
              "      <td>31</td>\n",
              "      <td>NaN</td>\n",
              "      <td>0</td>\n",
              "      <td>NaN</td>\n",
              "      <td>160</td>\n",
              "      <td>Philippines</td>\n",
              "      <td>5</td>\n",
              "      <td>...</td>\n",
              "      <td>NaN</td>\n",
              "      <td>\"Maguindanao clashes trap tribe members,\" Phil...</td>\n",
              "      <td>NaN</td>\n",
              "      <td>NaN</td>\n",
              "      <td>START Primary Collection</td>\n",
              "      <td>0</td>\n",
              "      <td>0</td>\n",
              "      <td>0</td>\n",
              "      <td>0</td>\n",
              "      <td>NaN</td>\n",
              "    </tr>\n",
              "    <tr>\n",
              "      <th>181689</th>\n",
              "      <td>201712310031</td>\n",
              "      <td>2017</td>\n",
              "      <td>12</td>\n",
              "      <td>31</td>\n",
              "      <td>NaN</td>\n",
              "      <td>0</td>\n",
              "      <td>NaN</td>\n",
              "      <td>92</td>\n",
              "      <td>India</td>\n",
              "      <td>6</td>\n",
              "      <td>...</td>\n",
              "      <td>NaN</td>\n",
              "      <td>\"Trader escapes grenade attack in Imphal,\" Bus...</td>\n",
              "      <td>NaN</td>\n",
              "      <td>NaN</td>\n",
              "      <td>START Primary Collection</td>\n",
              "      <td>-9</td>\n",
              "      <td>-9</td>\n",
              "      <td>0</td>\n",
              "      <td>-9</td>\n",
              "      <td>NaN</td>\n",
              "    </tr>\n",
              "    <tr>\n",
              "      <th>181690</th>\n",
              "      <td>201712310032</td>\n",
              "      <td>2017</td>\n",
              "      <td>12</td>\n",
              "      <td>31</td>\n",
              "      <td>NaN</td>\n",
              "      <td>0</td>\n",
              "      <td>NaN</td>\n",
              "      <td>160</td>\n",
              "      <td>Philippines</td>\n",
              "      <td>5</td>\n",
              "      <td>...</td>\n",
              "      <td>NaN</td>\n",
              "      <td>\"Security tightened in Cotabato following IED ...</td>\n",
              "      <td>\"Security tightened in Cotabato City,\" Manila ...</td>\n",
              "      <td>NaN</td>\n",
              "      <td>START Primary Collection</td>\n",
              "      <td>-9</td>\n",
              "      <td>-9</td>\n",
              "      <td>0</td>\n",
              "      <td>-9</td>\n",
              "      <td>NaN</td>\n",
              "    </tr>\n",
              "  </tbody>\n",
              "</table>\n",
              "<p>5 rows × 135 columns</p>\n",
              "</div>\n",
              "      <button class=\"colab-df-convert\" onclick=\"convertToInteractive('df-45166a16-8ccf-4189-a431-b893e6b79c88')\"\n",
              "              title=\"Convert this dataframe to an interactive table.\"\n",
              "              style=\"display:none;\">\n",
              "        \n",
              "  <svg xmlns=\"http://www.w3.org/2000/svg\" height=\"24px\"viewBox=\"0 0 24 24\"\n",
              "       width=\"24px\">\n",
              "    <path d=\"M0 0h24v24H0V0z\" fill=\"none\"/>\n",
              "    <path d=\"M18.56 5.44l.94 2.06.94-2.06 2.06-.94-2.06-.94-.94-2.06-.94 2.06-2.06.94zm-11 1L8.5 8.5l.94-2.06 2.06-.94-2.06-.94L8.5 2.5l-.94 2.06-2.06.94zm10 10l.94 2.06.94-2.06 2.06-.94-2.06-.94-.94-2.06-.94 2.06-2.06.94z\"/><path d=\"M17.41 7.96l-1.37-1.37c-.4-.4-.92-.59-1.43-.59-.52 0-1.04.2-1.43.59L10.3 9.45l-7.72 7.72c-.78.78-.78 2.05 0 2.83L4 21.41c.39.39.9.59 1.41.59.51 0 1.02-.2 1.41-.59l7.78-7.78 2.81-2.81c.8-.78.8-2.07 0-2.86zM5.41 20L4 18.59l7.72-7.72 1.47 1.35L5.41 20z\"/>\n",
              "  </svg>\n",
              "      </button>\n",
              "      \n",
              "  <style>\n",
              "    .colab-df-container {\n",
              "      display:flex;\n",
              "      flex-wrap:wrap;\n",
              "      gap: 12px;\n",
              "    }\n",
              "\n",
              "    .colab-df-convert {\n",
              "      background-color: #E8F0FE;\n",
              "      border: none;\n",
              "      border-radius: 50%;\n",
              "      cursor: pointer;\n",
              "      display: none;\n",
              "      fill: #1967D2;\n",
              "      height: 32px;\n",
              "      padding: 0 0 0 0;\n",
              "      width: 32px;\n",
              "    }\n",
              "\n",
              "    .colab-df-convert:hover {\n",
              "      background-color: #E2EBFA;\n",
              "      box-shadow: 0px 1px 2px rgba(60, 64, 67, 0.3), 0px 1px 3px 1px rgba(60, 64, 67, 0.15);\n",
              "      fill: #174EA6;\n",
              "    }\n",
              "\n",
              "    [theme=dark] .colab-df-convert {\n",
              "      background-color: #3B4455;\n",
              "      fill: #D2E3FC;\n",
              "    }\n",
              "\n",
              "    [theme=dark] .colab-df-convert:hover {\n",
              "      background-color: #434B5C;\n",
              "      box-shadow: 0px 1px 3px 1px rgba(0, 0, 0, 0.15);\n",
              "      filter: drop-shadow(0px 1px 2px rgba(0, 0, 0, 0.3));\n",
              "      fill: #FFFFFF;\n",
              "    }\n",
              "  </style>\n",
              "\n",
              "      <script>\n",
              "        const buttonEl =\n",
              "          document.querySelector('#df-45166a16-8ccf-4189-a431-b893e6b79c88 button.colab-df-convert');\n",
              "        buttonEl.style.display =\n",
              "          google.colab.kernel.accessAllowed ? 'block' : 'none';\n",
              "\n",
              "        async function convertToInteractive(key) {\n",
              "          const element = document.querySelector('#df-45166a16-8ccf-4189-a431-b893e6b79c88');\n",
              "          const dataTable =\n",
              "            await google.colab.kernel.invokeFunction('convertToInteractive',\n",
              "                                                     [key], {});\n",
              "          if (!dataTable) return;\n",
              "\n",
              "          const docLinkHtml = 'Like what you see? Visit the ' +\n",
              "            '<a target=\"_blank\" href=https://colab.research.google.com/notebooks/data_table.ipynb>data table notebook</a>'\n",
              "            + ' to learn more about interactive tables.';\n",
              "          element.innerHTML = '';\n",
              "          dataTable['output_type'] = 'display_data';\n",
              "          await google.colab.output.renderOutput(dataTable, element);\n",
              "          const docLink = document.createElement('div');\n",
              "          docLink.innerHTML = docLinkHtml;\n",
              "          element.appendChild(docLink);\n",
              "        }\n",
              "      </script>\n",
              "    </div>\n",
              "  </div>\n",
              "  "
            ]
          },
          "metadata": {},
          "execution_count": 5
        }
      ],
      "source": [
        "# let see some bottom rows\n",
        "global_terrorism.tail()"
      ]
    },
    {
      "cell_type": "code",
      "execution_count": 6,
      "metadata": {
        "colab": {
          "base_uri": "https://localhost:8080/"
        },
        "id": "xMnGvOHOS0uH",
        "outputId": "670048a6-71b1-43a9-eb0f-59000cbf83ca"
      },
      "outputs": [
        {
          "output_type": "execute_result",
          "data": {
            "text/plain": [
              "(181691, 135)"
            ]
          },
          "metadata": {},
          "execution_count": 6
        }
      ],
      "source": [
        "# shape of tha dataframe\n",
        "global_terrorism.shape"
      ]
    },
    {
      "cell_type": "code",
      "execution_count": 7,
      "metadata": {
        "colab": {
          "base_uri": "https://localhost:8080/"
        },
        "id": "GUA2pusUPfYl",
        "outputId": "043eb234-5146-418e-951f-74c25804f8a8"
      },
      "outputs": [
        {
          "output_type": "stream",
          "name": "stdout",
          "text": [
            "Index(['eventid', 'iyear', 'imonth', 'iday', 'approxdate', 'extended',\n",
            "       'resolution', 'country', 'country_txt', 'region',\n",
            "       ...\n",
            "       'addnotes', 'scite1', 'scite2', 'scite3', 'dbsource', 'INT_LOG',\n",
            "       'INT_IDEO', 'INT_MISC', 'INT_ANY', 'related'],\n",
            "      dtype='object', length=135)\n"
          ]
        }
      ],
      "source": [
        "# printing the columns name of dataframe \n",
        "print(global_terrorism.columns)"
      ]
    },
    {
      "cell_type": "code",
      "execution_count": 8,
      "metadata": {
        "colab": {
          "base_uri": "https://localhost:8080/"
        },
        "id": "DbrFotq3PT9z",
        "outputId": "aa1c8288-32d3-41a4-89f3-147481dc2fef"
      },
      "outputs": [
        {
          "output_type": "stream",
          "name": "stdout",
          "text": [
            "<class 'pandas.core.frame.DataFrame'>\n",
            "RangeIndex: 181691 entries, 0 to 181690\n",
            "Columns: 135 entries, eventid to related\n",
            "dtypes: float64(55), int64(22), object(58)\n",
            "memory usage: 187.1+ MB\n"
          ]
        }
      ],
      "source": [
        "# print technical information of the dataframe\n",
        "global_terrorism.info()"
      ]
    },
    {
      "cell_type": "code",
      "execution_count": 9,
      "metadata": {
        "colab": {
          "base_uri": "https://localhost:8080/",
          "height": 394
        },
        "id": "XlSFcfjQPdFs",
        "outputId": "46d15307-440c-4b8e-c6fb-f1803808ab9c"
      },
      "outputs": [
        {
          "output_type": "execute_result",
          "data": {
            "text/plain": [
              "            eventid          iyear         imonth           iday  \\\n",
              "count  1.816910e+05  181691.000000  181691.000000  181691.000000   \n",
              "mean   2.002705e+11    2002.638997       6.467277      15.505644   \n",
              "std    1.325957e+09      13.259430       3.388303       8.814045   \n",
              "min    1.970000e+11    1970.000000       0.000000       0.000000   \n",
              "25%    1.991021e+11    1991.000000       4.000000       8.000000   \n",
              "50%    2.009022e+11    2009.000000       6.000000      15.000000   \n",
              "75%    2.014081e+11    2014.000000       9.000000      23.000000   \n",
              "max    2.017123e+11    2017.000000      12.000000      31.000000   \n",
              "\n",
              "            extended        country         region       latitude  \\\n",
              "count  181691.000000  181691.000000  181691.000000  177135.000000   \n",
              "mean        0.045346     131.968501       7.160938      23.498343   \n",
              "std         0.208063     112.414535       2.933408      18.569242   \n",
              "min         0.000000       4.000000       1.000000     -53.154613   \n",
              "25%         0.000000      78.000000       5.000000      11.510046   \n",
              "50%         0.000000      98.000000       6.000000      31.467463   \n",
              "75%         0.000000     160.000000      10.000000      34.685087   \n",
              "max         1.000000    1004.000000      12.000000      74.633553   \n",
              "\n",
              "          longitude    specificity  ...     ransomamt   ransomamtus  \\\n",
              "count  1.771340e+05  181685.000000  ...  1.350000e+03  5.630000e+02   \n",
              "mean  -4.586957e+02       1.451452  ...  3.172530e+06  5.784865e+05   \n",
              "std    2.047790e+05       0.995430  ...  3.021157e+07  7.077924e+06   \n",
              "min   -8.618590e+07       1.000000  ... -9.900000e+01 -9.900000e+01   \n",
              "25%    4.545640e+00       1.000000  ...  0.000000e+00  0.000000e+00   \n",
              "50%    4.324651e+01       1.000000  ...  1.500000e+04  0.000000e+00   \n",
              "75%    6.871033e+01       1.000000  ...  4.000000e+05  0.000000e+00   \n",
              "max    1.793667e+02       5.000000  ...  1.000000e+09  1.320000e+08   \n",
              "\n",
              "         ransompaid  ransompaidus  hostkidoutcome     nreleased  \\\n",
              "count  7.740000e+02    552.000000    10991.000000  10400.000000   \n",
              "mean   7.179437e+05    240.378623        4.629242    -29.018269   \n",
              "std    1.014392e+07   2940.967293        2.035360     65.720119   \n",
              "min   -9.900000e+01    -99.000000        1.000000    -99.000000   \n",
              "25%   -9.900000e+01      0.000000        2.000000    -99.000000   \n",
              "50%    0.000000e+00      0.000000        4.000000      0.000000   \n",
              "75%    1.273412e+03      0.000000        7.000000      1.000000   \n",
              "max    2.750000e+08  48000.000000        7.000000   2769.000000   \n",
              "\n",
              "             INT_LOG       INT_IDEO       INT_MISC        INT_ANY  \n",
              "count  181691.000000  181691.000000  181691.000000  181691.000000  \n",
              "mean       -4.543731      -4.464398       0.090010      -3.945952  \n",
              "std         4.543547       4.637152       0.568457       4.691325  \n",
              "min        -9.000000      -9.000000      -9.000000      -9.000000  \n",
              "25%        -9.000000      -9.000000       0.000000      -9.000000  \n",
              "50%        -9.000000      -9.000000       0.000000       0.000000  \n",
              "75%         0.000000       0.000000       0.000000       0.000000  \n",
              "max         1.000000       1.000000       1.000000       1.000000  \n",
              "\n",
              "[8 rows x 77 columns]"
            ],
            "text/html": [
              "\n",
              "  <div id=\"df-b9712ce8-ca59-457a-a4eb-cb6424d0a4b7\">\n",
              "    <div class=\"colab-df-container\">\n",
              "      <div>\n",
              "<style scoped>\n",
              "    .dataframe tbody tr th:only-of-type {\n",
              "        vertical-align: middle;\n",
              "    }\n",
              "\n",
              "    .dataframe tbody tr th {\n",
              "        vertical-align: top;\n",
              "    }\n",
              "\n",
              "    .dataframe thead th {\n",
              "        text-align: right;\n",
              "    }\n",
              "</style>\n",
              "<table border=\"1\" class=\"dataframe\">\n",
              "  <thead>\n",
              "    <tr style=\"text-align: right;\">\n",
              "      <th></th>\n",
              "      <th>eventid</th>\n",
              "      <th>iyear</th>\n",
              "      <th>imonth</th>\n",
              "      <th>iday</th>\n",
              "      <th>extended</th>\n",
              "      <th>country</th>\n",
              "      <th>region</th>\n",
              "      <th>latitude</th>\n",
              "      <th>longitude</th>\n",
              "      <th>specificity</th>\n",
              "      <th>...</th>\n",
              "      <th>ransomamt</th>\n",
              "      <th>ransomamtus</th>\n",
              "      <th>ransompaid</th>\n",
              "      <th>ransompaidus</th>\n",
              "      <th>hostkidoutcome</th>\n",
              "      <th>nreleased</th>\n",
              "      <th>INT_LOG</th>\n",
              "      <th>INT_IDEO</th>\n",
              "      <th>INT_MISC</th>\n",
              "      <th>INT_ANY</th>\n",
              "    </tr>\n",
              "  </thead>\n",
              "  <tbody>\n",
              "    <tr>\n",
              "      <th>count</th>\n",
              "      <td>1.816910e+05</td>\n",
              "      <td>181691.000000</td>\n",
              "      <td>181691.000000</td>\n",
              "      <td>181691.000000</td>\n",
              "      <td>181691.000000</td>\n",
              "      <td>181691.000000</td>\n",
              "      <td>181691.000000</td>\n",
              "      <td>177135.000000</td>\n",
              "      <td>1.771340e+05</td>\n",
              "      <td>181685.000000</td>\n",
              "      <td>...</td>\n",
              "      <td>1.350000e+03</td>\n",
              "      <td>5.630000e+02</td>\n",
              "      <td>7.740000e+02</td>\n",
              "      <td>552.000000</td>\n",
              "      <td>10991.000000</td>\n",
              "      <td>10400.000000</td>\n",
              "      <td>181691.000000</td>\n",
              "      <td>181691.000000</td>\n",
              "      <td>181691.000000</td>\n",
              "      <td>181691.000000</td>\n",
              "    </tr>\n",
              "    <tr>\n",
              "      <th>mean</th>\n",
              "      <td>2.002705e+11</td>\n",
              "      <td>2002.638997</td>\n",
              "      <td>6.467277</td>\n",
              "      <td>15.505644</td>\n",
              "      <td>0.045346</td>\n",
              "      <td>131.968501</td>\n",
              "      <td>7.160938</td>\n",
              "      <td>23.498343</td>\n",
              "      <td>-4.586957e+02</td>\n",
              "      <td>1.451452</td>\n",
              "      <td>...</td>\n",
              "      <td>3.172530e+06</td>\n",
              "      <td>5.784865e+05</td>\n",
              "      <td>7.179437e+05</td>\n",
              "      <td>240.378623</td>\n",
              "      <td>4.629242</td>\n",
              "      <td>-29.018269</td>\n",
              "      <td>-4.543731</td>\n",
              "      <td>-4.464398</td>\n",
              "      <td>0.090010</td>\n",
              "      <td>-3.945952</td>\n",
              "    </tr>\n",
              "    <tr>\n",
              "      <th>std</th>\n",
              "      <td>1.325957e+09</td>\n",
              "      <td>13.259430</td>\n",
              "      <td>3.388303</td>\n",
              "      <td>8.814045</td>\n",
              "      <td>0.208063</td>\n",
              "      <td>112.414535</td>\n",
              "      <td>2.933408</td>\n",
              "      <td>18.569242</td>\n",
              "      <td>2.047790e+05</td>\n",
              "      <td>0.995430</td>\n",
              "      <td>...</td>\n",
              "      <td>3.021157e+07</td>\n",
              "      <td>7.077924e+06</td>\n",
              "      <td>1.014392e+07</td>\n",
              "      <td>2940.967293</td>\n",
              "      <td>2.035360</td>\n",
              "      <td>65.720119</td>\n",
              "      <td>4.543547</td>\n",
              "      <td>4.637152</td>\n",
              "      <td>0.568457</td>\n",
              "      <td>4.691325</td>\n",
              "    </tr>\n",
              "    <tr>\n",
              "      <th>min</th>\n",
              "      <td>1.970000e+11</td>\n",
              "      <td>1970.000000</td>\n",
              "      <td>0.000000</td>\n",
              "      <td>0.000000</td>\n",
              "      <td>0.000000</td>\n",
              "      <td>4.000000</td>\n",
              "      <td>1.000000</td>\n",
              "      <td>-53.154613</td>\n",
              "      <td>-8.618590e+07</td>\n",
              "      <td>1.000000</td>\n",
              "      <td>...</td>\n",
              "      <td>-9.900000e+01</td>\n",
              "      <td>-9.900000e+01</td>\n",
              "      <td>-9.900000e+01</td>\n",
              "      <td>-99.000000</td>\n",
              "      <td>1.000000</td>\n",
              "      <td>-99.000000</td>\n",
              "      <td>-9.000000</td>\n",
              "      <td>-9.000000</td>\n",
              "      <td>-9.000000</td>\n",
              "      <td>-9.000000</td>\n",
              "    </tr>\n",
              "    <tr>\n",
              "      <th>25%</th>\n",
              "      <td>1.991021e+11</td>\n",
              "      <td>1991.000000</td>\n",
              "      <td>4.000000</td>\n",
              "      <td>8.000000</td>\n",
              "      <td>0.000000</td>\n",
              "      <td>78.000000</td>\n",
              "      <td>5.000000</td>\n",
              "      <td>11.510046</td>\n",
              "      <td>4.545640e+00</td>\n",
              "      <td>1.000000</td>\n",
              "      <td>...</td>\n",
              "      <td>0.000000e+00</td>\n",
              "      <td>0.000000e+00</td>\n",
              "      <td>-9.900000e+01</td>\n",
              "      <td>0.000000</td>\n",
              "      <td>2.000000</td>\n",
              "      <td>-99.000000</td>\n",
              "      <td>-9.000000</td>\n",
              "      <td>-9.000000</td>\n",
              "      <td>0.000000</td>\n",
              "      <td>-9.000000</td>\n",
              "    </tr>\n",
              "    <tr>\n",
              "      <th>50%</th>\n",
              "      <td>2.009022e+11</td>\n",
              "      <td>2009.000000</td>\n",
              "      <td>6.000000</td>\n",
              "      <td>15.000000</td>\n",
              "      <td>0.000000</td>\n",
              "      <td>98.000000</td>\n",
              "      <td>6.000000</td>\n",
              "      <td>31.467463</td>\n",
              "      <td>4.324651e+01</td>\n",
              "      <td>1.000000</td>\n",
              "      <td>...</td>\n",
              "      <td>1.500000e+04</td>\n",
              "      <td>0.000000e+00</td>\n",
              "      <td>0.000000e+00</td>\n",
              "      <td>0.000000</td>\n",
              "      <td>4.000000</td>\n",
              "      <td>0.000000</td>\n",
              "      <td>-9.000000</td>\n",
              "      <td>-9.000000</td>\n",
              "      <td>0.000000</td>\n",
              "      <td>0.000000</td>\n",
              "    </tr>\n",
              "    <tr>\n",
              "      <th>75%</th>\n",
              "      <td>2.014081e+11</td>\n",
              "      <td>2014.000000</td>\n",
              "      <td>9.000000</td>\n",
              "      <td>23.000000</td>\n",
              "      <td>0.000000</td>\n",
              "      <td>160.000000</td>\n",
              "      <td>10.000000</td>\n",
              "      <td>34.685087</td>\n",
              "      <td>6.871033e+01</td>\n",
              "      <td>1.000000</td>\n",
              "      <td>...</td>\n",
              "      <td>4.000000e+05</td>\n",
              "      <td>0.000000e+00</td>\n",
              "      <td>1.273412e+03</td>\n",
              "      <td>0.000000</td>\n",
              "      <td>7.000000</td>\n",
              "      <td>1.000000</td>\n",
              "      <td>0.000000</td>\n",
              "      <td>0.000000</td>\n",
              "      <td>0.000000</td>\n",
              "      <td>0.000000</td>\n",
              "    </tr>\n",
              "    <tr>\n",
              "      <th>max</th>\n",
              "      <td>2.017123e+11</td>\n",
              "      <td>2017.000000</td>\n",
              "      <td>12.000000</td>\n",
              "      <td>31.000000</td>\n",
              "      <td>1.000000</td>\n",
              "      <td>1004.000000</td>\n",
              "      <td>12.000000</td>\n",
              "      <td>74.633553</td>\n",
              "      <td>1.793667e+02</td>\n",
              "      <td>5.000000</td>\n",
              "      <td>...</td>\n",
              "      <td>1.000000e+09</td>\n",
              "      <td>1.320000e+08</td>\n",
              "      <td>2.750000e+08</td>\n",
              "      <td>48000.000000</td>\n",
              "      <td>7.000000</td>\n",
              "      <td>2769.000000</td>\n",
              "      <td>1.000000</td>\n",
              "      <td>1.000000</td>\n",
              "      <td>1.000000</td>\n",
              "      <td>1.000000</td>\n",
              "    </tr>\n",
              "  </tbody>\n",
              "</table>\n",
              "<p>8 rows × 77 columns</p>\n",
              "</div>\n",
              "      <button class=\"colab-df-convert\" onclick=\"convertToInteractive('df-b9712ce8-ca59-457a-a4eb-cb6424d0a4b7')\"\n",
              "              title=\"Convert this dataframe to an interactive table.\"\n",
              "              style=\"display:none;\">\n",
              "        \n",
              "  <svg xmlns=\"http://www.w3.org/2000/svg\" height=\"24px\"viewBox=\"0 0 24 24\"\n",
              "       width=\"24px\">\n",
              "    <path d=\"M0 0h24v24H0V0z\" fill=\"none\"/>\n",
              "    <path d=\"M18.56 5.44l.94 2.06.94-2.06 2.06-.94-2.06-.94-.94-2.06-.94 2.06-2.06.94zm-11 1L8.5 8.5l.94-2.06 2.06-.94-2.06-.94L8.5 2.5l-.94 2.06-2.06.94zm10 10l.94 2.06.94-2.06 2.06-.94-2.06-.94-.94-2.06-.94 2.06-2.06.94z\"/><path d=\"M17.41 7.96l-1.37-1.37c-.4-.4-.92-.59-1.43-.59-.52 0-1.04.2-1.43.59L10.3 9.45l-7.72 7.72c-.78.78-.78 2.05 0 2.83L4 21.41c.39.39.9.59 1.41.59.51 0 1.02-.2 1.41-.59l7.78-7.78 2.81-2.81c.8-.78.8-2.07 0-2.86zM5.41 20L4 18.59l7.72-7.72 1.47 1.35L5.41 20z\"/>\n",
              "  </svg>\n",
              "      </button>\n",
              "      \n",
              "  <style>\n",
              "    .colab-df-container {\n",
              "      display:flex;\n",
              "      flex-wrap:wrap;\n",
              "      gap: 12px;\n",
              "    }\n",
              "\n",
              "    .colab-df-convert {\n",
              "      background-color: #E8F0FE;\n",
              "      border: none;\n",
              "      border-radius: 50%;\n",
              "      cursor: pointer;\n",
              "      display: none;\n",
              "      fill: #1967D2;\n",
              "      height: 32px;\n",
              "      padding: 0 0 0 0;\n",
              "      width: 32px;\n",
              "    }\n",
              "\n",
              "    .colab-df-convert:hover {\n",
              "      background-color: #E2EBFA;\n",
              "      box-shadow: 0px 1px 2px rgba(60, 64, 67, 0.3), 0px 1px 3px 1px rgba(60, 64, 67, 0.15);\n",
              "      fill: #174EA6;\n",
              "    }\n",
              "\n",
              "    [theme=dark] .colab-df-convert {\n",
              "      background-color: #3B4455;\n",
              "      fill: #D2E3FC;\n",
              "    }\n",
              "\n",
              "    [theme=dark] .colab-df-convert:hover {\n",
              "      background-color: #434B5C;\n",
              "      box-shadow: 0px 1px 3px 1px rgba(0, 0, 0, 0.15);\n",
              "      filter: drop-shadow(0px 1px 2px rgba(0, 0, 0, 0.3));\n",
              "      fill: #FFFFFF;\n",
              "    }\n",
              "  </style>\n",
              "\n",
              "      <script>\n",
              "        const buttonEl =\n",
              "          document.querySelector('#df-b9712ce8-ca59-457a-a4eb-cb6424d0a4b7 button.colab-df-convert');\n",
              "        buttonEl.style.display =\n",
              "          google.colab.kernel.accessAllowed ? 'block' : 'none';\n",
              "\n",
              "        async function convertToInteractive(key) {\n",
              "          const element = document.querySelector('#df-b9712ce8-ca59-457a-a4eb-cb6424d0a4b7');\n",
              "          const dataTable =\n",
              "            await google.colab.kernel.invokeFunction('convertToInteractive',\n",
              "                                                     [key], {});\n",
              "          if (!dataTable) return;\n",
              "\n",
              "          const docLinkHtml = 'Like what you see? Visit the ' +\n",
              "            '<a target=\"_blank\" href=https://colab.research.google.com/notebooks/data_table.ipynb>data table notebook</a>'\n",
              "            + ' to learn more about interactive tables.';\n",
              "          element.innerHTML = '';\n",
              "          dataTable['output_type'] = 'display_data';\n",
              "          await google.colab.output.renderOutput(dataTable, element);\n",
              "          const docLink = document.createElement('div');\n",
              "          docLink.innerHTML = docLinkHtml;\n",
              "          element.appendChild(docLink);\n",
              "        }\n",
              "      </script>\n",
              "    </div>\n",
              "  </div>\n",
              "  "
            ]
          },
          "metadata": {},
          "execution_count": 9
        }
      ],
      "source": [
        "# use describe for the statistical pertaining to the dataframe of columns\n",
        "global_terrorism.describe()"
      ]
    },
    {
      "cell_type": "markdown",
      "metadata": {
        "id": "Fr-I6J5jOJG1"
      },
      "source": [
        "## ***data cleaning***"
      ]
    },
    {
      "cell_type": "code",
      "execution_count": 10,
      "metadata": {
        "id": "sE2Q0GVGR6tI"
      },
      "outputs": [],
      "source": [
        "# rename the columns name for easy to analysis\n",
        "global_terrorism.rename(columns={'iyear':'Year','imonth':'Month','iday':'Day','country_txt':'Country','provstate':'State',\n",
        "                          'region_txt':'Region','attacktype1_txt':'Attack_Type','targtype1_txt':'Main_Target','nkill':'Killed',\n",
        "                          'nwound':'Wounded','gname':'Gang_Name',\n",
        "                          'weaptype1_txt':'Weapon_Type','latitude':'Latitude',\n",
        "                          'longitude':'Longitude','targsubtype1_txt':'Sub_Target',\n",
        "                          'natlty1_txt':'Nationality',},inplace=True)"
      ]
    },
    {
      "cell_type": "code",
      "execution_count": 11,
      "metadata": {
        "colab": {
          "base_uri": "https://localhost:8080/",
          "height": 317
        },
        "id": "cO_bzMJldAIs",
        "outputId": "786346ef-e300-4110-98fb-edb42c455482"
      },
      "outputs": [
        {
          "output_type": "execute_result",
          "data": {
            "text/plain": [
              "        eventid  Year  Month  Day approxdate  extended resolution  country  \\\n",
              "0  197000000001  1970      7    2        NaN         0        NaN       58   \n",
              "1  197000000002  1970      0    0        NaN         0        NaN      130   \n",
              "2  197001000001  1970      1    0        NaN         0        NaN      160   \n",
              "3  197001000002  1970      1    0        NaN         0        NaN       78   \n",
              "4  197001000003  1970      1    0        NaN         0        NaN      101   \n",
              "\n",
              "              Country  region  ... addnotes scite1 scite2  scite3  dbsource  \\\n",
              "0  Dominican Republic       2  ...      NaN    NaN    NaN     NaN      PGIS   \n",
              "1              Mexico       1  ...      NaN    NaN    NaN     NaN      PGIS   \n",
              "2         Philippines       5  ...      NaN    NaN    NaN     NaN      PGIS   \n",
              "3              Greece       8  ...      NaN    NaN    NaN     NaN      PGIS   \n",
              "4               Japan       4  ...      NaN    NaN    NaN     NaN      PGIS   \n",
              "\n",
              "   INT_LOG  INT_IDEO INT_MISC INT_ANY  related  \n",
              "0        0         0        0       0      NaN  \n",
              "1        0         1        1       1      NaN  \n",
              "2       -9        -9        1       1      NaN  \n",
              "3       -9        -9        1       1      NaN  \n",
              "4       -9        -9        1       1      NaN  \n",
              "\n",
              "[5 rows x 135 columns]"
            ],
            "text/html": [
              "\n",
              "  <div id=\"df-4f995e74-d1da-4b63-ac34-12eda537dd67\">\n",
              "    <div class=\"colab-df-container\">\n",
              "      <div>\n",
              "<style scoped>\n",
              "    .dataframe tbody tr th:only-of-type {\n",
              "        vertical-align: middle;\n",
              "    }\n",
              "\n",
              "    .dataframe tbody tr th {\n",
              "        vertical-align: top;\n",
              "    }\n",
              "\n",
              "    .dataframe thead th {\n",
              "        text-align: right;\n",
              "    }\n",
              "</style>\n",
              "<table border=\"1\" class=\"dataframe\">\n",
              "  <thead>\n",
              "    <tr style=\"text-align: right;\">\n",
              "      <th></th>\n",
              "      <th>eventid</th>\n",
              "      <th>Year</th>\n",
              "      <th>Month</th>\n",
              "      <th>Day</th>\n",
              "      <th>approxdate</th>\n",
              "      <th>extended</th>\n",
              "      <th>resolution</th>\n",
              "      <th>country</th>\n",
              "      <th>Country</th>\n",
              "      <th>region</th>\n",
              "      <th>...</th>\n",
              "      <th>addnotes</th>\n",
              "      <th>scite1</th>\n",
              "      <th>scite2</th>\n",
              "      <th>scite3</th>\n",
              "      <th>dbsource</th>\n",
              "      <th>INT_LOG</th>\n",
              "      <th>INT_IDEO</th>\n",
              "      <th>INT_MISC</th>\n",
              "      <th>INT_ANY</th>\n",
              "      <th>related</th>\n",
              "    </tr>\n",
              "  </thead>\n",
              "  <tbody>\n",
              "    <tr>\n",
              "      <th>0</th>\n",
              "      <td>197000000001</td>\n",
              "      <td>1970</td>\n",
              "      <td>7</td>\n",
              "      <td>2</td>\n",
              "      <td>NaN</td>\n",
              "      <td>0</td>\n",
              "      <td>NaN</td>\n",
              "      <td>58</td>\n",
              "      <td>Dominican Republic</td>\n",
              "      <td>2</td>\n",
              "      <td>...</td>\n",
              "      <td>NaN</td>\n",
              "      <td>NaN</td>\n",
              "      <td>NaN</td>\n",
              "      <td>NaN</td>\n",
              "      <td>PGIS</td>\n",
              "      <td>0</td>\n",
              "      <td>0</td>\n",
              "      <td>0</td>\n",
              "      <td>0</td>\n",
              "      <td>NaN</td>\n",
              "    </tr>\n",
              "    <tr>\n",
              "      <th>1</th>\n",
              "      <td>197000000002</td>\n",
              "      <td>1970</td>\n",
              "      <td>0</td>\n",
              "      <td>0</td>\n",
              "      <td>NaN</td>\n",
              "      <td>0</td>\n",
              "      <td>NaN</td>\n",
              "      <td>130</td>\n",
              "      <td>Mexico</td>\n",
              "      <td>1</td>\n",
              "      <td>...</td>\n",
              "      <td>NaN</td>\n",
              "      <td>NaN</td>\n",
              "      <td>NaN</td>\n",
              "      <td>NaN</td>\n",
              "      <td>PGIS</td>\n",
              "      <td>0</td>\n",
              "      <td>1</td>\n",
              "      <td>1</td>\n",
              "      <td>1</td>\n",
              "      <td>NaN</td>\n",
              "    </tr>\n",
              "    <tr>\n",
              "      <th>2</th>\n",
              "      <td>197001000001</td>\n",
              "      <td>1970</td>\n",
              "      <td>1</td>\n",
              "      <td>0</td>\n",
              "      <td>NaN</td>\n",
              "      <td>0</td>\n",
              "      <td>NaN</td>\n",
              "      <td>160</td>\n",
              "      <td>Philippines</td>\n",
              "      <td>5</td>\n",
              "      <td>...</td>\n",
              "      <td>NaN</td>\n",
              "      <td>NaN</td>\n",
              "      <td>NaN</td>\n",
              "      <td>NaN</td>\n",
              "      <td>PGIS</td>\n",
              "      <td>-9</td>\n",
              "      <td>-9</td>\n",
              "      <td>1</td>\n",
              "      <td>1</td>\n",
              "      <td>NaN</td>\n",
              "    </tr>\n",
              "    <tr>\n",
              "      <th>3</th>\n",
              "      <td>197001000002</td>\n",
              "      <td>1970</td>\n",
              "      <td>1</td>\n",
              "      <td>0</td>\n",
              "      <td>NaN</td>\n",
              "      <td>0</td>\n",
              "      <td>NaN</td>\n",
              "      <td>78</td>\n",
              "      <td>Greece</td>\n",
              "      <td>8</td>\n",
              "      <td>...</td>\n",
              "      <td>NaN</td>\n",
              "      <td>NaN</td>\n",
              "      <td>NaN</td>\n",
              "      <td>NaN</td>\n",
              "      <td>PGIS</td>\n",
              "      <td>-9</td>\n",
              "      <td>-9</td>\n",
              "      <td>1</td>\n",
              "      <td>1</td>\n",
              "      <td>NaN</td>\n",
              "    </tr>\n",
              "    <tr>\n",
              "      <th>4</th>\n",
              "      <td>197001000003</td>\n",
              "      <td>1970</td>\n",
              "      <td>1</td>\n",
              "      <td>0</td>\n",
              "      <td>NaN</td>\n",
              "      <td>0</td>\n",
              "      <td>NaN</td>\n",
              "      <td>101</td>\n",
              "      <td>Japan</td>\n",
              "      <td>4</td>\n",
              "      <td>...</td>\n",
              "      <td>NaN</td>\n",
              "      <td>NaN</td>\n",
              "      <td>NaN</td>\n",
              "      <td>NaN</td>\n",
              "      <td>PGIS</td>\n",
              "      <td>-9</td>\n",
              "      <td>-9</td>\n",
              "      <td>1</td>\n",
              "      <td>1</td>\n",
              "      <td>NaN</td>\n",
              "    </tr>\n",
              "  </tbody>\n",
              "</table>\n",
              "<p>5 rows × 135 columns</p>\n",
              "</div>\n",
              "      <button class=\"colab-df-convert\" onclick=\"convertToInteractive('df-4f995e74-d1da-4b63-ac34-12eda537dd67')\"\n",
              "              title=\"Convert this dataframe to an interactive table.\"\n",
              "              style=\"display:none;\">\n",
              "        \n",
              "  <svg xmlns=\"http://www.w3.org/2000/svg\" height=\"24px\"viewBox=\"0 0 24 24\"\n",
              "       width=\"24px\">\n",
              "    <path d=\"M0 0h24v24H0V0z\" fill=\"none\"/>\n",
              "    <path d=\"M18.56 5.44l.94 2.06.94-2.06 2.06-.94-2.06-.94-.94-2.06-.94 2.06-2.06.94zm-11 1L8.5 8.5l.94-2.06 2.06-.94-2.06-.94L8.5 2.5l-.94 2.06-2.06.94zm10 10l.94 2.06.94-2.06 2.06-.94-2.06-.94-.94-2.06-.94 2.06-2.06.94z\"/><path d=\"M17.41 7.96l-1.37-1.37c-.4-.4-.92-.59-1.43-.59-.52 0-1.04.2-1.43.59L10.3 9.45l-7.72 7.72c-.78.78-.78 2.05 0 2.83L4 21.41c.39.39.9.59 1.41.59.51 0 1.02-.2 1.41-.59l7.78-7.78 2.81-2.81c.8-.78.8-2.07 0-2.86zM5.41 20L4 18.59l7.72-7.72 1.47 1.35L5.41 20z\"/>\n",
              "  </svg>\n",
              "      </button>\n",
              "      \n",
              "  <style>\n",
              "    .colab-df-container {\n",
              "      display:flex;\n",
              "      flex-wrap:wrap;\n",
              "      gap: 12px;\n",
              "    }\n",
              "\n",
              "    .colab-df-convert {\n",
              "      background-color: #E8F0FE;\n",
              "      border: none;\n",
              "      border-radius: 50%;\n",
              "      cursor: pointer;\n",
              "      display: none;\n",
              "      fill: #1967D2;\n",
              "      height: 32px;\n",
              "      padding: 0 0 0 0;\n",
              "      width: 32px;\n",
              "    }\n",
              "\n",
              "    .colab-df-convert:hover {\n",
              "      background-color: #E2EBFA;\n",
              "      box-shadow: 0px 1px 2px rgba(60, 64, 67, 0.3), 0px 1px 3px 1px rgba(60, 64, 67, 0.15);\n",
              "      fill: #174EA6;\n",
              "    }\n",
              "\n",
              "    [theme=dark] .colab-df-convert {\n",
              "      background-color: #3B4455;\n",
              "      fill: #D2E3FC;\n",
              "    }\n",
              "\n",
              "    [theme=dark] .colab-df-convert:hover {\n",
              "      background-color: #434B5C;\n",
              "      box-shadow: 0px 1px 3px 1px rgba(0, 0, 0, 0.15);\n",
              "      filter: drop-shadow(0px 1px 2px rgba(0, 0, 0, 0.3));\n",
              "      fill: #FFFFFF;\n",
              "    }\n",
              "  </style>\n",
              "\n",
              "      <script>\n",
              "        const buttonEl =\n",
              "          document.querySelector('#df-4f995e74-d1da-4b63-ac34-12eda537dd67 button.colab-df-convert');\n",
              "        buttonEl.style.display =\n",
              "          google.colab.kernel.accessAllowed ? 'block' : 'none';\n",
              "\n",
              "        async function convertToInteractive(key) {\n",
              "          const element = document.querySelector('#df-4f995e74-d1da-4b63-ac34-12eda537dd67');\n",
              "          const dataTable =\n",
              "            await google.colab.kernel.invokeFunction('convertToInteractive',\n",
              "                                                     [key], {});\n",
              "          if (!dataTable) return;\n",
              "\n",
              "          const docLinkHtml = 'Like what you see? Visit the ' +\n",
              "            '<a target=\"_blank\" href=https://colab.research.google.com/notebooks/data_table.ipynb>data table notebook</a>'\n",
              "            + ' to learn more about interactive tables.';\n",
              "          element.innerHTML = '';\n",
              "          dataTable['output_type'] = 'display_data';\n",
              "          await google.colab.output.renderOutput(dataTable, element);\n",
              "          const docLink = document.createElement('div');\n",
              "          docLink.innerHTML = docLinkHtml;\n",
              "          element.appendChild(docLink);\n",
              "        }\n",
              "      </script>\n",
              "    </div>\n",
              "  </div>\n",
              "  "
            ]
          },
          "metadata": {},
          "execution_count": 11
        }
      ],
      "source": [
        "# check the updated columns name\n",
        "global_terrorism.head()"
      ]
    },
    {
      "cell_type": "code",
      "execution_count": null,
      "metadata": {
        "id": "3SmRHkqyUEB-"
      },
      "outputs": [],
      "source": [
        ""
      ]
    },
    {
      "cell_type": "code",
      "execution_count": 12,
      "metadata": {
        "id": "A_q6JwcF_zrX"
      },
      "outputs": [],
      "source": [
        "# combined usefull colummns from existing df and create a new df  \n",
        "global_terrorism = global_terrorism[['Year','Month','Day','Country','State','Region','Attack_Type','Killed','Wounded','Gang_Name','Main_Target'\n",
        "                                    ,'Weapon_Type','Latitude','Longitude','city','Sub_Target','Nationality']]"
      ]
    },
    {
      "cell_type": "code",
      "execution_count": 13,
      "metadata": {
        "colab": {
          "base_uri": "https://localhost:8080/",
          "height": 409
        },
        "id": "-MzLxblp-rmp",
        "outputId": "f19dbc03-6fd0-41f5-ee3e-0316fd6d84c6"
      },
      "outputs": [
        {
          "output_type": "execute_result",
          "data": {
            "text/plain": [
              "   Year  Month  Day             Country    State                       Region  \\\n",
              "0  1970      7    2  Dominican Republic      NaN  Central America & Caribbean   \n",
              "1  1970      0    0              Mexico  Federal                North America   \n",
              "2  1970      1    0         Philippines   Tarlac               Southeast Asia   \n",
              "3  1970      1    0              Greece   Attica               Western Europe   \n",
              "4  1970      1    0               Japan  Fukouka                    East Asia   \n",
              "\n",
              "                      Attack_Type  Killed  Wounded  \\\n",
              "0                   Assassination     1.0      0.0   \n",
              "1     Hostage Taking (Kidnapping)     0.0      0.0   \n",
              "2                   Assassination     1.0      0.0   \n",
              "3               Bombing/Explosion     NaN      NaN   \n",
              "4  Facility/Infrastructure Attack     NaN      NaN   \n",
              "\n",
              "                            Gang_Name                  Main_Target  \\\n",
              "0                              MANO-D  Private Citizens & Property   \n",
              "1  23rd of September Communist League      Government (Diplomatic)   \n",
              "2                             Unknown          Journalists & Media   \n",
              "3                             Unknown      Government (Diplomatic)   \n",
              "4                             Unknown      Government (Diplomatic)   \n",
              "\n",
              "  Weapon_Type   Latitude   Longitude           city  \\\n",
              "0     Unknown  18.456792  -69.951164  Santo Domingo   \n",
              "1     Unknown  19.371887  -99.086624    Mexico city   \n",
              "2     Unknown  15.478598  120.599741        Unknown   \n",
              "3  Explosives  37.997490   23.762728         Athens   \n",
              "4  Incendiary  33.580412  130.396361        Fukouka   \n",
              "\n",
              "                                          Sub_Target         Nationality  \n",
              "0                                     Named Civilian  Dominican Republic  \n",
              "1  Diplomatic Personnel (outside of embassy, cons...             Belgium  \n",
              "2                    Radio Journalist/Staff/Facility       United States  \n",
              "3                                  Embassy/Consulate       United States  \n",
              "4                                  Embassy/Consulate       United States  "
            ],
            "text/html": [
              "\n",
              "  <div id=\"df-53bfd149-4bab-46ad-bdfb-d9c8e53b96c0\">\n",
              "    <div class=\"colab-df-container\">\n",
              "      <div>\n",
              "<style scoped>\n",
              "    .dataframe tbody tr th:only-of-type {\n",
              "        vertical-align: middle;\n",
              "    }\n",
              "\n",
              "    .dataframe tbody tr th {\n",
              "        vertical-align: top;\n",
              "    }\n",
              "\n",
              "    .dataframe thead th {\n",
              "        text-align: right;\n",
              "    }\n",
              "</style>\n",
              "<table border=\"1\" class=\"dataframe\">\n",
              "  <thead>\n",
              "    <tr style=\"text-align: right;\">\n",
              "      <th></th>\n",
              "      <th>Year</th>\n",
              "      <th>Month</th>\n",
              "      <th>Day</th>\n",
              "      <th>Country</th>\n",
              "      <th>State</th>\n",
              "      <th>Region</th>\n",
              "      <th>Attack_Type</th>\n",
              "      <th>Killed</th>\n",
              "      <th>Wounded</th>\n",
              "      <th>Gang_Name</th>\n",
              "      <th>Main_Target</th>\n",
              "      <th>Weapon_Type</th>\n",
              "      <th>Latitude</th>\n",
              "      <th>Longitude</th>\n",
              "      <th>city</th>\n",
              "      <th>Sub_Target</th>\n",
              "      <th>Nationality</th>\n",
              "    </tr>\n",
              "  </thead>\n",
              "  <tbody>\n",
              "    <tr>\n",
              "      <th>0</th>\n",
              "      <td>1970</td>\n",
              "      <td>7</td>\n",
              "      <td>2</td>\n",
              "      <td>Dominican Republic</td>\n",
              "      <td>NaN</td>\n",
              "      <td>Central America &amp; Caribbean</td>\n",
              "      <td>Assassination</td>\n",
              "      <td>1.0</td>\n",
              "      <td>0.0</td>\n",
              "      <td>MANO-D</td>\n",
              "      <td>Private Citizens &amp; Property</td>\n",
              "      <td>Unknown</td>\n",
              "      <td>18.456792</td>\n",
              "      <td>-69.951164</td>\n",
              "      <td>Santo Domingo</td>\n",
              "      <td>Named Civilian</td>\n",
              "      <td>Dominican Republic</td>\n",
              "    </tr>\n",
              "    <tr>\n",
              "      <th>1</th>\n",
              "      <td>1970</td>\n",
              "      <td>0</td>\n",
              "      <td>0</td>\n",
              "      <td>Mexico</td>\n",
              "      <td>Federal</td>\n",
              "      <td>North America</td>\n",
              "      <td>Hostage Taking (Kidnapping)</td>\n",
              "      <td>0.0</td>\n",
              "      <td>0.0</td>\n",
              "      <td>23rd of September Communist League</td>\n",
              "      <td>Government (Diplomatic)</td>\n",
              "      <td>Unknown</td>\n",
              "      <td>19.371887</td>\n",
              "      <td>-99.086624</td>\n",
              "      <td>Mexico city</td>\n",
              "      <td>Diplomatic Personnel (outside of embassy, cons...</td>\n",
              "      <td>Belgium</td>\n",
              "    </tr>\n",
              "    <tr>\n",
              "      <th>2</th>\n",
              "      <td>1970</td>\n",
              "      <td>1</td>\n",
              "      <td>0</td>\n",
              "      <td>Philippines</td>\n",
              "      <td>Tarlac</td>\n",
              "      <td>Southeast Asia</td>\n",
              "      <td>Assassination</td>\n",
              "      <td>1.0</td>\n",
              "      <td>0.0</td>\n",
              "      <td>Unknown</td>\n",
              "      <td>Journalists &amp; Media</td>\n",
              "      <td>Unknown</td>\n",
              "      <td>15.478598</td>\n",
              "      <td>120.599741</td>\n",
              "      <td>Unknown</td>\n",
              "      <td>Radio Journalist/Staff/Facility</td>\n",
              "      <td>United States</td>\n",
              "    </tr>\n",
              "    <tr>\n",
              "      <th>3</th>\n",
              "      <td>1970</td>\n",
              "      <td>1</td>\n",
              "      <td>0</td>\n",
              "      <td>Greece</td>\n",
              "      <td>Attica</td>\n",
              "      <td>Western Europe</td>\n",
              "      <td>Bombing/Explosion</td>\n",
              "      <td>NaN</td>\n",
              "      <td>NaN</td>\n",
              "      <td>Unknown</td>\n",
              "      <td>Government (Diplomatic)</td>\n",
              "      <td>Explosives</td>\n",
              "      <td>37.997490</td>\n",
              "      <td>23.762728</td>\n",
              "      <td>Athens</td>\n",
              "      <td>Embassy/Consulate</td>\n",
              "      <td>United States</td>\n",
              "    </tr>\n",
              "    <tr>\n",
              "      <th>4</th>\n",
              "      <td>1970</td>\n",
              "      <td>1</td>\n",
              "      <td>0</td>\n",
              "      <td>Japan</td>\n",
              "      <td>Fukouka</td>\n",
              "      <td>East Asia</td>\n",
              "      <td>Facility/Infrastructure Attack</td>\n",
              "      <td>NaN</td>\n",
              "      <td>NaN</td>\n",
              "      <td>Unknown</td>\n",
              "      <td>Government (Diplomatic)</td>\n",
              "      <td>Incendiary</td>\n",
              "      <td>33.580412</td>\n",
              "      <td>130.396361</td>\n",
              "      <td>Fukouka</td>\n",
              "      <td>Embassy/Consulate</td>\n",
              "      <td>United States</td>\n",
              "    </tr>\n",
              "  </tbody>\n",
              "</table>\n",
              "</div>\n",
              "      <button class=\"colab-df-convert\" onclick=\"convertToInteractive('df-53bfd149-4bab-46ad-bdfb-d9c8e53b96c0')\"\n",
              "              title=\"Convert this dataframe to an interactive table.\"\n",
              "              style=\"display:none;\">\n",
              "        \n",
              "  <svg xmlns=\"http://www.w3.org/2000/svg\" height=\"24px\"viewBox=\"0 0 24 24\"\n",
              "       width=\"24px\">\n",
              "    <path d=\"M0 0h24v24H0V0z\" fill=\"none\"/>\n",
              "    <path d=\"M18.56 5.44l.94 2.06.94-2.06 2.06-.94-2.06-.94-.94-2.06-.94 2.06-2.06.94zm-11 1L8.5 8.5l.94-2.06 2.06-.94-2.06-.94L8.5 2.5l-.94 2.06-2.06.94zm10 10l.94 2.06.94-2.06 2.06-.94-2.06-.94-.94-2.06-.94 2.06-2.06.94z\"/><path d=\"M17.41 7.96l-1.37-1.37c-.4-.4-.92-.59-1.43-.59-.52 0-1.04.2-1.43.59L10.3 9.45l-7.72 7.72c-.78.78-.78 2.05 0 2.83L4 21.41c.39.39.9.59 1.41.59.51 0 1.02-.2 1.41-.59l7.78-7.78 2.81-2.81c.8-.78.8-2.07 0-2.86zM5.41 20L4 18.59l7.72-7.72 1.47 1.35L5.41 20z\"/>\n",
              "  </svg>\n",
              "      </button>\n",
              "      \n",
              "  <style>\n",
              "    .colab-df-container {\n",
              "      display:flex;\n",
              "      flex-wrap:wrap;\n",
              "      gap: 12px;\n",
              "    }\n",
              "\n",
              "    .colab-df-convert {\n",
              "      background-color: #E8F0FE;\n",
              "      border: none;\n",
              "      border-radius: 50%;\n",
              "      cursor: pointer;\n",
              "      display: none;\n",
              "      fill: #1967D2;\n",
              "      height: 32px;\n",
              "      padding: 0 0 0 0;\n",
              "      width: 32px;\n",
              "    }\n",
              "\n",
              "    .colab-df-convert:hover {\n",
              "      background-color: #E2EBFA;\n",
              "      box-shadow: 0px 1px 2px rgba(60, 64, 67, 0.3), 0px 1px 3px 1px rgba(60, 64, 67, 0.15);\n",
              "      fill: #174EA6;\n",
              "    }\n",
              "\n",
              "    [theme=dark] .colab-df-convert {\n",
              "      background-color: #3B4455;\n",
              "      fill: #D2E3FC;\n",
              "    }\n",
              "\n",
              "    [theme=dark] .colab-df-convert:hover {\n",
              "      background-color: #434B5C;\n",
              "      box-shadow: 0px 1px 3px 1px rgba(0, 0, 0, 0.15);\n",
              "      filter: drop-shadow(0px 1px 2px rgba(0, 0, 0, 0.3));\n",
              "      fill: #FFFFFF;\n",
              "    }\n",
              "  </style>\n",
              "\n",
              "      <script>\n",
              "        const buttonEl =\n",
              "          document.querySelector('#df-53bfd149-4bab-46ad-bdfb-d9c8e53b96c0 button.colab-df-convert');\n",
              "        buttonEl.style.display =\n",
              "          google.colab.kernel.accessAllowed ? 'block' : 'none';\n",
              "\n",
              "        async function convertToInteractive(key) {\n",
              "          const element = document.querySelector('#df-53bfd149-4bab-46ad-bdfb-d9c8e53b96c0');\n",
              "          const dataTable =\n",
              "            await google.colab.kernel.invokeFunction('convertToInteractive',\n",
              "                                                     [key], {});\n",
              "          if (!dataTable) return;\n",
              "\n",
              "          const docLinkHtml = 'Like what you see? Visit the ' +\n",
              "            '<a target=\"_blank\" href=https://colab.research.google.com/notebooks/data_table.ipynb>data table notebook</a>'\n",
              "            + ' to learn more about interactive tables.';\n",
              "          element.innerHTML = '';\n",
              "          dataTable['output_type'] = 'display_data';\n",
              "          await google.colab.output.renderOutput(dataTable, element);\n",
              "          const docLink = document.createElement('div');\n",
              "          docLink.innerHTML = docLinkHtml;\n",
              "          element.appendChild(docLink);\n",
              "        }\n",
              "      </script>\n",
              "    </div>\n",
              "  </div>\n",
              "  "
            ]
          },
          "metadata": {},
          "execution_count": 13
        }
      ],
      "source": [
        "# some top rows of new dataframe\n",
        "global_terrorism.head(5)"
      ]
    },
    {
      "cell_type": "code",
      "execution_count": 14,
      "metadata": {
        "colab": {
          "base_uri": "https://localhost:8080/",
          "height": 409
        },
        "id": "VKn0Yt45NuWR",
        "outputId": "153b2608-bdaa-4868-a313-c5266db7a245"
      },
      "outputs": [
        {
          "output_type": "execute_result",
          "data": {
            "text/plain": [
              "   Year  Month  Day             Country    State                       Region  \\\n",
              "0  1970      7    2  Dominican Republic        0  Central America & Caribbean   \n",
              "1  1970      0    0              Mexico  Federal                North America   \n",
              "2  1970      1    0         Philippines   Tarlac               Southeast Asia   \n",
              "3  1970      1    0              Greece   Attica               Western Europe   \n",
              "4  1970      1    0               Japan  Fukouka                    East Asia   \n",
              "\n",
              "                      Attack_Type  Killed  Wounded  \\\n",
              "0                   Assassination     1.0      0.0   \n",
              "1     Hostage Taking (Kidnapping)     0.0      0.0   \n",
              "2                   Assassination     1.0      0.0   \n",
              "3               Bombing/Explosion     0.0      0.0   \n",
              "4  Facility/Infrastructure Attack     0.0      0.0   \n",
              "\n",
              "                            Gang_Name                  Main_Target  \\\n",
              "0                              MANO-D  Private Citizens & Property   \n",
              "1  23rd of September Communist League      Government (Diplomatic)   \n",
              "2                             Unknown          Journalists & Media   \n",
              "3                             Unknown      Government (Diplomatic)   \n",
              "4                             Unknown      Government (Diplomatic)   \n",
              "\n",
              "  Weapon_Type   Latitude   Longitude           city  \\\n",
              "0     Unknown  18.456792  -69.951164  Santo Domingo   \n",
              "1     Unknown  19.371887  -99.086624    Mexico city   \n",
              "2     Unknown  15.478598  120.599741        Unknown   \n",
              "3  Explosives  37.997490   23.762728         Athens   \n",
              "4  Incendiary  33.580412  130.396361        Fukouka   \n",
              "\n",
              "                                          Sub_Target         Nationality  \n",
              "0                                     Named Civilian  Dominican Republic  \n",
              "1  Diplomatic Personnel (outside of embassy, cons...             Belgium  \n",
              "2                    Radio Journalist/Staff/Facility       United States  \n",
              "3                                  Embassy/Consulate       United States  \n",
              "4                                  Embassy/Consulate       United States  "
            ],
            "text/html": [
              "\n",
              "  <div id=\"df-2da38f44-dd35-4b8a-b458-7f419095277a\">\n",
              "    <div class=\"colab-df-container\">\n",
              "      <div>\n",
              "<style scoped>\n",
              "    .dataframe tbody tr th:only-of-type {\n",
              "        vertical-align: middle;\n",
              "    }\n",
              "\n",
              "    .dataframe tbody tr th {\n",
              "        vertical-align: top;\n",
              "    }\n",
              "\n",
              "    .dataframe thead th {\n",
              "        text-align: right;\n",
              "    }\n",
              "</style>\n",
              "<table border=\"1\" class=\"dataframe\">\n",
              "  <thead>\n",
              "    <tr style=\"text-align: right;\">\n",
              "      <th></th>\n",
              "      <th>Year</th>\n",
              "      <th>Month</th>\n",
              "      <th>Day</th>\n",
              "      <th>Country</th>\n",
              "      <th>State</th>\n",
              "      <th>Region</th>\n",
              "      <th>Attack_Type</th>\n",
              "      <th>Killed</th>\n",
              "      <th>Wounded</th>\n",
              "      <th>Gang_Name</th>\n",
              "      <th>Main_Target</th>\n",
              "      <th>Weapon_Type</th>\n",
              "      <th>Latitude</th>\n",
              "      <th>Longitude</th>\n",
              "      <th>city</th>\n",
              "      <th>Sub_Target</th>\n",
              "      <th>Nationality</th>\n",
              "    </tr>\n",
              "  </thead>\n",
              "  <tbody>\n",
              "    <tr>\n",
              "      <th>0</th>\n",
              "      <td>1970</td>\n",
              "      <td>7</td>\n",
              "      <td>2</td>\n",
              "      <td>Dominican Republic</td>\n",
              "      <td>0</td>\n",
              "      <td>Central America &amp; Caribbean</td>\n",
              "      <td>Assassination</td>\n",
              "      <td>1.0</td>\n",
              "      <td>0.0</td>\n",
              "      <td>MANO-D</td>\n",
              "      <td>Private Citizens &amp; Property</td>\n",
              "      <td>Unknown</td>\n",
              "      <td>18.456792</td>\n",
              "      <td>-69.951164</td>\n",
              "      <td>Santo Domingo</td>\n",
              "      <td>Named Civilian</td>\n",
              "      <td>Dominican Republic</td>\n",
              "    </tr>\n",
              "    <tr>\n",
              "      <th>1</th>\n",
              "      <td>1970</td>\n",
              "      <td>0</td>\n",
              "      <td>0</td>\n",
              "      <td>Mexico</td>\n",
              "      <td>Federal</td>\n",
              "      <td>North America</td>\n",
              "      <td>Hostage Taking (Kidnapping)</td>\n",
              "      <td>0.0</td>\n",
              "      <td>0.0</td>\n",
              "      <td>23rd of September Communist League</td>\n",
              "      <td>Government (Diplomatic)</td>\n",
              "      <td>Unknown</td>\n",
              "      <td>19.371887</td>\n",
              "      <td>-99.086624</td>\n",
              "      <td>Mexico city</td>\n",
              "      <td>Diplomatic Personnel (outside of embassy, cons...</td>\n",
              "      <td>Belgium</td>\n",
              "    </tr>\n",
              "    <tr>\n",
              "      <th>2</th>\n",
              "      <td>1970</td>\n",
              "      <td>1</td>\n",
              "      <td>0</td>\n",
              "      <td>Philippines</td>\n",
              "      <td>Tarlac</td>\n",
              "      <td>Southeast Asia</td>\n",
              "      <td>Assassination</td>\n",
              "      <td>1.0</td>\n",
              "      <td>0.0</td>\n",
              "      <td>Unknown</td>\n",
              "      <td>Journalists &amp; Media</td>\n",
              "      <td>Unknown</td>\n",
              "      <td>15.478598</td>\n",
              "      <td>120.599741</td>\n",
              "      <td>Unknown</td>\n",
              "      <td>Radio Journalist/Staff/Facility</td>\n",
              "      <td>United States</td>\n",
              "    </tr>\n",
              "    <tr>\n",
              "      <th>3</th>\n",
              "      <td>1970</td>\n",
              "      <td>1</td>\n",
              "      <td>0</td>\n",
              "      <td>Greece</td>\n",
              "      <td>Attica</td>\n",
              "      <td>Western Europe</td>\n",
              "      <td>Bombing/Explosion</td>\n",
              "      <td>0.0</td>\n",
              "      <td>0.0</td>\n",
              "      <td>Unknown</td>\n",
              "      <td>Government (Diplomatic)</td>\n",
              "      <td>Explosives</td>\n",
              "      <td>37.997490</td>\n",
              "      <td>23.762728</td>\n",
              "      <td>Athens</td>\n",
              "      <td>Embassy/Consulate</td>\n",
              "      <td>United States</td>\n",
              "    </tr>\n",
              "    <tr>\n",
              "      <th>4</th>\n",
              "      <td>1970</td>\n",
              "      <td>1</td>\n",
              "      <td>0</td>\n",
              "      <td>Japan</td>\n",
              "      <td>Fukouka</td>\n",
              "      <td>East Asia</td>\n",
              "      <td>Facility/Infrastructure Attack</td>\n",
              "      <td>0.0</td>\n",
              "      <td>0.0</td>\n",
              "      <td>Unknown</td>\n",
              "      <td>Government (Diplomatic)</td>\n",
              "      <td>Incendiary</td>\n",
              "      <td>33.580412</td>\n",
              "      <td>130.396361</td>\n",
              "      <td>Fukouka</td>\n",
              "      <td>Embassy/Consulate</td>\n",
              "      <td>United States</td>\n",
              "    </tr>\n",
              "  </tbody>\n",
              "</table>\n",
              "</div>\n",
              "      <button class=\"colab-df-convert\" onclick=\"convertToInteractive('df-2da38f44-dd35-4b8a-b458-7f419095277a')\"\n",
              "              title=\"Convert this dataframe to an interactive table.\"\n",
              "              style=\"display:none;\">\n",
              "        \n",
              "  <svg xmlns=\"http://www.w3.org/2000/svg\" height=\"24px\"viewBox=\"0 0 24 24\"\n",
              "       width=\"24px\">\n",
              "    <path d=\"M0 0h24v24H0V0z\" fill=\"none\"/>\n",
              "    <path d=\"M18.56 5.44l.94 2.06.94-2.06 2.06-.94-2.06-.94-.94-2.06-.94 2.06-2.06.94zm-11 1L8.5 8.5l.94-2.06 2.06-.94-2.06-.94L8.5 2.5l-.94 2.06-2.06.94zm10 10l.94 2.06.94-2.06 2.06-.94-2.06-.94-.94-2.06-.94 2.06-2.06.94z\"/><path d=\"M17.41 7.96l-1.37-1.37c-.4-.4-.92-.59-1.43-.59-.52 0-1.04.2-1.43.59L10.3 9.45l-7.72 7.72c-.78.78-.78 2.05 0 2.83L4 21.41c.39.39.9.59 1.41.59.51 0 1.02-.2 1.41-.59l7.78-7.78 2.81-2.81c.8-.78.8-2.07 0-2.86zM5.41 20L4 18.59l7.72-7.72 1.47 1.35L5.41 20z\"/>\n",
              "  </svg>\n",
              "      </button>\n",
              "      \n",
              "  <style>\n",
              "    .colab-df-container {\n",
              "      display:flex;\n",
              "      flex-wrap:wrap;\n",
              "      gap: 12px;\n",
              "    }\n",
              "\n",
              "    .colab-df-convert {\n",
              "      background-color: #E8F0FE;\n",
              "      border: none;\n",
              "      border-radius: 50%;\n",
              "      cursor: pointer;\n",
              "      display: none;\n",
              "      fill: #1967D2;\n",
              "      height: 32px;\n",
              "      padding: 0 0 0 0;\n",
              "      width: 32px;\n",
              "    }\n",
              "\n",
              "    .colab-df-convert:hover {\n",
              "      background-color: #E2EBFA;\n",
              "      box-shadow: 0px 1px 2px rgba(60, 64, 67, 0.3), 0px 1px 3px 1px rgba(60, 64, 67, 0.15);\n",
              "      fill: #174EA6;\n",
              "    }\n",
              "\n",
              "    [theme=dark] .colab-df-convert {\n",
              "      background-color: #3B4455;\n",
              "      fill: #D2E3FC;\n",
              "    }\n",
              "\n",
              "    [theme=dark] .colab-df-convert:hover {\n",
              "      background-color: #434B5C;\n",
              "      box-shadow: 0px 1px 3px 1px rgba(0, 0, 0, 0.15);\n",
              "      filter: drop-shadow(0px 1px 2px rgba(0, 0, 0, 0.3));\n",
              "      fill: #FFFFFF;\n",
              "    }\n",
              "  </style>\n",
              "\n",
              "      <script>\n",
              "        const buttonEl =\n",
              "          document.querySelector('#df-2da38f44-dd35-4b8a-b458-7f419095277a button.colab-df-convert');\n",
              "        buttonEl.style.display =\n",
              "          google.colab.kernel.accessAllowed ? 'block' : 'none';\n",
              "\n",
              "        async function convertToInteractive(key) {\n",
              "          const element = document.querySelector('#df-2da38f44-dd35-4b8a-b458-7f419095277a');\n",
              "          const dataTable =\n",
              "            await google.colab.kernel.invokeFunction('convertToInteractive',\n",
              "                                                     [key], {});\n",
              "          if (!dataTable) return;\n",
              "\n",
              "          const docLinkHtml = 'Like what you see? Visit the ' +\n",
              "            '<a target=\"_blank\" href=https://colab.research.google.com/notebooks/data_table.ipynb>data table notebook</a>'\n",
              "            + ' to learn more about interactive tables.';\n",
              "          element.innerHTML = '';\n",
              "          dataTable['output_type'] = 'display_data';\n",
              "          await google.colab.output.renderOutput(dataTable, element);\n",
              "          const docLink = document.createElement('div');\n",
              "          docLink.innerHTML = docLinkHtml;\n",
              "          element.appendChild(docLink);\n",
              "        }\n",
              "      </script>\n",
              "    </div>\n",
              "  </div>\n",
              "  "
            ]
          },
          "metadata": {},
          "execution_count": 14
        }
      ],
      "source": [
        "# replacing 'NaN' values by zeros(0) \n",
        "global_terrorism.fillna(0).head(5)"
      ]
    },
    {
      "cell_type": "markdown",
      "metadata": {
        "id": "peHJ2VvrYsqQ"
      },
      "source": [
        "## ***Analysis of Data***"
      ]
    },
    {
      "cell_type": "markdown",
      "metadata": {
        "id": "VBnrBAOeZCJy"
      },
      "source": [
        "### Analysis based on Attack Types"
      ]
    },
    {
      "cell_type": "code",
      "execution_count": 15,
      "metadata": {
        "colab": {
          "base_uri": "https://localhost:8080/"
        },
        "id": "Da3Hhg3sN10K",
        "outputId": "80256c02-3fb9-45bd-e178-b3f2d2a89902"
      },
      "outputs": [
        {
          "output_type": "stream",
          "name": "stdout",
          "text": [
            "Bombing/Explosion                      88255\n",
            "Armed Assault                          42669\n",
            "Assassination                          19312\n",
            "Hostage Taking (Kidnapping)            11158\n",
            "Facility/Infrastructure Attack         10356\n",
            "Unknown                                 7276\n",
            "Unarmed Assault                         1015\n",
            "Hostage Taking (Barricade Incident)      991\n",
            "Hijacking                                659\n",
            "Name: Attack_Type, dtype: int64\n"
          ]
        }
      ],
      "source": [
        "# \n",
        "type_values = global_terrorism['Attack_Type'].value_counts()\n",
        "print(type_values)"
      ]
    },
    {
      "cell_type": "code",
      "execution_count": 16,
      "metadata": {
        "colab": {
          "base_uri": "https://localhost:8080/"
        },
        "id": "-qmZv4dtY0TE",
        "outputId": "45f5a12f-75f1-4f75-ee7c-9d8f871ec579"
      },
      "outputs": [
        {
          "output_type": "execute_result",
          "data": {
            "text/plain": [
              "181691"
            ]
          },
          "metadata": {},
          "execution_count": 16
        }
      ],
      "source": [
        "global_terrorism['Attack_Type'].value_counts().sum()\n"
      ]
    },
    {
      "cell_type": "code",
      "execution_count": 17,
      "metadata": {
        "colab": {
          "base_uri": "https://localhost:8080/"
        },
        "id": "3YfLuPrhT0Ne",
        "outputId": "c24af94f-e392-424c-95f2-9a8e3661d02a"
      },
      "outputs": [
        {
          "output_type": "execute_result",
          "data": {
            "text/plain": [
              "Bombing/Explosion                      48.574228\n",
              "Armed Assault                          23.484377\n",
              "Assassination                          10.629035\n",
              "Hostage Taking (Kidnapping)             6.141196\n",
              "Facility/Infrastructure Attack          5.699787\n",
              "Unknown                                 4.004601\n",
              "Unarmed Assault                         0.558641\n",
              "Hostage Taking (Barricade Incident)     0.545432\n",
              "Hijacking                               0.362704\n",
              "Name: Attack_Type, dtype: float64"
            ]
          },
          "metadata": {},
          "execution_count": 17
        }
      ],
      "source": [
        "(global_terrorism['Attack_Type'].value_counts()/global_terrorism.shape[0])*100\n"
      ]
    },
    {
      "cell_type": "code",
      "execution_count": 18,
      "metadata": {
        "id": "0nOq7pwEY9Qh"
      },
      "outputs": [],
      "source": [
        "X = \"global_terrorism['Attack_Type'].value_count()\""
      ]
    },
    {
      "cell_type": "code",
      "execution_count": 19,
      "metadata": {
        "colab": {
          "base_uri": "https://localhost:8080/",
          "height": 509
        },
        "id": "tJlkk1iNZhrO",
        "outputId": "b9ab98ae-e260-41ff-a8e9-ccec9b88aba7"
      },
      "outputs": [
        {
          "output_type": "display_data",
          "data": {
            "text/plain": [
              "<Figure size 432x288 with 1 Axes>"
            ],
            "image/png": "[encoded data removed]"
          },
          "metadata": {
            "needs_background": "light"
          }
        }
      ],
      "source": [
        "# Types of Attacks Mostly Used\n",
        "\n",
        "\n",
        "#plt.figure(figsize = (12,7))\n",
        "#sns.set(style=\"darkgrid\")\n",
        "#sns.histplot(global_terrorism['Attack_Type'],palette='cubehelix', color ='black' )\n",
        "#plt.title('Attack Types',fontsize=20)\n",
        "#plt.xticks(rotation= 90)\n",
        "#plt.show()\n",
        "\n",
        "plt.plot(type_values.index, type_values.values)            \n",
        "plt.title('Top 10 most attacked country',fontsize=25)\n",
        "plt.xlabel('Country Names',fontsize=25)\n",
        "plt.ylabel('No. of attacks',fontsize=25)\n",
        "plt.xticks(rotation=90)\n",
        "plt.show()\n",
        "\n"
      ]
    },
    {
      "cell_type": "markdown",
      "metadata": {
        "id": "MWuCp8b6Nt-9"
      },
      "source": [
        "**conclusion** : Most of the attack (approx 50%) is happenend with the Bombing/Explosion:\n",
        " \n",
        "\n",
        "  \n"
      ]
    },
    {
      "cell_type": "markdown",
      "metadata": {
        "id": "rNAq3xR1WfLD"
      },
      "source": [
        "\n",
        "\n",
        "* 10-20% of the Attack happened with Armed Assault .\n",
        "* hijacking is the less used Attack Type used by terrorists.\n",
        "* Remaining other are in between 0-6%\n",
        "\n",
        "\n",
        "\n",
        "\n",
        "\n",
        "\n",
        "\n",
        "\n"
      ]
    },
    {
      "cell_type": "code",
      "execution_count": null,
      "metadata": {
        "id": "wkDIK9eLdBZe"
      },
      "outputs": [],
      "source": [
        ""
      ]
    },
    {
      "cell_type": "markdown",
      "metadata": {
        "id": "nliJVVQ_aQel"
      },
      "source": [
        "### Countries Which Suffers Most From Terrorism\n"
      ]
    },
    {
      "cell_type": "code",
      "execution_count": 21,
      "metadata": {
        "colab": {
          "base_uri": "https://localhost:8080/"
        },
        "id": "2hFha3exaySc",
        "outputId": "7fa8169c-0fc1-442d-b842-a6198ac073b7"
      },
      "outputs": [
        {
          "output_type": "stream",
          "name": "stdout",
          "text": [
            "Iraq              24636\n",
            "Pakistan          14368\n",
            "Afghanistan       12731\n",
            "India             11960\n",
            "Colombia           8306\n",
            "Philippines        6908\n",
            "Peru               6096\n",
            "El Salvador        5320\n",
            "United Kingdom     5235\n",
            "Turkey             4292\n",
            "Name: Country, dtype: int64\n"
          ]
        }
      ],
      "source": [
        "eff_country = global_terrorism.Country.value_counts()[:10]\n",
        "print(eff_country)\n"
      ]
    },
    {
      "cell_type": "code",
      "execution_count": 22,
      "metadata": {
        "colab": {
          "base_uri": "https://localhost:8080/"
        },
        "id": "_W7XDsDba2_e",
        "outputId": "6456feda-7199-4361-f29e-4a20ae13624b"
      },
      "outputs": [
        {
          "output_type": "execute_result",
          "data": {
            "text/plain": [
              "Iraq                   13.559285\n",
              "Pakistan                7.907932\n",
              "Afghanistan             7.006951\n",
              "India                   6.582605\n",
              "Colombia                4.571498\n",
              "                         ...    \n",
              "International           0.000550\n",
              "Wallis and Futuna       0.000550\n",
              "South Vietnam           0.000550\n",
              "Andorra                 0.000550\n",
              "Antigua and Barbuda     0.000550\n",
              "Name: Country, Length: 205, dtype: float64"
            ]
          },
          "metadata": {},
          "execution_count": 22
        }
      ],
      "source": [
        "(global_terrorism['Country'].value_counts()/global_terrorism.shape[0])*100\n"
      ]
    },
    {
      "cell_type": "code",
      "execution_count": 23,
      "metadata": {
        "colab": {
          "base_uri": "https://localhost:8080/",
          "height": 617
        },
        "id": "9ahZheZzbzMO",
        "outputId": "f70428a4-3d70-46df-ef8a-f741fda06db6"
      },
      "outputs": [
        {
          "output_type": "display_data",
          "data": {
            "text/plain": [
              "<Figure size 1008x576 with 1 Axes>"
            ],
            "image/png": "[encoded data removed]"
          },
          "metadata": {
            "needs_background": "light"
          }
        }
      ],
      "source": [
        "#pie, ax = plt.subplots(figsize=[15,7])\n",
        "#labels = global_terrorism.keys()\n",
        "#plt.pie(x=eff_country, autopct=\"%.1f%%\",labels= eff_country.keys(), pctdistance=0.7)\n",
        "#plt.title(\"effected countries by terrorism\", fontsize=25);\n",
        "#pie.savefig(\"country attacked PieChart.png\")\n",
        "\n",
        "\n",
        "plt.figure(figsize = (14,8))\n",
        "#sns.barplot(eff_country.index, eff_country.values, \n",
        "           # palette='mako')\n",
        "plt.plot(eff_country.index, eff_country.values)            \n",
        "plt.title('Top 10 most attacked country',fontsize=25)\n",
        "plt.xlabel('Country Names',fontsize=25)\n",
        "plt.ylabel('No. of attacks',fontsize=25)\n",
        "plt.xticks(rotation=90)\n",
        "plt.show()\n"
      ]
    },
    {
      "cell_type": "markdown",
      "metadata": {
        "id": "isnnpXJD8JcX"
      },
      "source": [
        "* According to research, Iraq is the most affected country by terrorism, then comes Pakistan and Afganistan.\n",
        "\n",
        "\n",
        "\n",
        "\n",
        "\n",
        "\n",
        "\n",
        "\n"
      ]
    },
    {
      "cell_type": "markdown",
      "metadata": {
        "id": "nR3zbXRT9adf"
      },
      "source": [
        ""
      ]
    },
    {
      "cell_type": "markdown",
      "metadata": {
        "id": "tRyGqtpiIQre"
      },
      "source": [
        ""
      ]
    },
    {
      "cell_type": "markdown",
      "metadata": {
        "id": "geG10ohNdDS6"
      },
      "source": [
        "### Analysing data based on 'Main Targets' "
      ]
    },
    {
      "cell_type": "code",
      "execution_count": 24,
      "metadata": {
        "colab": {
          "base_uri": "https://localhost:8080/"
        },
        "id": "R_H-pQBgFCCN",
        "outputId": "135a9dab-fe47-4589-cd9d-1476fbcad6ec"
      },
      "outputs": [
        {
          "output_type": "execute_result",
          "data": {
            "text/plain": [
              "Private Citizens & Property       23.947801\n",
              "Military                          15.401974\n",
              "Police                            13.487735\n",
              "Government (General)              11.713844\n",
              "Business                          11.375907\n",
              "Transportation                     3.742068\n",
              "Utilities                          3.314969\n",
              "Unknown                            3.246171\n",
              "Religious Figures/Institutions     2.443709\n",
              "Educational Institution            2.378764\n",
              "Name: Main_Target, dtype: float64"
            ]
          },
          "metadata": {},
          "execution_count": 24
        }
      ],
      "source": [
        "(global_terrorism['Main_Target'].value_counts().head(10)/global_terrorism['Main_Target'].shape[0])*100\n"
      ]
    },
    {
      "cell_type": "code",
      "execution_count": 25,
      "metadata": {
        "colab": {
          "base_uri": "https://localhost:8080/",
          "height": 742
        },
        "id": "rU_4jRpz3dTH",
        "outputId": "e26e5883-fc8e-480a-8f71-e6f852b3228b"
      },
      "outputs": [
        {
          "output_type": "stream",
          "name": "stderr",
          "text": [
            "/usr/local/lib/python3.7/dist-packages/seaborn/_decorators.py:43: FutureWarning: Pass the following variables as keyword args: x, y. From version 0.12, the only valid positional argument will be `data`, and passing other arguments without an explicit keyword will result in an error or misinterpretation.\n",
            "  FutureWarning\n"
          ]
        },
        {
          "output_type": "display_data",
          "data": {
            "text/plain": [
              "<Figure size 1008x576 with 1 Axes>"
            ],
            "image/png": "[encoded data removed]"
          },
          "metadata": {
            "needs_background": "light"
          }
        }
      ],
      "source": [
        "plt.figure(figsize = (14,8))\n",
        "sns.barplot(global_terrorism['Main_Target'].value_counts().head(10).index, global_terrorism['Main_Target'].value_counts().head(10).values, \n",
        "            palette='crest')\n",
        "plt.title('Top 10 most attacked targets',fontsize=25)\n",
        "plt.xlabel('Targets',fontsize=25)\n",
        "plt.ylabel('Number of attacks',fontsize=25)\n",
        "plt.xticks(rotation=90)\n",
        "plt.show()"
      ]
    },
    {
      "cell_type": "markdown",
      "metadata": {
        "id": "jNRRXYp2GwQV"
      },
      "source": [
        "#### This Graph Shows:\n",
        "\n",
        "\n",
        "*   The most Attacked Target is 'Private Citizens & Property' which is approximately 25%\n",
        "* 10-20% is the Target which is 'Military','Police', 'Government', 'Business'\n",
        "\n",
        "\n"
      ]
    },
    {
      "cell_type": "markdown",
      "metadata": {
        "id": "2usfTNw1crAW"
      },
      "source": [
        ""
      ]
    },
    {
      "cell_type": "markdown",
      "metadata": {
        "id": "N58KJoQ_dh_H"
      },
      "source": [
        "### Analysing data based on 'Region' & 'States'"
      ]
    },
    {
      "cell_type": "code",
      "execution_count": 26,
      "metadata": {
        "colab": {
          "base_uri": "https://localhost:8080/",
          "height": 646
        },
        "id": "Wx8t7TDfF_5H",
        "outputId": "db8d6d35-cb3e-40c3-b5fa-842f86250582"
      },
      "outputs": [
        {
          "output_type": "stream",
          "name": "stderr",
          "text": [
            "/usr/local/lib/python3.7/dist-packages/seaborn/_decorators.py:43: FutureWarning: Pass the following variables as keyword args: x, y. From version 0.12, the only valid positional argument will be `data`, and passing other arguments without an explicit keyword will result in an error or misinterpretation.\n",
            "  FutureWarning\n",
            "/usr/local/lib/python3.7/dist-packages/seaborn/_decorators.py:43: FutureWarning: Pass the following variables as keyword args: x, y. From version 0.12, the only valid positional argument will be `data`, and passing other arguments without an explicit keyword will result in an error or misinterpretation.\n",
            "  FutureWarning\n"
          ]
        },
        {
          "output_type": "display_data",
          "data": {
            "text/plain": [
              "<Figure size 1080x360 with 2 Axes>"
            ],
            "image/png": "[encoded data removed]"
          },
          "metadata": {
            "needs_background": "light"
          }
        }
      ],
      "source": [
        "plt.subplot(1,2,1)\n",
        "# regions with most attacks \n",
        "sns.barplot(global_terrorism['Region'].value_counts().index, global_terrorism['Region'].value_counts().values,palette='rocket')\n",
        "plt.title('Most Attacked Regions',fontsize=20)\n",
        "plt.xlabel('Regions',fontsize=25)\n",
        "plt.ylabel('Number of Attacks',fontsize=20)\n",
        "plt.xticks(rotation=90)\n",
        "\n",
        "# states with most attack\n",
        "plt.subplot(1,2,2)\n",
        "sns.barplot(global_terrorism['State'].value_counts().head(15).index, global_terrorism['State'].value_counts().head(15).values,palette='mako')\n",
        "plt.title('Most Attacked States',fontsize=20)\n",
        "plt.xlabel('States',fontsize=25)\n",
        "plt.ylabel('Number of Attacks',fontsize=20)\n",
        "plt.xticks(rotation=90)\n",
        "plt.gcf().set_size_inches(15, 5)"
      ]
    },
    {
      "cell_type": "markdown",
      "metadata": {
        "id": "ZMQ50KwwbY_e"
      },
      "source": [
        "* Most Attacked Region is 'Middle East and North Africa' then comes South Asia\n",
        "* Most Attacked States is 'Baghdad' then comes 'Northem irland'\n"
      ]
    },
    {
      "cell_type": "code",
      "execution_count": null,
      "metadata": {
        "id": "s3jTICMsRC7J"
      },
      "outputs": [],
      "source": [
        ""
      ]
    },
    {
      "cell_type": "markdown",
      "metadata": {
        "id": "3NSlTBDMdy6F"
      },
      "source": [
        "### Analysing data to show yearly growth of attacks"
      ]
    },
    {
      "cell_type": "code",
      "execution_count": 27,
      "metadata": {
        "colab": {
          "base_uri": "https://localhost:8080/"
        },
        "id": "bVz6YLrDe12g",
        "outputId": "b323c76a-b9e5-4b74-ab3c-9b0f3e449e77"
      },
      "outputs": [
        {
          "output_type": "execute_result",
          "data": {
            "text/plain": [
              "array([1970, 1971, 1972, 1973, 1974, 1975, 1976, 1977, 1978, 1979, 1980,\n",
              "       1981, 1986, 1982, 1983, 1984, 1985, 1987, 1988, 1989, 1990, 1991,\n",
              "       1992, 1994, 1995, 1996, 1997, 1998, 1999, 2000, 2001, 2002, 2003,\n",
              "       2004, 2005, 2006, 2007, 2008, 2009, 2010, 2011, 2012, 2013, 2014,\n",
              "       2015, 2016, 2017])"
            ]
          },
          "metadata": {},
          "execution_count": 27
        }
      ],
      "source": [
        "# getting unique values(years) into df\n",
        "x_year = global_terrorism['Year'].unique()\n",
        "x_year\n"
      ]
    },
    {
      "cell_type": "code",
      "execution_count": 28,
      "metadata": {
        "colab": {
          "base_uri": "https://localhost:8080/"
        },
        "id": "yNJ6-AL0fNOb",
        "outputId": "eb23a9fc-7083-4cc6-93c5-5e3b1880d82a"
      },
      "outputs": [
        {
          "output_type": "stream",
          "name": "stdout",
          "text": [
            "1970      651\n",
            "1971      471\n",
            "1972      568\n",
            "1973      473\n",
            "1974      581\n",
            "1975      740\n",
            "1976      923\n",
            "1977     1319\n",
            "1978     1526\n",
            "1979     2662\n",
            "1980     2662\n",
            "1981     2586\n",
            "1982     2544\n",
            "1983     2870\n",
            "1984     3495\n",
            "1985     2915\n",
            "1986     2860\n",
            "1987     3183\n",
            "1988     3721\n",
            "1989     4324\n",
            "1990     3887\n",
            "1991     4683\n",
            "1992     5071\n",
            "1994     3456\n",
            "1995     3081\n",
            "1996     3058\n",
            "1997     3197\n",
            "1998      934\n",
            "1999     1395\n",
            "2000     1814\n",
            "2001     1906\n",
            "2002     1333\n",
            "2003     1278\n",
            "2004     1166\n",
            "2005     2017\n",
            "2006     2758\n",
            "2007     3242\n",
            "2008     4805\n",
            "2009     4721\n",
            "2010     4826\n",
            "2011     5076\n",
            "2012     8522\n",
            "2013    12036\n",
            "2014    16903\n",
            "2015    14965\n",
            "2016    13587\n",
            "2017    10900\n",
            "Name: Year, dtype: int64\n"
          ]
        }
      ],
      "source": [
        "# sort & count the unique values\n",
        "y_count_years = global_terrorism['Year'].value_counts(dropna = False).sort_index()\n",
        "print(y_count_years)"
      ]
    },
    {
      "cell_type": "code",
      "execution_count": 29,
      "metadata": {
        "colab": {
          "base_uri": "https://localhost:8080/",
          "height": 484
        },
        "id": "6iP3ti3-e8Vf",
        "outputId": "39b161ba-f39e-488e-cbd4-9c2378efcbdf"
      },
      "outputs": [
        {
          "output_type": "display_data",
          "data": {
            "text/plain": [
              "<Figure size 864x504 with 1 Axes>"
            ],
            "image/png": "[encoded data removed]"
          },
          "metadata": {
            "needs_background": "light"
          }
        }
      ],
      "source": [
        "\n",
        "plt.figure(figsize = (12,7))\n",
        "sns.barplot(x = x_year,\n",
        "           y = y_count_years,\n",
        "           palette = \"icefire\")\n",
        "plt.xticks(rotation = 75)\n",
        "plt.xlabel('Attack Year')\n",
        "plt.ylabel('Number of Attacks each year')\n",
        "plt.title('Attack_of_Years')\n",
        "plt.show()\n"
      ]
    },
    {
      "cell_type": "markdown",
      "metadata": {
        "id": "OnuafS-YhvyV"
      },
      "source": [
        "#### After the analysis we say that: \n",
        "* 2014 appears to be witness of a huge terrorist attacks\n",
        "* After 2011 we see there is a large growth recorded in attacks of terrorism.\n"
      ]
    },
    {
      "cell_type": "code",
      "execution_count": null,
      "metadata": {
        "id": "FvMf-IXufxTI"
      },
      "outputs": [],
      "source": [
        ""
      ]
    },
    {
      "cell_type": "markdown",
      "metadata": {
        "id": "7Jyz0nLcmhby"
      },
      "source": [
        "### Analysing data on deaths "
      ]
    },
    {
      "cell_type": "code",
      "execution_count": 30,
      "metadata": {
        "colab": {
          "base_uri": "https://localhost:8080/",
          "height": 556
        },
        "id": "8f8Zo_G0nGEX",
        "outputId": "c39a0c87-7d01-451a-8313-fb9c7fd368e8"
      },
      "outputs": [
        {
          "output_type": "display_data",
          "data": {
            "text/plain": [
              "<Figure size 1080x576 with 1 Axes>"
            ],
            "image/png": "[encoded data removed]"
          },
          "metadata": {
            "needs_background": "light"
          }
        }
      ],
      "source": [
        "\n",
        "plt.figure(figsize = (15,8))\n",
        "global_terrorism.groupby(['Year'])['Killed'].sum().plot(kind='bar',colormap='cool')\n",
        "plt.title('Number of Deaths in different years',fontsize=25)\n",
        "plt.xlabel('Years',fontsize=25)\n",
        "plt.ylabel('Number of Deaths',fontsize=25)\n",
        "plt.xticks(rotation=90)\n",
        "plt.show()\n",
        "\n",
        "\n"
      ]
    },
    {
      "cell_type": "markdown",
      "metadata": {
        "id": "C6Pwky0hpKi0"
      },
      "source": [
        "#### conclusion:\n",
        "* Number of deaths caused by terrorism is more between 2014 and 2018.\n",
        "*  approx more than 50K people being killed.\n",
        "*  High peak went to 2014 with 45K+ deaths.\n",
        "*  After 2011 very huge amount of death cases are recorded in the the data \n",
        "\n"
      ]
    },
    {
      "cell_type": "markdown",
      "metadata": {
        "id": "dGcnhD5Uvdew"
      },
      "source": [
        "### Death analysis :('region' & 'country')"
      ]
    },
    {
      "cell_type": "code",
      "execution_count": 31,
      "metadata": {
        "colab": {
          "base_uri": "https://localhost:8080/"
        },
        "id": "1QiFExAGyc8A",
        "outputId": "f86137ce-f3ac-4d69-bf0f-54289e02dd24"
      },
      "outputs": [
        {
          "output_type": "execute_result",
          "data": {
            "text/plain": [
              "Region\n",
              "Middle East & North Africa     137642.0\n",
              "South Asia                     101319.0\n",
              "Sub-Saharan Africa              78386.0\n",
              "South America                   28849.0\n",
              "Central America & Caribbean     28708.0\n",
              "Southeast Asia                  15637.0\n",
              "Eastern Europe                   7415.0\n",
              "Western Europe                   6694.0\n",
              "North America                    4916.0\n",
              "East Asia                        1152.0\n",
              "Central Asia                     1000.0\n",
              "Australasia & Oceania             150.0\n",
              "Name: Killed, dtype: float64"
            ]
          },
          "metadata": {},
          "execution_count": 31
        }
      ],
      "source": [
        "# group by the columns ('region' & 'killed') and then sort it.\n",
        "kill_region = global_terrorism.groupby(['Region'])['Killed'].sum().sort_values(ascending = False)\n",
        "kill_region"
      ]
    },
    {
      "cell_type": "code",
      "execution_count": 32,
      "metadata": {
        "colab": {
          "base_uri": "https://localhost:8080/"
        },
        "id": "WuA2Fmbb0xxo",
        "outputId": "c780f08d-6c2e-41e7-906c-c24ce07b7733"
      },
      "outputs": [
        {
          "output_type": "execute_result",
          "data": {
            "text/plain": [
              "Country\n",
              "Iraq           78589.0\n",
              "Afghanistan    39384.0\n",
              "Pakistan       23822.0\n",
              "Nigeria        22682.0\n",
              "India          19341.0\n",
              "Sri Lanka      15530.0\n",
              "Syria          15229.0\n",
              "Colombia       14698.0\n",
              "Peru           12771.0\n",
              "El Salvador    12053.0\n",
              "Name: Killed, dtype: float64"
            ]
          },
          "metadata": {},
          "execution_count": 32
        }
      ],
      "source": [
        "# group by the columns ('country' & 'killed') and then sort it.\n",
        "kill_country=global_terrorism.groupby(['Country'])['Killed'].sum().sort_values(ascending = False).head(10)\n",
        "kill_country"
      ]
    },
    {
      "cell_type": "code",
      "execution_count": 33,
      "metadata": {
        "colab": {
          "base_uri": "https://localhost:8080/",
          "height": 511
        },
        "id": "5fheonX8wBG3",
        "outputId": "cafa5b06-446a-4b75-804e-c9008d67abf1"
      },
      "outputs": [
        {
          "output_type": "display_data",
          "data": {
            "text/plain": [
              "<Figure size 1080x360 with 2 Axes>"
            ],
            "image/png": "[encoded data removed]"
          },
          "metadata": {
            "needs_background": "light"
          }
        }
      ],
      "source": [
        "plt.subplot(1,2,1)\n",
        "kill_region.plot(kind='bar',colormap='winter')\n",
        "\n",
        "plt.title('Regions wise Killed People',fontsize=15)\n",
        "plt.xlabel('Region',fontsize=15)\n",
        "plt.ylabel('Number of Killed',fontsize=15)\n",
        "plt.xticks(rotation=90)\n",
        "plt.gcf().set_size_inches(15, 5)\n",
        "\n",
        "\n",
        "\n",
        "plt.subplot(1,2,2)\n",
        "kill_country.plot(kind='bar',colormap='summer')\n",
        "plt.title('Country wise Killed People',fontsize=15)\n",
        "plt.xlabel('Country',fontsize=15)\n",
        "plt.ylabel('Number of Killed',fontsize=15)\n",
        "plt.xticks(rotation=90)\n",
        "plt.gcf().set_size_inches(15, 5)"
      ]
    },
    {
      "cell_type": "markdown",
      "metadata": {
        "id": "IPFeiy-r1osH"
      },
      "source": [
        "#### With these Graphs, we can conclude that :\n",
        "* 'Middle East & North Africa' Region has the most Killed people approx(1.4 Lacs) followed by 'South-Asia' & 'Sub-saharan Africa'.\n",
        "*  In countries 'Iraq' has the most killed people approx(80k) followed by 'Afghanistan' & 'Pakistan'."
      ]
    },
    {
      "cell_type": "markdown",
      "metadata": {
        "id": "K_j39iOt4jRJ"
      },
      "source": [
        "### Analysis based on **terrorist Gange**"
      ]
    },
    {
      "cell_type": "code",
      "execution_count": 34,
      "metadata": {
        "colab": {
          "base_uri": "https://localhost:8080/"
        },
        "id": "gqBLa_v4nhLT",
        "outputId": "2ac90adf-7b7c-4f96-d27a-c9f7524cb09c"
      },
      "outputs": [
        {
          "output_type": "execute_result",
          "data": {
            "text/plain": [
              "0                                             MANO-D\n",
              "1                 23rd of September Communist League\n",
              "2                                            Unknown\n",
              "3                                            Unknown\n",
              "4                                            Unknown\n",
              "                             ...                    \n",
              "181686                                    Al-Shabaab\n",
              "181687                             Muslim extremists\n",
              "181688    Bangsamoro Islamic Freedom Movement (BIFM)\n",
              "181689                                       Unknown\n",
              "181690                                       Unknown\n",
              "Name: Gang_Name, Length: 181691, dtype: object"
            ]
          },
          "metadata": {},
          "execution_count": 34
        }
      ],
      "source": [
        "# print column 'Gang_Name'\n",
        "global_terrorism['Gang_Name']"
      ]
    },
    {
      "cell_type": "code",
      "execution_count": 35,
      "metadata": {
        "colab": {
          "base_uri": "https://localhost:8080/"
        },
        "id": "vqPH7-lgvLBk",
        "outputId": "978a2f95-e54a-405e-9af0-06dcb0e34b35"
      },
      "outputs": [
        {
          "output_type": "execute_result",
          "data": {
            "text/plain": [
              "Unknown                                             82782\n",
              "Taliban                                              7478\n",
              "Islamic State of Iraq and the Levant (ISIL)          5613\n",
              "Shining Path (SL)                                    4555\n",
              "Farabundo Marti National Liberation Front (FMLN)     3351\n",
              "Al-Shabaab                                           3288\n",
              "New People's Army (NPA)                              2772\n",
              "Irish Republican Army (IRA)                          2671\n",
              "Revolutionary Armed Forces of Colombia (FARC)        2487\n",
              "Boko Haram                                           2418\n",
              "Kurdistan Workers' Party (PKK)                       2310\n",
              "Name: Gang_Name, dtype: int64"
            ]
          },
          "metadata": {},
          "execution_count": 35
        }
      ],
      "source": [
        "# count the most actives gangs of terrorist\n",
        "global_terrorism['Gang_Name'].value_counts()[:11]"
      ]
    },
    {
      "cell_type": "code",
      "execution_count": 36,
      "metadata": {
        "colab": {
          "base_uri": "https://localhost:8080/",
          "height": 551
        },
        "id": "sD9LpZNr717K",
        "outputId": "0fcf86c3-8d3c-4984-b12c-fc55d32320dc"
      },
      "outputs": [
        {
          "output_type": "stream",
          "name": "stderr",
          "text": [
            "/usr/local/lib/python3.7/dist-packages/seaborn/_decorators.py:43: FutureWarning: Pass the following variables as keyword args: x, y. From version 0.12, the only valid positional argument will be `data`, and passing other arguments without an explicit keyword will result in an error or misinterpretation.\n",
            "  FutureWarning\n"
          ]
        },
        {
          "output_type": "display_data",
          "data": {
            "text/plain": [
              "<Figure size 864x504 with 1 Axes>"
            ],
            "image/png": "[encoded data removed]"
          },
          "metadata": {
            "needs_background": "light"
          }
        }
      ],
      "source": [
        "\n",
        "plt.figure(figsize = (12,7))\n",
        "sns.barplot(global_terrorism['Gang_Name'].value_counts()[:11].values, global_terrorism['Gang_Name'].value_counts()[:11].index,palette='viridis')\n",
        "plt.title('Top 10 GANG NAME with highest attacks',fontsize=20)\n",
        "plt.xlabel('Number of Attacks',fontsize=15)\n",
        "plt.ylabel('Terrorist Groups',fontsize=15)\n",
        "plt.xticks(rotation= 90)\n",
        "plt.show()"
      ]
    },
    {
      "cell_type": "markdown",
      "metadata": {
        "id": "2pe3393CDS9f"
      },
      "source": [
        "            taliban is the most powerful, dengerous & and most activest gang in all of them"
      ]
    },
    {
      "cell_type": "markdown",
      "metadata": {
        "id": "3N_2ZxFWEa6I"
      },
      "source": [
        "### Analysis on 'Taliban'"
      ]
    },
    {
      "cell_type": "code",
      "execution_count": 37,
      "metadata": {
        "id": "dcMGcEcg9A1K"
      },
      "outputs": [],
      "source": [
        "taliban = global_terrorism[global_terrorism.Gang_Name == 'Taliban']\n"
      ]
    },
    {
      "cell_type": "code",
      "execution_count": 38,
      "metadata": {
        "colab": {
          "base_uri": "https://localhost:8080/",
          "height": 494
        },
        "id": "RKSYor-vFBmO",
        "outputId": "0636c736-8845-4d16-bf34-bb624ce11fa2"
      },
      "outputs": [
        {
          "output_type": "display_data",
          "data": {
            "text/plain": [
              "<Figure size 936x504 with 1 Axes>"
            ],
            "image/png": "[encoded data removed]"
          },
          "metadata": {
            "needs_background": "light"
          }
        }
      ],
      "source": [
        "plt.figure(figsize=(13,7))\n",
        "taliban.groupby(['Year'])['Killed'].sum().plot(kind='bar',colormap='cividis')\n",
        "plt.title('People Killed by Taliban over the Years',fontsize=20)\n",
        "plt.xlabel('Years',fontsize=20)\n",
        "plt.ylabel('Number of people killed',fontsize=25)\n",
        "plt.xticks(rotation=80)\n",
        "plt.grid()\n",
        "plt.show()"
      ]
    },
    {
      "cell_type": "markdown",
      "metadata": {
        "id": "QhUhcb42BpJ4"
      },
      "source": [
        "#### cunclusion:\n",
        "* High peak went to 2014 with more than 5000 deaths and its almost same for next 2-3 year\n",
        "* sudden growth recorded after 2011 "
      ]
    },
    {
      "cell_type": "code",
      "execution_count": null,
      "metadata": {
        "id": "EFw_5-Zv922y"
      },
      "outputs": [],
      "source": [
        ""
      ]
    }
  ],
  "metadata": {
    "colab": {
      "collapsed_sections": [],
      "name": "EDA on Global Terrorism",
      "provenance": [],
      "include_colab_link": true
    },
    "kernelspec": {
      "display_name": "Python 3",
      "name": "python3"
    },
    "language_info": {
      "name": "python"
    }
  },
  "nbformat": 4,
  "nbformat_minor": 0
}