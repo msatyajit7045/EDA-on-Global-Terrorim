{
  "cells": [
    {
      "cell_type": "markdown",
      "metadata": {
        "id": "view-in-github",
        "colab_type": "text"
      },
      "source": [
        "<a href=\"https://colab.research.google.com/github/msatyajit7045/EDA-on-Global-Terrorim/blob/main/EDA_on_Global_Terrorism.ipynb\" target=\"_parent\"><img src=\"https://colab.research.google.com/assets/colab-badge.svg\" alt=\"Open In Colab\"/></a>"
      ]
    },
    {
      "cell_type": "markdown",
      "source": [
        "## <b> The Global Terrorism Database (GTD) is an open-source database including information on terrorist attacks around the world from 1970 through 2017. The GTD includes systematic data on domestic as well as international terrorist incidents that have occurred during this time period and now includes more than 180,000 attacks. The database is maintained by researchers at the National Consortium for the Study of Terrorism and Responses to Terrorism (START), headquartered at the University of Maryland.</b>\n",
        "\n",
        "# <b> Explore and analyze the data to discover key findings pertaining to terrorist activities. </b>\n"
      ],
      "metadata": {
        "id": "qvcaLpWqP3Ga"
      }
    },
    {
      "cell_type": "code",
      "source": [
        "# importing laibraries\n",
        "import numpy as np\n",
        "import pandas as pd\n",
        "import seaborn as sns; sns.set(color_codes=True)\n",
        "import matplotlib.pyplot as plt\n",
        "import plotly.express as px\n",
        "%matplotlib inline\\"
      ],
      "metadata": {
        "id": "RBPwuHViP0u4"
      },
      "execution_count": 4,
      "outputs": []
    },
    {
      "cell_type": "code",
      "execution_count": 1,
      "metadata": {
        "colab": {
          "base_uri": "https://localhost:8080/"
        },
        "id": "ovCQgBdQLq_m",
        "outputId": "b3d151f4-7921-4b2a-8bf3-9d4299362221"
      },
      "outputs": [
        {
          "output_type": "stream",
          "name": "stdout",
          "text": [
            "Mounted at /content/drive\n"
          ]
        }
      ],
      "source": [
        "# mounting google drive\n",
        "from google.colab import drive\n",
        "drive.mount('/content/drive')"
      ]
    },
    {
      "cell_type": "code",
      "execution_count": 5,
      "metadata": {
        "colab": {
          "base_uri": "https://localhost:8080/"
        },
        "id": "GoKicLg-MW_9",
        "outputId": "7b558369-bb36-486d-cec9-43edfd017c97"
      },
      "outputs": [
        {
          "output_type": "stream",
          "name": "stderr",
          "text": [
            "/usr/local/lib/python3.7/dist-packages/IPython/core/interactiveshell.py:2882: DtypeWarning: Columns (4,6,31,33,61,62,63,76,79,90,92,94,96,114,115,121) have mixed types.Specify dtype option on import or set low_memory=False.\n",
            "  exec(code_obj, self.user_global_ns, self.user_ns)\n"
          ]
        }
      ],
      "source": [
        "# reading csv file\n",
        "global_terrorism = pd.read_csv('/content/drive/MyDrive/AlmaBetter/EDA Capstone Project/Global Terrorism Data.csv',encoding='ISO-8859-1')\n",
        "\n",
        "\n"
      ]
    },
    {
      "cell_type": "markdown",
      "metadata": {
        "id": "YWvqTEKPOw28"
      },
      "source": [
        "## **Details of DataFrame**\n"
      ]
    },
    {
      "cell_type": "code",
      "execution_count": 6,
      "metadata": {
        "colab": {
          "base_uri": "https://localhost:8080/",
          "height": 317
        },
        "id": "mkLgJ6QpNwV8",
        "outputId": "21c06222-55f0-46b7-bb7c-35e74a4f6f63"
      },
      "outputs": [
        {
          "output_type": "execute_result",
          "data": {
            "text/plain": [
              "        eventid  iyear  imonth  iday approxdate  extended resolution  country  \\\n",
              "0  197000000001   1970       7     2        NaN         0        NaN       58   \n",
              "1  197000000002   1970       0     0        NaN         0        NaN      130   \n",
              "2  197001000001   1970       1     0        NaN         0        NaN      160   \n",
              "3  197001000002   1970       1     0        NaN         0        NaN       78   \n",
              "4  197001000003   1970       1     0        NaN         0        NaN      101   \n",
              "\n",
              "          country_txt  region  ... addnotes scite1 scite2  scite3  dbsource  \\\n",
              "0  Dominican Republic       2  ...      NaN    NaN    NaN     NaN      PGIS   \n",
              "1              Mexico       1  ...      NaN    NaN    NaN     NaN      PGIS   \n",
              "2         Philippines       5  ...      NaN    NaN    NaN     NaN      PGIS   \n",
              "3              Greece       8  ...      NaN    NaN    NaN     NaN      PGIS   \n",
              "4               Japan       4  ...      NaN    NaN    NaN     NaN      PGIS   \n",
              "\n",
              "   INT_LOG  INT_IDEO INT_MISC INT_ANY  related  \n",
              "0        0         0        0       0      NaN  \n",
              "1        0         1        1       1      NaN  \n",
              "2       -9        -9        1       1      NaN  \n",
              "3       -9        -9        1       1      NaN  \n",
              "4       -9        -9        1       1      NaN  \n",
              "\n",
              "[5 rows x 135 columns]"
            ],
            "text/html": [
              "\n",
              "  <div id=\"df-db6e17e2-d5ad-44c6-9aaa-e55296e26e5e\">\n",
              "    <div class=\"colab-df-container\">\n",
              "      <div>\n",
              "<style scoped>\n",
              "    .dataframe tbody tr th:only-of-type {\n",
              "        vertical-align: middle;\n",
              "    }\n",
              "\n",
              "    .dataframe tbody tr th {\n",
              "        vertical-align: top;\n",
              "    }\n",
              "\n",
              "    .dataframe thead th {\n",
              "        text-align: right;\n",
              "    }\n",
              "</style>\n",
              "<table border=\"1\" class=\"dataframe\">\n",
              "  <thead>\n",
              "    <tr style=\"text-align: right;\">\n",
              "      <th></th>\n",
              "      <th>eventid</th>\n",
              "      <th>iyear</th>\n",
              "      <th>imonth</th>\n",
              "      <th>iday</th>\n",
              "      <th>approxdate</th>\n",
              "      <th>extended</th>\n",
              "      <th>resolution</th>\n",
              "      <th>country</th>\n",
              "      <th>country_txt</th>\n",
              "      <th>region</th>\n",
              "      <th>...</th>\n",
              "      <th>addnotes</th>\n",
              "      <th>scite1</th>\n",
              "      <th>scite2</th>\n",
              "      <th>scite3</th>\n",
              "      <th>dbsource</th>\n",
              "      <th>INT_LOG</th>\n",
              "      <th>INT_IDEO</th>\n",
              "      <th>INT_MISC</th>\n",
              "      <th>INT_ANY</th>\n",
              "      <th>related</th>\n",
              "    </tr>\n",
              "  </thead>\n",
              "  <tbody>\n",
              "    <tr>\n",
              "      <th>0</th>\n",
              "      <td>197000000001</td>\n",
              "      <td>1970</td>\n",
              "      <td>7</td>\n",
              "      <td>2</td>\n",
              "      <td>NaN</td>\n",
              "      <td>0</td>\n",
              "      <td>NaN</td>\n",
              "      <td>58</td>\n",
              "      <td>Dominican Republic</td>\n",
              "      <td>2</td>\n",
              "      <td>...</td>\n",
              "      <td>NaN</td>\n",
              "      <td>NaN</td>\n",
              "      <td>NaN</td>\n",
              "      <td>NaN</td>\n",
              "      <td>PGIS</td>\n",
              "      <td>0</td>\n",
              "      <td>0</td>\n",
              "      <td>0</td>\n",
              "      <td>0</td>\n",
              "      <td>NaN</td>\n",
              "    </tr>\n",
              "    <tr>\n",
              "      <th>1</th>\n",
              "      <td>197000000002</td>\n",
              "      <td>1970</td>\n",
              "      <td>0</td>\n",
              "      <td>0</td>\n",
              "      <td>NaN</td>\n",
              "      <td>0</td>\n",
              "      <td>NaN</td>\n",
              "      <td>130</td>\n",
              "      <td>Mexico</td>\n",
              "      <td>1</td>\n",
              "      <td>...</td>\n",
              "      <td>NaN</td>\n",
              "      <td>NaN</td>\n",
              "      <td>NaN</td>\n",
              "      <td>NaN</td>\n",
              "      <td>PGIS</td>\n",
              "      <td>0</td>\n",
              "      <td>1</td>\n",
              "      <td>1</td>\n",
              "      <td>1</td>\n",
              "      <td>NaN</td>\n",
              "    </tr>\n",
              "    <tr>\n",
              "      <th>2</th>\n",
              "      <td>197001000001</td>\n",
              "      <td>1970</td>\n",
              "      <td>1</td>\n",
              "      <td>0</td>\n",
              "      <td>NaN</td>\n",
              "      <td>0</td>\n",
              "      <td>NaN</td>\n",
              "      <td>160</td>\n",
              "      <td>Philippines</td>\n",
              "      <td>5</td>\n",
              "      <td>...</td>\n",
              "      <td>NaN</td>\n",
              "      <td>NaN</td>\n",
              "      <td>NaN</td>\n",
              "      <td>NaN</td>\n",
              "      <td>PGIS</td>\n",
              "      <td>-9</td>\n",
              "      <td>-9</td>\n",
              "      <td>1</td>\n",
              "      <td>1</td>\n",
              "      <td>NaN</td>\n",
              "    </tr>\n",
              "    <tr>\n",
              "      <th>3</th>\n",
              "      <td>197001000002</td>\n",
              "      <td>1970</td>\n",
              "      <td>1</td>\n",
              "      <td>0</td>\n",
              "      <td>NaN</td>\n",
              "      <td>0</td>\n",
              "      <td>NaN</td>\n",
              "      <td>78</td>\n",
              "      <td>Greece</td>\n",
              "      <td>8</td>\n",
              "      <td>...</td>\n",
              "      <td>NaN</td>\n",
              "      <td>NaN</td>\n",
              "      <td>NaN</td>\n",
              "      <td>NaN</td>\n",
              "      <td>PGIS</td>\n",
              "      <td>-9</td>\n",
              "      <td>-9</td>\n",
              "      <td>1</td>\n",
              "      <td>1</td>\n",
              "      <td>NaN</td>\n",
              "    </tr>\n",
              "    <tr>\n",
              "      <th>4</th>\n",
              "      <td>197001000003</td>\n",
              "      <td>1970</td>\n",
              "      <td>1</td>\n",
              "      <td>0</td>\n",
              "      <td>NaN</td>\n",
              "      <td>0</td>\n",
              "      <td>NaN</td>\n",
              "      <td>101</td>\n",
              "      <td>Japan</td>\n",
              "      <td>4</td>\n",
              "      <td>...</td>\n",
              "      <td>NaN</td>\n",
              "      <td>NaN</td>\n",
              "      <td>NaN</td>\n",
              "      <td>NaN</td>\n",
              "      <td>PGIS</td>\n",
              "      <td>-9</td>\n",
              "      <td>-9</td>\n",
              "      <td>1</td>\n",
              "      <td>1</td>\n",
              "      <td>NaN</td>\n",
              "    </tr>\n",
              "  </tbody>\n",
              "</table>\n",
              "<p>5 rows × 135 columns</p>\n",
              "</div>\n",
              "      <button class=\"colab-df-convert\" onclick=\"convertToInteractive('df-db6e17e2-d5ad-44c6-9aaa-e55296e26e5e')\"\n",
              "              title=\"Convert this dataframe to an interactive table.\"\n",
              "              style=\"display:none;\">\n",
              "        \n",
              "  <svg xmlns=\"http://www.w3.org/2000/svg\" height=\"24px\"viewBox=\"0 0 24 24\"\n",
              "       width=\"24px\">\n",
              "    <path d=\"M0 0h24v24H0V0z\" fill=\"none\"/>\n",
              "    <path d=\"M18.56 5.44l.94 2.06.94-2.06 2.06-.94-2.06-.94-.94-2.06-.94 2.06-2.06.94zm-11 1L8.5 8.5l.94-2.06 2.06-.94-2.06-.94L8.5 2.5l-.94 2.06-2.06.94zm10 10l.94 2.06.94-2.06 2.06-.94-2.06-.94-.94-2.06-.94 2.06-2.06.94z\"/><path d=\"M17.41 7.96l-1.37-1.37c-.4-.4-.92-.59-1.43-.59-.52 0-1.04.2-1.43.59L10.3 9.45l-7.72 7.72c-.78.78-.78 2.05 0 2.83L4 21.41c.39.39.9.59 1.41.59.51 0 1.02-.2 1.41-.59l7.78-7.78 2.81-2.81c.8-.78.8-2.07 0-2.86zM5.41 20L4 18.59l7.72-7.72 1.47 1.35L5.41 20z\"/>\n",
              "  </svg>\n",
              "      </button>\n",
              "      \n",
              "  <style>\n",
              "    .colab-df-container {\n",
              "      display:flex;\n",
              "      flex-wrap:wrap;\n",
              "      gap: 12px;\n",
              "    }\n",
              "\n",
              "    .colab-df-convert {\n",
              "      background-color: #E8F0FE;\n",
              "      border: none;\n",
              "      border-radius: 50%;\n",
              "      cursor: pointer;\n",
              "      display: none;\n",
              "      fill: #1967D2;\n",
              "      height: 32px;\n",
              "      padding: 0 0 0 0;\n",
              "      width: 32px;\n",
              "    }\n",
              "\n",
              "    .colab-df-convert:hover {\n",
              "      background-color: #E2EBFA;\n",
              "      box-shadow: 0px 1px 2px rgba(60, 64, 67, 0.3), 0px 1px 3px 1px rgba(60, 64, 67, 0.15);\n",
              "      fill: #174EA6;\n",
              "    }\n",
              "\n",
              "    [theme=dark] .colab-df-convert {\n",
              "      background-color: #3B4455;\n",
              "      fill: #D2E3FC;\n",
              "    }\n",
              "\n",
              "    [theme=dark] .colab-df-convert:hover {\n",
              "      background-color: #434B5C;\n",
              "      box-shadow: 0px 1px 3px 1px rgba(0, 0, 0, 0.15);\n",
              "      filter: drop-shadow(0px 1px 2px rgba(0, 0, 0, 0.3));\n",
              "      fill: #FFFFFF;\n",
              "    }\n",
              "  </style>\n",
              "\n",
              "      <script>\n",
              "        const buttonEl =\n",
              "          document.querySelector('#df-db6e17e2-d5ad-44c6-9aaa-e55296e26e5e button.colab-df-convert');\n",
              "        buttonEl.style.display =\n",
              "          google.colab.kernel.accessAllowed ? 'block' : 'none';\n",
              "\n",
              "        async function convertToInteractive(key) {\n",
              "          const element = document.querySelector('#df-db6e17e2-d5ad-44c6-9aaa-e55296e26e5e');\n",
              "          const dataTable =\n",
              "            await google.colab.kernel.invokeFunction('convertToInteractive',\n",
              "                                                     [key], {});\n",
              "          if (!dataTable) return;\n",
              "\n",
              "          const docLinkHtml = 'Like what you see? Visit the ' +\n",
              "            '<a target=\"_blank\" href=https://colab.research.google.com/notebooks/data_table.ipynb>data table notebook</a>'\n",
              "            + ' to learn more about interactive tables.';\n",
              "          element.innerHTML = '';\n",
              "          dataTable['output_type'] = 'display_data';\n",
              "          await google.colab.output.renderOutput(dataTable, element);\n",
              "          const docLink = document.createElement('div');\n",
              "          docLink.innerHTML = docLinkHtml;\n",
              "          element.appendChild(docLink);\n",
              "        }\n",
              "      </script>\n",
              "    </div>\n",
              "  </div>\n",
              "  "
            ]
          },
          "metadata": {},
          "execution_count": 6
        }
      ],
      "source": [
        "# lets see some top rows\n",
        "global_terrorism.head()"
      ]
    },
    {
      "cell_type": "code",
      "execution_count": 7,
      "metadata": {
        "colab": {
          "base_uri": "https://localhost:8080/",
          "height": 716
        },
        "id": "6yuXukCNSsKj",
        "outputId": "de3d2d86-627a-4ee6-e5fe-e6631d8b5cbc"
      },
      "outputs": [
        {
          "output_type": "execute_result",
          "data": {
            "text/plain": [
              "             eventid  iyear  imonth  iday approxdate  extended resolution  \\\n",
              "181686  201712310022   2017      12    31        NaN         0        NaN   \n",
              "181687  201712310029   2017      12    31        NaN         0        NaN   \n",
              "181688  201712310030   2017      12    31        NaN         0        NaN   \n",
              "181689  201712310031   2017      12    31        NaN         0        NaN   \n",
              "181690  201712310032   2017      12    31        NaN         0        NaN   \n",
              "\n",
              "        country  country_txt  region  ... addnotes  \\\n",
              "181686      182      Somalia      11  ...      NaN   \n",
              "181687      200        Syria      10  ...      NaN   \n",
              "181688      160  Philippines       5  ...      NaN   \n",
              "181689       92        India       6  ...      NaN   \n",
              "181690      160  Philippines       5  ...      NaN   \n",
              "\n",
              "                                                   scite1  \\\n",
              "181686  \"Somalia: Al-Shabaab Militants Attack Army Che...   \n",
              "181687  \"Putin's 'victory' in Syria has turned into a ...   \n",
              "181688  \"Maguindanao clashes trap tribe members,\" Phil...   \n",
              "181689  \"Trader escapes grenade attack in Imphal,\" Bus...   \n",
              "181690  \"Security tightened in Cotabato following IED ...   \n",
              "\n",
              "                                                   scite2  \\\n",
              "181686  \"Highlights: Somalia Daily Media Highlights 2 ...   \n",
              "181687  \"Two Russian soldiers killed at Hmeymim base i...   \n",
              "181688                                                NaN   \n",
              "181689                                                NaN   \n",
              "181690  \"Security tightened in Cotabato City,\" Manila ...   \n",
              "\n",
              "                                                   scite3  \\\n",
              "181686  \"Highlights: Somalia Daily Media Highlights 1 ...   \n",
              "181687  \"Two Russian servicemen killed in Syria mortar...   \n",
              "181688                                                NaN   \n",
              "181689                                                NaN   \n",
              "181690                                                NaN   \n",
              "\n",
              "                        dbsource  INT_LOG  INT_IDEO INT_MISC INT_ANY  related  \n",
              "181686  START Primary Collection        0         0        0       0      NaN  \n",
              "181687  START Primary Collection       -9        -9        1       1      NaN  \n",
              "181688  START Primary Collection        0         0        0       0      NaN  \n",
              "181689  START Primary Collection       -9        -9        0      -9      NaN  \n",
              "181690  START Primary Collection       -9        -9        0      -9      NaN  \n",
              "\n",
              "[5 rows x 135 columns]"
            ],
            "text/html": [
              "\n",
              "  <div id=\"df-6e76630b-a8a9-4b33-8825-979b53e508a9\">\n",
              "    <div class=\"colab-df-container\">\n",
              "      <div>\n",
              "<style scoped>\n",
              "    .dataframe tbody tr th:only-of-type {\n",
              "        vertical-align: middle;\n",
              "    }\n",
              "\n",
              "    .dataframe tbody tr th {\n",
              "        vertical-align: top;\n",
              "    }\n",
              "\n",
              "    .dataframe thead th {\n",
              "        text-align: right;\n",
              "    }\n",
              "</style>\n",
              "<table border=\"1\" class=\"dataframe\">\n",
              "  <thead>\n",
              "    <tr style=\"text-align: right;\">\n",
              "      <th></th>\n",
              "      <th>eventid</th>\n",
              "      <th>iyear</th>\n",
              "      <th>imonth</th>\n",
              "      <th>iday</th>\n",
              "      <th>approxdate</th>\n",
              "      <th>extended</th>\n",
              "      <th>resolution</th>\n",
              "      <th>country</th>\n",
              "      <th>country_txt</th>\n",
              "      <th>region</th>\n",
              "      <th>...</th>\n",
              "      <th>addnotes</th>\n",
              "      <th>scite1</th>\n",
              "      <th>scite2</th>\n",
              "      <th>scite3</th>\n",
              "      <th>dbsource</th>\n",
              "      <th>INT_LOG</th>\n",
              "      <th>INT_IDEO</th>\n",
              "      <th>INT_MISC</th>\n",
              "      <th>INT_ANY</th>\n",
              "      <th>related</th>\n",
              "    </tr>\n",
              "  </thead>\n",
              "  <tbody>\n",
              "    <tr>\n",
              "      <th>181686</th>\n",
              "      <td>201712310022</td>\n",
              "      <td>2017</td>\n",
              "      <td>12</td>\n",
              "      <td>31</td>\n",
              "      <td>NaN</td>\n",
              "      <td>0</td>\n",
              "      <td>NaN</td>\n",
              "      <td>182</td>\n",
              "      <td>Somalia</td>\n",
              "      <td>11</td>\n",
              "      <td>...</td>\n",
              "      <td>NaN</td>\n",
              "      <td>\"Somalia: Al-Shabaab Militants Attack Army Che...</td>\n",
              "      <td>\"Highlights: Somalia Daily Media Highlights 2 ...</td>\n",
              "      <td>\"Highlights: Somalia Daily Media Highlights 1 ...</td>\n",
              "      <td>START Primary Collection</td>\n",
              "      <td>0</td>\n",
              "      <td>0</td>\n",
              "      <td>0</td>\n",
              "      <td>0</td>\n",
              "      <td>NaN</td>\n",
              "    </tr>\n",
              "    <tr>\n",
              "      <th>181687</th>\n",
              "      <td>201712310029</td>\n",
              "      <td>2017</td>\n",
              "      <td>12</td>\n",
              "      <td>31</td>\n",
              "      <td>NaN</td>\n",
              "      <td>0</td>\n",
              "      <td>NaN</td>\n",
              "      <td>200</td>\n",
              "      <td>Syria</td>\n",
              "      <td>10</td>\n",
              "      <td>...</td>\n",
              "      <td>NaN</td>\n",
              "      <td>\"Putin's 'victory' in Syria has turned into a ...</td>\n",
              "      <td>\"Two Russian soldiers killed at Hmeymim base i...</td>\n",
              "      <td>\"Two Russian servicemen killed in Syria mortar...</td>\n",
              "      <td>START Primary Collection</td>\n",
              "      <td>-9</td>\n",
              "      <td>-9</td>\n",
              "      <td>1</td>\n",
              "      <td>1</td>\n",
              "      <td>NaN</td>\n",
              "    </tr>\n",
              "    <tr>\n",
              "      <th>181688</th>\n",
              "      <td>201712310030</td>\n",
              "      <td>2017</td>\n",
              "      <td>12</td>\n",
              "      <td>31</td>\n",
              "      <td>NaN</td>\n",
              "      <td>0</td>\n",
              "      <td>NaN</td>\n",
              "      <td>160</td>\n",
              "      <td>Philippines</td>\n",
              "      <td>5</td>\n",
              "      <td>...</td>\n",
              "      <td>NaN</td>\n",
              "      <td>\"Maguindanao clashes trap tribe members,\" Phil...</td>\n",
              "      <td>NaN</td>\n",
              "      <td>NaN</td>\n",
              "      <td>START Primary Collection</td>\n",
              "      <td>0</td>\n",
              "      <td>0</td>\n",
              "      <td>0</td>\n",
              "      <td>0</td>\n",
              "      <td>NaN</td>\n",
              "    </tr>\n",
              "    <tr>\n",
              "      <th>181689</th>\n",
              "      <td>201712310031</td>\n",
              "      <td>2017</td>\n",
              "      <td>12</td>\n",
              "      <td>31</td>\n",
              "      <td>NaN</td>\n",
              "      <td>0</td>\n",
              "      <td>NaN</td>\n",
              "      <td>92</td>\n",
              "      <td>India</td>\n",
              "      <td>6</td>\n",
              "      <td>...</td>\n",
              "      <td>NaN</td>\n",
              "      <td>\"Trader escapes grenade attack in Imphal,\" Bus...</td>\n",
              "      <td>NaN</td>\n",
              "      <td>NaN</td>\n",
              "      <td>START Primary Collection</td>\n",
              "      <td>-9</td>\n",
              "      <td>-9</td>\n",
              "      <td>0</td>\n",
              "      <td>-9</td>\n",
              "      <td>NaN</td>\n",
              "    </tr>\n",
              "    <tr>\n",
              "      <th>181690</th>\n",
              "      <td>201712310032</td>\n",
              "      <td>2017</td>\n",
              "      <td>12</td>\n",
              "      <td>31</td>\n",
              "      <td>NaN</td>\n",
              "      <td>0</td>\n",
              "      <td>NaN</td>\n",
              "      <td>160</td>\n",
              "      <td>Philippines</td>\n",
              "      <td>5</td>\n",
              "      <td>...</td>\n",
              "      <td>NaN</td>\n",
              "      <td>\"Security tightened in Cotabato following IED ...</td>\n",
              "      <td>\"Security tightened in Cotabato City,\" Manila ...</td>\n",
              "      <td>NaN</td>\n",
              "      <td>START Primary Collection</td>\n",
              "      <td>-9</td>\n",
              "      <td>-9</td>\n",
              "      <td>0</td>\n",
              "      <td>-9</td>\n",
              "      <td>NaN</td>\n",
              "    </tr>\n",
              "  </tbody>\n",
              "</table>\n",
              "<p>5 rows × 135 columns</p>\n",
              "</div>\n",
              "      <button class=\"colab-df-convert\" onclick=\"convertToInteractive('df-6e76630b-a8a9-4b33-8825-979b53e508a9')\"\n",
              "              title=\"Convert this dataframe to an interactive table.\"\n",
              "              style=\"display:none;\">\n",
              "        \n",
              "  <svg xmlns=\"http://www.w3.org/2000/svg\" height=\"24px\"viewBox=\"0 0 24 24\"\n",
              "       width=\"24px\">\n",
              "    <path d=\"M0 0h24v24H0V0z\" fill=\"none\"/>\n",
              "    <path d=\"M18.56 5.44l.94 2.06.94-2.06 2.06-.94-2.06-.94-.94-2.06-.94 2.06-2.06.94zm-11 1L8.5 8.5l.94-2.06 2.06-.94-2.06-.94L8.5 2.5l-.94 2.06-2.06.94zm10 10l.94 2.06.94-2.06 2.06-.94-2.06-.94-.94-2.06-.94 2.06-2.06.94z\"/><path d=\"M17.41 7.96l-1.37-1.37c-.4-.4-.92-.59-1.43-.59-.52 0-1.04.2-1.43.59L10.3 9.45l-7.72 7.72c-.78.78-.78 2.05 0 2.83L4 21.41c.39.39.9.59 1.41.59.51 0 1.02-.2 1.41-.59l7.78-7.78 2.81-2.81c.8-.78.8-2.07 0-2.86zM5.41 20L4 18.59l7.72-7.72 1.47 1.35L5.41 20z\"/>\n",
              "  </svg>\n",
              "      </button>\n",
              "      \n",
              "  <style>\n",
              "    .colab-df-container {\n",
              "      display:flex;\n",
              "      flex-wrap:wrap;\n",
              "      gap: 12px;\n",
              "    }\n",
              "\n",
              "    .colab-df-convert {\n",
              "      background-color: #E8F0FE;\n",
              "      border: none;\n",
              "      border-radius: 50%;\n",
              "      cursor: pointer;\n",
              "      display: none;\n",
              "      fill: #1967D2;\n",
              "      height: 32px;\n",
              "      padding: 0 0 0 0;\n",
              "      width: 32px;\n",
              "    }\n",
              "\n",
              "    .colab-df-convert:hover {\n",
              "      background-color: #E2EBFA;\n",
              "      box-shadow: 0px 1px 2px rgba(60, 64, 67, 0.3), 0px 1px 3px 1px rgba(60, 64, 67, 0.15);\n",
              "      fill: #174EA6;\n",
              "    }\n",
              "\n",
              "    [theme=dark] .colab-df-convert {\n",
              "      background-color: #3B4455;\n",
              "      fill: #D2E3FC;\n",
              "    }\n",
              "\n",
              "    [theme=dark] .colab-df-convert:hover {\n",
              "      background-color: #434B5C;\n",
              "      box-shadow: 0px 1px 3px 1px rgba(0, 0, 0, 0.15);\n",
              "      filter: drop-shadow(0px 1px 2px rgba(0, 0, 0, 0.3));\n",
              "      fill: #FFFFFF;\n",
              "    }\n",
              "  </style>\n",
              "\n",
              "      <script>\n",
              "        const buttonEl =\n",
              "          document.querySelector('#df-6e76630b-a8a9-4b33-8825-979b53e508a9 button.colab-df-convert');\n",
              "        buttonEl.style.display =\n",
              "          google.colab.kernel.accessAllowed ? 'block' : 'none';\n",
              "\n",
              "        async function convertToInteractive(key) {\n",
              "          const element = document.querySelector('#df-6e76630b-a8a9-4b33-8825-979b53e508a9');\n",
              "          const dataTable =\n",
              "            await google.colab.kernel.invokeFunction('convertToInteractive',\n",
              "                                                     [key], {});\n",
              "          if (!dataTable) return;\n",
              "\n",
              "          const docLinkHtml = 'Like what you see? Visit the ' +\n",
              "            '<a target=\"_blank\" href=https://colab.research.google.com/notebooks/data_table.ipynb>data table notebook</a>'\n",
              "            + ' to learn more about interactive tables.';\n",
              "          element.innerHTML = '';\n",
              "          dataTable['output_type'] = 'display_data';\n",
              "          await google.colab.output.renderOutput(dataTable, element);\n",
              "          const docLink = document.createElement('div');\n",
              "          docLink.innerHTML = docLinkHtml;\n",
              "          element.appendChild(docLink);\n",
              "        }\n",
              "      </script>\n",
              "    </div>\n",
              "  </div>\n",
              "  "
            ]
          },
          "metadata": {},
          "execution_count": 7
        }
      ],
      "source": [
        "# let see some bottom rows\n",
        "global_terrorism.tail()"
      ]
    },
    {
      "cell_type": "code",
      "execution_count": 8,
      "metadata": {
        "colab": {
          "base_uri": "https://localhost:8080/"
        },
        "id": "xMnGvOHOS0uH",
        "outputId": "4f51c42a-eefc-479b-f220-c3d22e91c4bb"
      },
      "outputs": [
        {
          "output_type": "execute_result",
          "data": {
            "text/plain": [
              "(181691, 135)"
            ]
          },
          "metadata": {},
          "execution_count": 8
        }
      ],
      "source": [
        "# shape of tha dataframe\n",
        "global_terrorism.shape"
      ]
    },
    {
      "cell_type": "code",
      "execution_count": 9,
      "metadata": {
        "colab": {
          "base_uri": "https://localhost:8080/"
        },
        "id": "GUA2pusUPfYl",
        "outputId": "014f3ea6-08c5-4cae-ac71-2ab096791232"
      },
      "outputs": [
        {
          "output_type": "stream",
          "name": "stdout",
          "text": [
            "Index(['eventid', 'iyear', 'imonth', 'iday', 'approxdate', 'extended',\n",
            "       'resolution', 'country', 'country_txt', 'region',\n",
            "       ...\n",
            "       'addnotes', 'scite1', 'scite2', 'scite3', 'dbsource', 'INT_LOG',\n",
            "       'INT_IDEO', 'INT_MISC', 'INT_ANY', 'related'],\n",
            "      dtype='object', length=135)\n"
          ]
        }
      ],
      "source": [
        "# printing the columns name of dataframe \n",
        "print(global_terrorism.columns)"
      ]
    },
    {
      "cell_type": "code",
      "execution_count": 10,
      "metadata": {
        "colab": {
          "base_uri": "https://localhost:8080/"
        },
        "id": "DbrFotq3PT9z",
        "outputId": "26c9349e-b985-44a3-ca4e-f86f0bb0bcd3"
      },
      "outputs": [
        {
          "output_type": "stream",
          "name": "stdout",
          "text": [
            "<class 'pandas.core.frame.DataFrame'>\n",
            "RangeIndex: 181691 entries, 0 to 181690\n",
            "Columns: 135 entries, eventid to related\n",
            "dtypes: float64(55), int64(22), object(58)\n",
            "memory usage: 187.1+ MB\n"
          ]
        }
      ],
      "source": [
        "# print technical information of the dataframe\n",
        "global_terrorism.info()"
      ]
    },
    {
      "cell_type": "code",
      "execution_count": 11,
      "metadata": {
        "colab": {
          "base_uri": "https://localhost:8080/",
          "height": 394
        },
        "id": "XlSFcfjQPdFs",
        "outputId": "95824f09-6355-4b6b-f7ba-27fd76329269"
      },
      "outputs": [
        {
          "output_type": "execute_result",
          "data": {
            "text/plain": [
              "            eventid          iyear         imonth           iday  \\\n",
              "count  1.816910e+05  181691.000000  181691.000000  181691.000000   \n",
              "mean   2.002705e+11    2002.638997       6.467277      15.505644   \n",
              "std    1.325957e+09      13.259430       3.388303       8.814045   \n",
              "min    1.970000e+11    1970.000000       0.000000       0.000000   \n",
              "25%    1.991021e+11    1991.000000       4.000000       8.000000   \n",
              "50%    2.009022e+11    2009.000000       6.000000      15.000000   \n",
              "75%    2.014081e+11    2014.000000       9.000000      23.000000   \n",
              "max    2.017123e+11    2017.000000      12.000000      31.000000   \n",
              "\n",
              "            extended        country         region       latitude  \\\n",
              "count  181691.000000  181691.000000  181691.000000  177135.000000   \n",
              "mean        0.045346     131.968501       7.160938      23.498343   \n",
              "std         0.208063     112.414535       2.933408      18.569242   \n",
              "min         0.000000       4.000000       1.000000     -53.154613   \n",
              "25%         0.000000      78.000000       5.000000      11.510046   \n",
              "50%         0.000000      98.000000       6.000000      31.467463   \n",
              "75%         0.000000     160.000000      10.000000      34.685087   \n",
              "max         1.000000    1004.000000      12.000000      74.633553   \n",
              "\n",
              "          longitude    specificity  ...     ransomamt   ransomamtus  \\\n",
              "count  1.771340e+05  181685.000000  ...  1.350000e+03  5.630000e+02   \n",
              "mean  -4.586957e+02       1.451452  ...  3.172530e+06  5.784865e+05   \n",
              "std    2.047790e+05       0.995430  ...  3.021157e+07  7.077924e+06   \n",
              "min   -8.618590e+07       1.000000  ... -9.900000e+01 -9.900000e+01   \n",
              "25%    4.545640e+00       1.000000  ...  0.000000e+00  0.000000e+00   \n",
              "50%    4.324651e+01       1.000000  ...  1.500000e+04  0.000000e+00   \n",
              "75%    6.871033e+01       1.000000  ...  4.000000e+05  0.000000e+00   \n",
              "max    1.793667e+02       5.000000  ...  1.000000e+09  1.320000e+08   \n",
              "\n",
              "         ransompaid  ransompaidus  hostkidoutcome     nreleased  \\\n",
              "count  7.740000e+02    552.000000    10991.000000  10400.000000   \n",
              "mean   7.179437e+05    240.378623        4.629242    -29.018269   \n",
              "std    1.014392e+07   2940.967293        2.035360     65.720119   \n",
              "min   -9.900000e+01    -99.000000        1.000000    -99.000000   \n",
              "25%   -9.900000e+01      0.000000        2.000000    -99.000000   \n",
              "50%    0.000000e+00      0.000000        4.000000      0.000000   \n",
              "75%    1.273412e+03      0.000000        7.000000      1.000000   \n",
              "max    2.750000e+08  48000.000000        7.000000   2769.000000   \n",
              "\n",
              "             INT_LOG       INT_IDEO       INT_MISC        INT_ANY  \n",
              "count  181691.000000  181691.000000  181691.000000  181691.000000  \n",
              "mean       -4.543731      -4.464398       0.090010      -3.945952  \n",
              "std         4.543547       4.637152       0.568457       4.691325  \n",
              "min        -9.000000      -9.000000      -9.000000      -9.000000  \n",
              "25%        -9.000000      -9.000000       0.000000      -9.000000  \n",
              "50%        -9.000000      -9.000000       0.000000       0.000000  \n",
              "75%         0.000000       0.000000       0.000000       0.000000  \n",
              "max         1.000000       1.000000       1.000000       1.000000  \n",
              "\n",
              "[8 rows x 77 columns]"
            ],
            "text/html": [
              "\n",
              "  <div id=\"df-27324705-e936-4f97-bc39-e2236a7654fa\">\n",
              "    <div class=\"colab-df-container\">\n",
              "      <div>\n",
              "<style scoped>\n",
              "    .dataframe tbody tr th:only-of-type {\n",
              "        vertical-align: middle;\n",
              "    }\n",
              "\n",
              "    .dataframe tbody tr th {\n",
              "        vertical-align: top;\n",
              "    }\n",
              "\n",
              "    .dataframe thead th {\n",
              "        text-align: right;\n",
              "    }\n",
              "</style>\n",
              "<table border=\"1\" class=\"dataframe\">\n",
              "  <thead>\n",
              "    <tr style=\"text-align: right;\">\n",
              "      <th></th>\n",
              "      <th>eventid</th>\n",
              "      <th>iyear</th>\n",
              "      <th>imonth</th>\n",
              "      <th>iday</th>\n",
              "      <th>extended</th>\n",
              "      <th>country</th>\n",
              "      <th>region</th>\n",
              "      <th>latitude</th>\n",
              "      <th>longitude</th>\n",
              "      <th>specificity</th>\n",
              "      <th>...</th>\n",
              "      <th>ransomamt</th>\n",
              "      <th>ransomamtus</th>\n",
              "      <th>ransompaid</th>\n",
              "      <th>ransompaidus</th>\n",
              "      <th>hostkidoutcome</th>\n",
              "      <th>nreleased</th>\n",
              "      <th>INT_LOG</th>\n",
              "      <th>INT_IDEO</th>\n",
              "      <th>INT_MISC</th>\n",
              "      <th>INT_ANY</th>\n",
              "    </tr>\n",
              "  </thead>\n",
              "  <tbody>\n",
              "    <tr>\n",
              "      <th>count</th>\n",
              "      <td>1.816910e+05</td>\n",
              "      <td>181691.000000</td>\n",
              "      <td>181691.000000</td>\n",
              "      <td>181691.000000</td>\n",
              "      <td>181691.000000</td>\n",
              "      <td>181691.000000</td>\n",
              "      <td>181691.000000</td>\n",
              "      <td>177135.000000</td>\n",
              "      <td>1.771340e+05</td>\n",
              "      <td>181685.000000</td>\n",
              "      <td>...</td>\n",
              "      <td>1.350000e+03</td>\n",
              "      <td>5.630000e+02</td>\n",
              "      <td>7.740000e+02</td>\n",
              "      <td>552.000000</td>\n",
              "      <td>10991.000000</td>\n",
              "      <td>10400.000000</td>\n",
              "      <td>181691.000000</td>\n",
              "      <td>181691.000000</td>\n",
              "      <td>181691.000000</td>\n",
              "      <td>181691.000000</td>\n",
              "    </tr>\n",
              "    <tr>\n",
              "      <th>mean</th>\n",
              "      <td>2.002705e+11</td>\n",
              "      <td>2002.638997</td>\n",
              "      <td>6.467277</td>\n",
              "      <td>15.505644</td>\n",
              "      <td>0.045346</td>\n",
              "      <td>131.968501</td>\n",
              "      <td>7.160938</td>\n",
              "      <td>23.498343</td>\n",
              "      <td>-4.586957e+02</td>\n",
              "      <td>1.451452</td>\n",
              "      <td>...</td>\n",
              "      <td>3.172530e+06</td>\n",
              "      <td>5.784865e+05</td>\n",
              "      <td>7.179437e+05</td>\n",
              "      <td>240.378623</td>\n",
              "      <td>4.629242</td>\n",
              "      <td>-29.018269</td>\n",
              "      <td>-4.543731</td>\n",
              "      <td>-4.464398</td>\n",
              "      <td>0.090010</td>\n",
              "      <td>-3.945952</td>\n",
              "    </tr>\n",
              "    <tr>\n",
              "      <th>std</th>\n",
              "      <td>1.325957e+09</td>\n",
              "      <td>13.259430</td>\n",
              "      <td>3.388303</td>\n",
              "      <td>8.814045</td>\n",
              "      <td>0.208063</td>\n",
              "      <td>112.414535</td>\n",
              "      <td>2.933408</td>\n",
              "      <td>18.569242</td>\n",
              "      <td>2.047790e+05</td>\n",
              "      <td>0.995430</td>\n",
              "      <td>...</td>\n",
              "      <td>3.021157e+07</td>\n",
              "      <td>7.077924e+06</td>\n",
              "      <td>1.014392e+07</td>\n",
              "      <td>2940.967293</td>\n",
              "      <td>2.035360</td>\n",
              "      <td>65.720119</td>\n",
              "      <td>4.543547</td>\n",
              "      <td>4.637152</td>\n",
              "      <td>0.568457</td>\n",
              "      <td>4.691325</td>\n",
              "    </tr>\n",
              "    <tr>\n",
              "      <th>min</th>\n",
              "      <td>1.970000e+11</td>\n",
              "      <td>1970.000000</td>\n",
              "      <td>0.000000</td>\n",
              "      <td>0.000000</td>\n",
              "      <td>0.000000</td>\n",
              "      <td>4.000000</td>\n",
              "      <td>1.000000</td>\n",
              "      <td>-53.154613</td>\n",
              "      <td>-8.618590e+07</td>\n",
              "      <td>1.000000</td>\n",
              "      <td>...</td>\n",
              "      <td>-9.900000e+01</td>\n",
              "      <td>-9.900000e+01</td>\n",
              "      <td>-9.900000e+01</td>\n",
              "      <td>-99.000000</td>\n",
              "      <td>1.000000</td>\n",
              "      <td>-99.000000</td>\n",
              "      <td>-9.000000</td>\n",
              "      <td>-9.000000</td>\n",
              "      <td>-9.000000</td>\n",
              "      <td>-9.000000</td>\n",
              "    </tr>\n",
              "    <tr>\n",
              "      <th>25%</th>\n",
              "      <td>1.991021e+11</td>\n",
              "      <td>1991.000000</td>\n",
              "      <td>4.000000</td>\n",
              "      <td>8.000000</td>\n",
              "      <td>0.000000</td>\n",
              "      <td>78.000000</td>\n",
              "      <td>5.000000</td>\n",
              "      <td>11.510046</td>\n",
              "      <td>4.545640e+00</td>\n",
              "      <td>1.000000</td>\n",
              "      <td>...</td>\n",
              "      <td>0.000000e+00</td>\n",
              "      <td>0.000000e+00</td>\n",
              "      <td>-9.900000e+01</td>\n",
              "      <td>0.000000</td>\n",
              "      <td>2.000000</td>\n",
              "      <td>-99.000000</td>\n",
              "      <td>-9.000000</td>\n",
              "      <td>-9.000000</td>\n",
              "      <td>0.000000</td>\n",
              "      <td>-9.000000</td>\n",
              "    </tr>\n",
              "    <tr>\n",
              "      <th>50%</th>\n",
              "      <td>2.009022e+11</td>\n",
              "      <td>2009.000000</td>\n",
              "      <td>6.000000</td>\n",
              "      <td>15.000000</td>\n",
              "      <td>0.000000</td>\n",
              "      <td>98.000000</td>\n",
              "      <td>6.000000</td>\n",
              "      <td>31.467463</td>\n",
              "      <td>4.324651e+01</td>\n",
              "      <td>1.000000</td>\n",
              "      <td>...</td>\n",
              "      <td>1.500000e+04</td>\n",
              "      <td>0.000000e+00</td>\n",
              "      <td>0.000000e+00</td>\n",
              "      <td>0.000000</td>\n",
              "      <td>4.000000</td>\n",
              "      <td>0.000000</td>\n",
              "      <td>-9.000000</td>\n",
              "      <td>-9.000000</td>\n",
              "      <td>0.000000</td>\n",
              "      <td>0.000000</td>\n",
              "    </tr>\n",
              "    <tr>\n",
              "      <th>75%</th>\n",
              "      <td>2.014081e+11</td>\n",
              "      <td>2014.000000</td>\n",
              "      <td>9.000000</td>\n",
              "      <td>23.000000</td>\n",
              "      <td>0.000000</td>\n",
              "      <td>160.000000</td>\n",
              "      <td>10.000000</td>\n",
              "      <td>34.685087</td>\n",
              "      <td>6.871033e+01</td>\n",
              "      <td>1.000000</td>\n",
              "      <td>...</td>\n",
              "      <td>4.000000e+05</td>\n",
              "      <td>0.000000e+00</td>\n",
              "      <td>1.273412e+03</td>\n",
              "      <td>0.000000</td>\n",
              "      <td>7.000000</td>\n",
              "      <td>1.000000</td>\n",
              "      <td>0.000000</td>\n",
              "      <td>0.000000</td>\n",
              "      <td>0.000000</td>\n",
              "      <td>0.000000</td>\n",
              "    </tr>\n",
              "    <tr>\n",
              "      <th>max</th>\n",
              "      <td>2.017123e+11</td>\n",
              "      <td>2017.000000</td>\n",
              "      <td>12.000000</td>\n",
              "      <td>31.000000</td>\n",
              "      <td>1.000000</td>\n",
              "      <td>1004.000000</td>\n",
              "      <td>12.000000</td>\n",
              "      <td>74.633553</td>\n",
              "      <td>1.793667e+02</td>\n",
              "      <td>5.000000</td>\n",
              "      <td>...</td>\n",
              "      <td>1.000000e+09</td>\n",
              "      <td>1.320000e+08</td>\n",
              "      <td>2.750000e+08</td>\n",
              "      <td>48000.000000</td>\n",
              "      <td>7.000000</td>\n",
              "      <td>2769.000000</td>\n",
              "      <td>1.000000</td>\n",
              "      <td>1.000000</td>\n",
              "      <td>1.000000</td>\n",
              "      <td>1.000000</td>\n",
              "    </tr>\n",
              "  </tbody>\n",
              "</table>\n",
              "<p>8 rows × 77 columns</p>\n",
              "</div>\n",
              "      <button class=\"colab-df-convert\" onclick=\"convertToInteractive('df-27324705-e936-4f97-bc39-e2236a7654fa')\"\n",
              "              title=\"Convert this dataframe to an interactive table.\"\n",
              "              style=\"display:none;\">\n",
              "        \n",
              "  <svg xmlns=\"http://www.w3.org/2000/svg\" height=\"24px\"viewBox=\"0 0 24 24\"\n",
              "       width=\"24px\">\n",
              "    <path d=\"M0 0h24v24H0V0z\" fill=\"none\"/>\n",
              "    <path d=\"M18.56 5.44l.94 2.06.94-2.06 2.06-.94-2.06-.94-.94-2.06-.94 2.06-2.06.94zm-11 1L8.5 8.5l.94-2.06 2.06-.94-2.06-.94L8.5 2.5l-.94 2.06-2.06.94zm10 10l.94 2.06.94-2.06 2.06-.94-2.06-.94-.94-2.06-.94 2.06-2.06.94z\"/><path d=\"M17.41 7.96l-1.37-1.37c-.4-.4-.92-.59-1.43-.59-.52 0-1.04.2-1.43.59L10.3 9.45l-7.72 7.72c-.78.78-.78 2.05 0 2.83L4 21.41c.39.39.9.59 1.41.59.51 0 1.02-.2 1.41-.59l7.78-7.78 2.81-2.81c.8-.78.8-2.07 0-2.86zM5.41 20L4 18.59l7.72-7.72 1.47 1.35L5.41 20z\"/>\n",
              "  </svg>\n",
              "      </button>\n",
              "      \n",
              "  <style>\n",
              "    .colab-df-container {\n",
              "      display:flex;\n",
              "      flex-wrap:wrap;\n",
              "      gap: 12px;\n",
              "    }\n",
              "\n",
              "    .colab-df-convert {\n",
              "      background-color: #E8F0FE;\n",
              "      border: none;\n",
              "      border-radius: 50%;\n",
              "      cursor: pointer;\n",
              "      display: none;\n",
              "      fill: #1967D2;\n",
              "      height: 32px;\n",
              "      padding: 0 0 0 0;\n",
              "      width: 32px;\n",
              "    }\n",
              "\n",
              "    .colab-df-convert:hover {\n",
              "      background-color: #E2EBFA;\n",
              "      box-shadow: 0px 1px 2px rgba(60, 64, 67, 0.3), 0px 1px 3px 1px rgba(60, 64, 67, 0.15);\n",
              "      fill: #174EA6;\n",
              "    }\n",
              "\n",
              "    [theme=dark] .colab-df-convert {\n",
              "      background-color: #3B4455;\n",
              "      fill: #D2E3FC;\n",
              "    }\n",
              "\n",
              "    [theme=dark] .colab-df-convert:hover {\n",
              "      background-color: #434B5C;\n",
              "      box-shadow: 0px 1px 3px 1px rgba(0, 0, 0, 0.15);\n",
              "      filter: drop-shadow(0px 1px 2px rgba(0, 0, 0, 0.3));\n",
              "      fill: #FFFFFF;\n",
              "    }\n",
              "  </style>\n",
              "\n",
              "      <script>\n",
              "        const buttonEl =\n",
              "          document.querySelector('#df-27324705-e936-4f97-bc39-e2236a7654fa button.colab-df-convert');\n",
              "        buttonEl.style.display =\n",
              "          google.colab.kernel.accessAllowed ? 'block' : 'none';\n",
              "\n",
              "        async function convertToInteractive(key) {\n",
              "          const element = document.querySelector('#df-27324705-e936-4f97-bc39-e2236a7654fa');\n",
              "          const dataTable =\n",
              "            await google.colab.kernel.invokeFunction('convertToInteractive',\n",
              "                                                     [key], {});\n",
              "          if (!dataTable) return;\n",
              "\n",
              "          const docLinkHtml = 'Like what you see? Visit the ' +\n",
              "            '<a target=\"_blank\" href=https://colab.research.google.com/notebooks/data_table.ipynb>data table notebook</a>'\n",
              "            + ' to learn more about interactive tables.';\n",
              "          element.innerHTML = '';\n",
              "          dataTable['output_type'] = 'display_data';\n",
              "          await google.colab.output.renderOutput(dataTable, element);\n",
              "          const docLink = document.createElement('div');\n",
              "          docLink.innerHTML = docLinkHtml;\n",
              "          element.appendChild(docLink);\n",
              "        }\n",
              "      </script>\n",
              "    </div>\n",
              "  </div>\n",
              "  "
            ]
          },
          "metadata": {},
          "execution_count": 11
        }
      ],
      "source": [
        "# use describe for the statistical pertaining to the dataframe of columns\n",
        "global_terrorism.describe()"
      ]
    },
    {
      "cell_type": "markdown",
      "metadata": {
        "id": "Fr-I6J5jOJG1"
      },
      "source": [
        "# **Data Cleaning**"
      ]
    },
    {
      "cell_type": "code",
      "execution_count": 12,
      "metadata": {
        "id": "sE2Q0GVGR6tI"
      },
      "outputs": [],
      "source": [
        "# rename the columns name for easy to analysis\n",
        "global_terrorism.rename(columns={'iyear':'Year','imonth':'Month','iday':'Day','country_txt':'Country','city':'City','provstate':'State',\n",
        "                          'region_txt':'Region','attacktype1_txt':'Attack_Type','targtype1_txt':'Main_Target','nkill':'Killed',\n",
        "                          'nwound':'Wounded','gname':'Gang_Name',\n",
        "                          'weaptype1_txt':'Weapon_Type','latitude':'Latitude',\n",
        "                          'longitude':'Longitude','targsubtype1_txt':'Sub_Target',\n",
        "                          'natlty1_txt':'Nationality',},inplace=True)"
      ]
    },
    {
      "cell_type": "code",
      "execution_count": 13,
      "metadata": {
        "colab": {
          "base_uri": "https://localhost:8080/",
          "height": 317
        },
        "id": "cO_bzMJldAIs",
        "outputId": "7b150b25-f59d-4cf2-fe51-7af74dc1c552"
      },
      "outputs": [
        {
          "output_type": "execute_result",
          "data": {
            "text/plain": [
              "        eventid  Year  Month  Day approxdate  extended resolution  country  \\\n",
              "0  197000000001  1970      7    2        NaN         0        NaN       58   \n",
              "1  197000000002  1970      0    0        NaN         0        NaN      130   \n",
              "2  197001000001  1970      1    0        NaN         0        NaN      160   \n",
              "3  197001000002  1970      1    0        NaN         0        NaN       78   \n",
              "4  197001000003  1970      1    0        NaN         0        NaN      101   \n",
              "\n",
              "              Country  region  ... addnotes scite1 scite2  scite3  dbsource  \\\n",
              "0  Dominican Republic       2  ...      NaN    NaN    NaN     NaN      PGIS   \n",
              "1              Mexico       1  ...      NaN    NaN    NaN     NaN      PGIS   \n",
              "2         Philippines       5  ...      NaN    NaN    NaN     NaN      PGIS   \n",
              "3              Greece       8  ...      NaN    NaN    NaN     NaN      PGIS   \n",
              "4               Japan       4  ...      NaN    NaN    NaN     NaN      PGIS   \n",
              "\n",
              "   INT_LOG  INT_IDEO INT_MISC INT_ANY  related  \n",
              "0        0         0        0       0      NaN  \n",
              "1        0         1        1       1      NaN  \n",
              "2       -9        -9        1       1      NaN  \n",
              "3       -9        -9        1       1      NaN  \n",
              "4       -9        -9        1       1      NaN  \n",
              "\n",
              "[5 rows x 135 columns]"
            ],
            "text/html": [
              "\n",
              "  <div id=\"df-ceb1da5a-18e0-4baa-98fc-b05ede2df577\">\n",
              "    <div class=\"colab-df-container\">\n",
              "      <div>\n",
              "<style scoped>\n",
              "    .dataframe tbody tr th:only-of-type {\n",
              "        vertical-align: middle;\n",
              "    }\n",
              "\n",
              "    .dataframe tbody tr th {\n",
              "        vertical-align: top;\n",
              "    }\n",
              "\n",
              "    .dataframe thead th {\n",
              "        text-align: right;\n",
              "    }\n",
              "</style>\n",
              "<table border=\"1\" class=\"dataframe\">\n",
              "  <thead>\n",
              "    <tr style=\"text-align: right;\">\n",
              "      <th></th>\n",
              "      <th>eventid</th>\n",
              "      <th>Year</th>\n",
              "      <th>Month</th>\n",
              "      <th>Day</th>\n",
              "      <th>approxdate</th>\n",
              "      <th>extended</th>\n",
              "      <th>resolution</th>\n",
              "      <th>country</th>\n",
              "      <th>Country</th>\n",
              "      <th>region</th>\n",
              "      <th>...</th>\n",
              "      <th>addnotes</th>\n",
              "      <th>scite1</th>\n",
              "      <th>scite2</th>\n",
              "      <th>scite3</th>\n",
              "      <th>dbsource</th>\n",
              "      <th>INT_LOG</th>\n",
              "      <th>INT_IDEO</th>\n",
              "      <th>INT_MISC</th>\n",
              "      <th>INT_ANY</th>\n",
              "      <th>related</th>\n",
              "    </tr>\n",
              "  </thead>\n",
              "  <tbody>\n",
              "    <tr>\n",
              "      <th>0</th>\n",
              "      <td>197000000001</td>\n",
              "      <td>1970</td>\n",
              "      <td>7</td>\n",
              "      <td>2</td>\n",
              "      <td>NaN</td>\n",
              "      <td>0</td>\n",
              "      <td>NaN</td>\n",
              "      <td>58</td>\n",
              "      <td>Dominican Republic</td>\n",
              "      <td>2</td>\n",
              "      <td>...</td>\n",
              "      <td>NaN</td>\n",
              "      <td>NaN</td>\n",
              "      <td>NaN</td>\n",
              "      <td>NaN</td>\n",
              "      <td>PGIS</td>\n",
              "      <td>0</td>\n",
              "      <td>0</td>\n",
              "      <td>0</td>\n",
              "      <td>0</td>\n",
              "      <td>NaN</td>\n",
              "    </tr>\n",
              "    <tr>\n",
              "      <th>1</th>\n",
              "      <td>197000000002</td>\n",
              "      <td>1970</td>\n",
              "      <td>0</td>\n",
              "      <td>0</td>\n",
              "      <td>NaN</td>\n",
              "      <td>0</td>\n",
              "      <td>NaN</td>\n",
              "      <td>130</td>\n",
              "      <td>Mexico</td>\n",
              "      <td>1</td>\n",
              "      <td>...</td>\n",
              "      <td>NaN</td>\n",
              "      <td>NaN</td>\n",
              "      <td>NaN</td>\n",
              "      <td>NaN</td>\n",
              "      <td>PGIS</td>\n",
              "      <td>0</td>\n",
              "      <td>1</td>\n",
              "      <td>1</td>\n",
              "      <td>1</td>\n",
              "      <td>NaN</td>\n",
              "    </tr>\n",
              "    <tr>\n",
              "      <th>2</th>\n",
              "      <td>197001000001</td>\n",
              "      <td>1970</td>\n",
              "      <td>1</td>\n",
              "      <td>0</td>\n",
              "      <td>NaN</td>\n",
              "      <td>0</td>\n",
              "      <td>NaN</td>\n",
              "      <td>160</td>\n",
              "      <td>Philippines</td>\n",
              "      <td>5</td>\n",
              "      <td>...</td>\n",
              "      <td>NaN</td>\n",
              "      <td>NaN</td>\n",
              "      <td>NaN</td>\n",
              "      <td>NaN</td>\n",
              "      <td>PGIS</td>\n",
              "      <td>-9</td>\n",
              "      <td>-9</td>\n",
              "      <td>1</td>\n",
              "      <td>1</td>\n",
              "      <td>NaN</td>\n",
              "    </tr>\n",
              "    <tr>\n",
              "      <th>3</th>\n",
              "      <td>197001000002</td>\n",
              "      <td>1970</td>\n",
              "      <td>1</td>\n",
              "      <td>0</td>\n",
              "      <td>NaN</td>\n",
              "      <td>0</td>\n",
              "      <td>NaN</td>\n",
              "      <td>78</td>\n",
              "      <td>Greece</td>\n",
              "      <td>8</td>\n",
              "      <td>...</td>\n",
              "      <td>NaN</td>\n",
              "      <td>NaN</td>\n",
              "      <td>NaN</td>\n",
              "      <td>NaN</td>\n",
              "      <td>PGIS</td>\n",
              "      <td>-9</td>\n",
              "      <td>-9</td>\n",
              "      <td>1</td>\n",
              "      <td>1</td>\n",
              "      <td>NaN</td>\n",
              "    </tr>\n",
              "    <tr>\n",
              "      <th>4</th>\n",
              "      <td>197001000003</td>\n",
              "      <td>1970</td>\n",
              "      <td>1</td>\n",
              "      <td>0</td>\n",
              "      <td>NaN</td>\n",
              "      <td>0</td>\n",
              "      <td>NaN</td>\n",
              "      <td>101</td>\n",
              "      <td>Japan</td>\n",
              "      <td>4</td>\n",
              "      <td>...</td>\n",
              "      <td>NaN</td>\n",
              "      <td>NaN</td>\n",
              "      <td>NaN</td>\n",
              "      <td>NaN</td>\n",
              "      <td>PGIS</td>\n",
              "      <td>-9</td>\n",
              "      <td>-9</td>\n",
              "      <td>1</td>\n",
              "      <td>1</td>\n",
              "      <td>NaN</td>\n",
              "    </tr>\n",
              "  </tbody>\n",
              "</table>\n",
              "<p>5 rows × 135 columns</p>\n",
              "</div>\n",
              "      <button class=\"colab-df-convert\" onclick=\"convertToInteractive('df-ceb1da5a-18e0-4baa-98fc-b05ede2df577')\"\n",
              "              title=\"Convert this dataframe to an interactive table.\"\n",
              "              style=\"display:none;\">\n",
              "        \n",
              "  <svg xmlns=\"http://www.w3.org/2000/svg\" height=\"24px\"viewBox=\"0 0 24 24\"\n",
              "       width=\"24px\">\n",
              "    <path d=\"M0 0h24v24H0V0z\" fill=\"none\"/>\n",
              "    <path d=\"M18.56 5.44l.94 2.06.94-2.06 2.06-.94-2.06-.94-.94-2.06-.94 2.06-2.06.94zm-11 1L8.5 8.5l.94-2.06 2.06-.94-2.06-.94L8.5 2.5l-.94 2.06-2.06.94zm10 10l.94 2.06.94-2.06 2.06-.94-2.06-.94-.94-2.06-.94 2.06-2.06.94z\"/><path d=\"M17.41 7.96l-1.37-1.37c-.4-.4-.92-.59-1.43-.59-.52 0-1.04.2-1.43.59L10.3 9.45l-7.72 7.72c-.78.78-.78 2.05 0 2.83L4 21.41c.39.39.9.59 1.41.59.51 0 1.02-.2 1.41-.59l7.78-7.78 2.81-2.81c.8-.78.8-2.07 0-2.86zM5.41 20L4 18.59l7.72-7.72 1.47 1.35L5.41 20z\"/>\n",
              "  </svg>\n",
              "      </button>\n",
              "      \n",
              "  <style>\n",
              "    .colab-df-container {\n",
              "      display:flex;\n",
              "      flex-wrap:wrap;\n",
              "      gap: 12px;\n",
              "    }\n",
              "\n",
              "    .colab-df-convert {\n",
              "      background-color: #E8F0FE;\n",
              "      border: none;\n",
              "      border-radius: 50%;\n",
              "      cursor: pointer;\n",
              "      display: none;\n",
              "      fill: #1967D2;\n",
              "      height: 32px;\n",
              "      padding: 0 0 0 0;\n",
              "      width: 32px;\n",
              "    }\n",
              "\n",
              "    .colab-df-convert:hover {\n",
              "      background-color: #E2EBFA;\n",
              "      box-shadow: 0px 1px 2px rgba(60, 64, 67, 0.3), 0px 1px 3px 1px rgba(60, 64, 67, 0.15);\n",
              "      fill: #174EA6;\n",
              "    }\n",
              "\n",
              "    [theme=dark] .colab-df-convert {\n",
              "      background-color: #3B4455;\n",
              "      fill: #D2E3FC;\n",
              "    }\n",
              "\n",
              "    [theme=dark] .colab-df-convert:hover {\n",
              "      background-color: #434B5C;\n",
              "      box-shadow: 0px 1px 3px 1px rgba(0, 0, 0, 0.15);\n",
              "      filter: drop-shadow(0px 1px 2px rgba(0, 0, 0, 0.3));\n",
              "      fill: #FFFFFF;\n",
              "    }\n",
              "  </style>\n",
              "\n",
              "      <script>\n",
              "        const buttonEl =\n",
              "          document.querySelector('#df-ceb1da5a-18e0-4baa-98fc-b05ede2df577 button.colab-df-convert');\n",
              "        buttonEl.style.display =\n",
              "          google.colab.kernel.accessAllowed ? 'block' : 'none';\n",
              "\n",
              "        async function convertToInteractive(key) {\n",
              "          const element = document.querySelector('#df-ceb1da5a-18e0-4baa-98fc-b05ede2df577');\n",
              "          const dataTable =\n",
              "            await google.colab.kernel.invokeFunction('convertToInteractive',\n",
              "                                                     [key], {});\n",
              "          if (!dataTable) return;\n",
              "\n",
              "          const docLinkHtml = 'Like what you see? Visit the ' +\n",
              "            '<a target=\"_blank\" href=https://colab.research.google.com/notebooks/data_table.ipynb>data table notebook</a>'\n",
              "            + ' to learn more about interactive tables.';\n",
              "          element.innerHTML = '';\n",
              "          dataTable['output_type'] = 'display_data';\n",
              "          await google.colab.output.renderOutput(dataTable, element);\n",
              "          const docLink = document.createElement('div');\n",
              "          docLink.innerHTML = docLinkHtml;\n",
              "          element.appendChild(docLink);\n",
              "        }\n",
              "      </script>\n",
              "    </div>\n",
              "  </div>\n",
              "  "
            ]
          },
          "metadata": {},
          "execution_count": 13
        }
      ],
      "source": [
        "# check the updated columns name\n",
        "global_terrorism.head()"
      ]
    },
    {
      "cell_type": "code",
      "execution_count": 14,
      "metadata": {
        "id": "A_q6JwcF_zrX"
      },
      "outputs": [],
      "source": [
        "global_terrorism = global_terrorism[['Year','Month','Day','Gang_Name','Nationality','Country','State','Region','City','Latitude','Longitude'\n",
        "                                     ,'Attack_Type','Weapon_Type','Main_Target','Sub_Target','Killed','Wounded']]"
      ]
    },
    {
      "cell_type": "code",
      "execution_count": 15,
      "metadata": {
        "colab": {
          "base_uri": "https://localhost:8080/",
          "height": 409
        },
        "id": "-MzLxblp-rmp",
        "outputId": "2e245a0a-af7a-4462-b5f3-f6291edd76ee"
      },
      "outputs": [
        {
          "output_type": "execute_result",
          "data": {
            "text/plain": [
              "   Year  Month  Day                           Gang_Name         Nationality  \\\n",
              "0  1970      7    2                              MANO-D  Dominican Republic   \n",
              "1  1970      0    0  23rd of September Communist League             Belgium   \n",
              "2  1970      1    0                             Unknown       United States   \n",
              "3  1970      1    0                             Unknown       United States   \n",
              "4  1970      1    0                             Unknown       United States   \n",
              "\n",
              "              Country    State                       Region           City  \\\n",
              "0  Dominican Republic      NaN  Central America & Caribbean  Santo Domingo   \n",
              "1              Mexico  Federal                North America    Mexico city   \n",
              "2         Philippines   Tarlac               Southeast Asia        Unknown   \n",
              "3              Greece   Attica               Western Europe         Athens   \n",
              "4               Japan  Fukouka                    East Asia        Fukouka   \n",
              "\n",
              "    Latitude   Longitude                     Attack_Type Weapon_Type  \\\n",
              "0  18.456792  -69.951164                   Assassination     Unknown   \n",
              "1  19.371887  -99.086624     Hostage Taking (Kidnapping)     Unknown   \n",
              "2  15.478598  120.599741                   Assassination     Unknown   \n",
              "3  37.997490   23.762728               Bombing/Explosion  Explosives   \n",
              "4  33.580412  130.396361  Facility/Infrastructure Attack  Incendiary   \n",
              "\n",
              "                   Main_Target  \\\n",
              "0  Private Citizens & Property   \n",
              "1      Government (Diplomatic)   \n",
              "2          Journalists & Media   \n",
              "3      Government (Diplomatic)   \n",
              "4      Government (Diplomatic)   \n",
              "\n",
              "                                          Sub_Target  Killed  Wounded  \n",
              "0                                     Named Civilian     1.0      0.0  \n",
              "1  Diplomatic Personnel (outside of embassy, cons...     0.0      0.0  \n",
              "2                    Radio Journalist/Staff/Facility     1.0      0.0  \n",
              "3                                  Embassy/Consulate     NaN      NaN  \n",
              "4                                  Embassy/Consulate     NaN      NaN  "
            ],
            "text/html": [
              "\n",
              "  <div id=\"df-98a89ccf-5fa4-4630-9146-ab3881f5b865\">\n",
              "    <div class=\"colab-df-container\">\n",
              "      <div>\n",
              "<style scoped>\n",
              "    .dataframe tbody tr th:only-of-type {\n",
              "        vertical-align: middle;\n",
              "    }\n",
              "\n",
              "    .dataframe tbody tr th {\n",
              "        vertical-align: top;\n",
              "    }\n",
              "\n",
              "    .dataframe thead th {\n",
              "        text-align: right;\n",
              "    }\n",
              "</style>\n",
              "<table border=\"1\" class=\"dataframe\">\n",
              "  <thead>\n",
              "    <tr style=\"text-align: right;\">\n",
              "      <th></th>\n",
              "      <th>Year</th>\n",
              "      <th>Month</th>\n",
              "      <th>Day</th>\n",
              "      <th>Gang_Name</th>\n",
              "      <th>Nationality</th>\n",
              "      <th>Country</th>\n",
              "      <th>State</th>\n",
              "      <th>Region</th>\n",
              "      <th>City</th>\n",
              "      <th>Latitude</th>\n",
              "      <th>Longitude</th>\n",
              "      <th>Attack_Type</th>\n",
              "      <th>Weapon_Type</th>\n",
              "      <th>Main_Target</th>\n",
              "      <th>Sub_Target</th>\n",
              "      <th>Killed</th>\n",
              "      <th>Wounded</th>\n",
              "    </tr>\n",
              "  </thead>\n",
              "  <tbody>\n",
              "    <tr>\n",
              "      <th>0</th>\n",
              "      <td>1970</td>\n",
              "      <td>7</td>\n",
              "      <td>2</td>\n",
              "      <td>MANO-D</td>\n",
              "      <td>Dominican Republic</td>\n",
              "      <td>Dominican Republic</td>\n",
              "      <td>NaN</td>\n",
              "      <td>Central America &amp; Caribbean</td>\n",
              "      <td>Santo Domingo</td>\n",
              "      <td>18.456792</td>\n",
              "      <td>-69.951164</td>\n",
              "      <td>Assassination</td>\n",
              "      <td>Unknown</td>\n",
              "      <td>Private Citizens &amp; Property</td>\n",
              "      <td>Named Civilian</td>\n",
              "      <td>1.0</td>\n",
              "      <td>0.0</td>\n",
              "    </tr>\n",
              "    <tr>\n",
              "      <th>1</th>\n",
              "      <td>1970</td>\n",
              "      <td>0</td>\n",
              "      <td>0</td>\n",
              "      <td>23rd of September Communist League</td>\n",
              "      <td>Belgium</td>\n",
              "      <td>Mexico</td>\n",
              "      <td>Federal</td>\n",
              "      <td>North America</td>\n",
              "      <td>Mexico city</td>\n",
              "      <td>19.371887</td>\n",
              "      <td>-99.086624</td>\n",
              "      <td>Hostage Taking (Kidnapping)</td>\n",
              "      <td>Unknown</td>\n",
              "      <td>Government (Diplomatic)</td>\n",
              "      <td>Diplomatic Personnel (outside of embassy, cons...</td>\n",
              "      <td>0.0</td>\n",
              "      <td>0.0</td>\n",
              "    </tr>\n",
              "    <tr>\n",
              "      <th>2</th>\n",
              "      <td>1970</td>\n",
              "      <td>1</td>\n",
              "      <td>0</td>\n",
              "      <td>Unknown</td>\n",
              "      <td>United States</td>\n",
              "      <td>Philippines</td>\n",
              "      <td>Tarlac</td>\n",
              "      <td>Southeast Asia</td>\n",
              "      <td>Unknown</td>\n",
              "      <td>15.478598</td>\n",
              "      <td>120.599741</td>\n",
              "      <td>Assassination</td>\n",
              "      <td>Unknown</td>\n",
              "      <td>Journalists &amp; Media</td>\n",
              "      <td>Radio Journalist/Staff/Facility</td>\n",
              "      <td>1.0</td>\n",
              "      <td>0.0</td>\n",
              "    </tr>\n",
              "    <tr>\n",
              "      <th>3</th>\n",
              "      <td>1970</td>\n",
              "      <td>1</td>\n",
              "      <td>0</td>\n",
              "      <td>Unknown</td>\n",
              "      <td>United States</td>\n",
              "      <td>Greece</td>\n",
              "      <td>Attica</td>\n",
              "      <td>Western Europe</td>\n",
              "      <td>Athens</td>\n",
              "      <td>37.997490</td>\n",
              "      <td>23.762728</td>\n",
              "      <td>Bombing/Explosion</td>\n",
              "      <td>Explosives</td>\n",
              "      <td>Government (Diplomatic)</td>\n",
              "      <td>Embassy/Consulate</td>\n",
              "      <td>NaN</td>\n",
              "      <td>NaN</td>\n",
              "    </tr>\n",
              "    <tr>\n",
              "      <th>4</th>\n",
              "      <td>1970</td>\n",
              "      <td>1</td>\n",
              "      <td>0</td>\n",
              "      <td>Unknown</td>\n",
              "      <td>United States</td>\n",
              "      <td>Japan</td>\n",
              "      <td>Fukouka</td>\n",
              "      <td>East Asia</td>\n",
              "      <td>Fukouka</td>\n",
              "      <td>33.580412</td>\n",
              "      <td>130.396361</td>\n",
              "      <td>Facility/Infrastructure Attack</td>\n",
              "      <td>Incendiary</td>\n",
              "      <td>Government (Diplomatic)</td>\n",
              "      <td>Embassy/Consulate</td>\n",
              "      <td>NaN</td>\n",
              "      <td>NaN</td>\n",
              "    </tr>\n",
              "  </tbody>\n",
              "</table>\n",
              "</div>\n",
              "      <button class=\"colab-df-convert\" onclick=\"convertToInteractive('df-98a89ccf-5fa4-4630-9146-ab3881f5b865')\"\n",
              "              title=\"Convert this dataframe to an interactive table.\"\n",
              "              style=\"display:none;\">\n",
              "        \n",
              "  <svg xmlns=\"http://www.w3.org/2000/svg\" height=\"24px\"viewBox=\"0 0 24 24\"\n",
              "       width=\"24px\">\n",
              "    <path d=\"M0 0h24v24H0V0z\" fill=\"none\"/>\n",
              "    <path d=\"M18.56 5.44l.94 2.06.94-2.06 2.06-.94-2.06-.94-.94-2.06-.94 2.06-2.06.94zm-11 1L8.5 8.5l.94-2.06 2.06-.94-2.06-.94L8.5 2.5l-.94 2.06-2.06.94zm10 10l.94 2.06.94-2.06 2.06-.94-2.06-.94-.94-2.06-.94 2.06-2.06.94z\"/><path d=\"M17.41 7.96l-1.37-1.37c-.4-.4-.92-.59-1.43-.59-.52 0-1.04.2-1.43.59L10.3 9.45l-7.72 7.72c-.78.78-.78 2.05 0 2.83L4 21.41c.39.39.9.59 1.41.59.51 0 1.02-.2 1.41-.59l7.78-7.78 2.81-2.81c.8-.78.8-2.07 0-2.86zM5.41 20L4 18.59l7.72-7.72 1.47 1.35L5.41 20z\"/>\n",
              "  </svg>\n",
              "      </button>\n",
              "      \n",
              "  <style>\n",
              "    .colab-df-container {\n",
              "      display:flex;\n",
              "      flex-wrap:wrap;\n",
              "      gap: 12px;\n",
              "    }\n",
              "\n",
              "    .colab-df-convert {\n",
              "      background-color: #E8F0FE;\n",
              "      border: none;\n",
              "      border-radius: 50%;\n",
              "      cursor: pointer;\n",
              "      display: none;\n",
              "      fill: #1967D2;\n",
              "      height: 32px;\n",
              "      padding: 0 0 0 0;\n",
              "      width: 32px;\n",
              "    }\n",
              "\n",
              "    .colab-df-convert:hover {\n",
              "      background-color: #E2EBFA;\n",
              "      box-shadow: 0px 1px 2px rgba(60, 64, 67, 0.3), 0px 1px 3px 1px rgba(60, 64, 67, 0.15);\n",
              "      fill: #174EA6;\n",
              "    }\n",
              "\n",
              "    [theme=dark] .colab-df-convert {\n",
              "      background-color: #3B4455;\n",
              "      fill: #D2E3FC;\n",
              "    }\n",
              "\n",
              "    [theme=dark] .colab-df-convert:hover {\n",
              "      background-color: #434B5C;\n",
              "      box-shadow: 0px 1px 3px 1px rgba(0, 0, 0, 0.15);\n",
              "      filter: drop-shadow(0px 1px 2px rgba(0, 0, 0, 0.3));\n",
              "      fill: #FFFFFF;\n",
              "    }\n",
              "  </style>\n",
              "\n",
              "      <script>\n",
              "        const buttonEl =\n",
              "          document.querySelector('#df-98a89ccf-5fa4-4630-9146-ab3881f5b865 button.colab-df-convert');\n",
              "        buttonEl.style.display =\n",
              "          google.colab.kernel.accessAllowed ? 'block' : 'none';\n",
              "\n",
              "        async function convertToInteractive(key) {\n",
              "          const element = document.querySelector('#df-98a89ccf-5fa4-4630-9146-ab3881f5b865');\n",
              "          const dataTable =\n",
              "            await google.colab.kernel.invokeFunction('convertToInteractive',\n",
              "                                                     [key], {});\n",
              "          if (!dataTable) return;\n",
              "\n",
              "          const docLinkHtml = 'Like what you see? Visit the ' +\n",
              "            '<a target=\"_blank\" href=https://colab.research.google.com/notebooks/data_table.ipynb>data table notebook</a>'\n",
              "            + ' to learn more about interactive tables.';\n",
              "          element.innerHTML = '';\n",
              "          dataTable['output_type'] = 'display_data';\n",
              "          await google.colab.output.renderOutput(dataTable, element);\n",
              "          const docLink = document.createElement('div');\n",
              "          docLink.innerHTML = docLinkHtml;\n",
              "          element.appendChild(docLink);\n",
              "        }\n",
              "      </script>\n",
              "    </div>\n",
              "  </div>\n",
              "  "
            ]
          },
          "metadata": {},
          "execution_count": 15
        }
      ],
      "source": [
        "global_terrorism.head(5)"
      ]
    },
    {
      "cell_type": "code",
      "source": [
        "global_terrorism.info()"
      ],
      "metadata": {
        "colab": {
          "base_uri": "https://localhost:8080/"
        },
        "id": "5xlfeilKNbnw",
        "outputId": "394b9f02-e674-462c-8262-e147804e5380"
      },
      "execution_count": 16,
      "outputs": [
        {
          "output_type": "stream",
          "name": "stdout",
          "text": [
            "<class 'pandas.core.frame.DataFrame'>\n",
            "RangeIndex: 181691 entries, 0 to 181690\n",
            "Data columns (total 17 columns):\n",
            " #   Column       Non-Null Count   Dtype  \n",
            "---  ------       --------------   -----  \n",
            " 0   Year         181691 non-null  int64  \n",
            " 1   Month        181691 non-null  int64  \n",
            " 2   Day          181691 non-null  int64  \n",
            " 3   Gang_Name    181691 non-null  object \n",
            " 4   Nationality  180132 non-null  object \n",
            " 5   Country      181691 non-null  object \n",
            " 6   State        181270 non-null  object \n",
            " 7   Region       181691 non-null  object \n",
            " 8   City         181257 non-null  object \n",
            " 9   Latitude     177135 non-null  float64\n",
            " 10  Longitude    177134 non-null  float64\n",
            " 11  Attack_Type  181691 non-null  object \n",
            " 12  Weapon_Type  181691 non-null  object \n",
            " 13  Main_Target  181691 non-null  object \n",
            " 14  Sub_Target   171318 non-null  object \n",
            " 15  Killed       171378 non-null  float64\n",
            " 16  Wounded      165380 non-null  float64\n",
            "dtypes: float64(4), int64(3), object(10)\n",
            "memory usage: 23.6+ MB\n"
          ]
        }
      ]
    },
    {
      "cell_type": "code",
      "source": [
        "global_terrorism['Wounded'] = global_terrorism['Wounded'].fillna(0).astype(int)\n",
        "global_terrorism['Killed'] = global_terrorism['Killed'].fillna(0).astype(int)\n",
        "global_terrorism.shape"
      ],
      "metadata": {
        "colab": {
          "base_uri": "https://localhost:8080/"
        },
        "id": "XH38nfviNfwu",
        "outputId": "6ea8f3c2-9952-4a9b-9470-53c7b50802b4"
      },
      "execution_count": 17,
      "outputs": [
        {
          "output_type": "execute_result",
          "data": {
            "text/plain": [
              "(181691, 17)"
            ]
          },
          "metadata": {},
          "execution_count": 17
        }
      ]
    },
    {
      "cell_type": "code",
      "source": [
        "global_terrorism.info()"
      ],
      "metadata": {
        "colab": {
          "base_uri": "https://localhost:8080/"
        },
        "id": "F8WvVGdvNkBM",
        "outputId": "e96a3469-a776-4832-cf70-b44df14278c3"
      },
      "execution_count": 18,
      "outputs": [
        {
          "output_type": "stream",
          "name": "stdout",
          "text": [
            "<class 'pandas.core.frame.DataFrame'>\n",
            "RangeIndex: 181691 entries, 0 to 181690\n",
            "Data columns (total 17 columns):\n",
            " #   Column       Non-Null Count   Dtype  \n",
            "---  ------       --------------   -----  \n",
            " 0   Year         181691 non-null  int64  \n",
            " 1   Month        181691 non-null  int64  \n",
            " 2   Day          181691 non-null  int64  \n",
            " 3   Gang_Name    181691 non-null  object \n",
            " 4   Nationality  180132 non-null  object \n",
            " 5   Country      181691 non-null  object \n",
            " 6   State        181270 non-null  object \n",
            " 7   Region       181691 non-null  object \n",
            " 8   City         181257 non-null  object \n",
            " 9   Latitude     177135 non-null  float64\n",
            " 10  Longitude    177134 non-null  float64\n",
            " 11  Attack_Type  181691 non-null  object \n",
            " 12  Weapon_Type  181691 non-null  object \n",
            " 13  Main_Target  181691 non-null  object \n",
            " 14  Sub_Target   171318 non-null  object \n",
            " 15  Killed       181691 non-null  int64  \n",
            " 16  Wounded      181691 non-null  int64  \n",
            "dtypes: float64(2), int64(5), object(10)\n",
            "memory usage: 23.6+ MB\n"
          ]
        }
      ]
    },
    {
      "cell_type": "markdown",
      "metadata": {
        "id": "peHJ2VvrYsqQ"
      },
      "source": [
        "## ***Analysis of Data***"
      ]
    },
    {
      "cell_type": "markdown",
      "source": [
        "# **Analysis based on Attacks**\n",
        "\n",
        "1.   Top 10 Terrorist organization with most no. of attacks.\n",
        "2.   Top terrorist organization and their favourite attack types.\n",
        "3.   Type of attack mostly used by the terrorist organization.\n",
        "4.   Top 10 most attacked targets.\n",
        "5.   Yearly growth of terrorist attacks.\n",
        "\n"
      ],
      "metadata": {
        "id": "AzKZudLgNsrg"
      }
    },
    {
      "cell_type": "markdown",
      "source": [
        "## 1. Top 10 Terrorist organization with most no. of attacks."
      ],
      "metadata": {
        "id": "BjgpCQOKN6_i"
      }
    },
    {
      "cell_type": "code",
      "source": [
        "# Top 10 Gang name\n",
        "global_terrorism['Gang_Name'].value_counts()[:11]\n"
      ],
      "metadata": {
        "colab": {
          "base_uri": "https://localhost:8080/"
        },
        "id": "F8MkTp61N_5n",
        "outputId": "1056b203-4a58-46f6-babe-e089a9ab350e"
      },
      "execution_count": 19,
      "outputs": [
        {
          "output_type": "execute_result",
          "data": {
            "text/plain": [
              "Unknown                                             82782\n",
              "Taliban                                              7478\n",
              "Islamic State of Iraq and the Levant (ISIL)          5613\n",
              "Shining Path (SL)                                    4555\n",
              "Farabundo Marti National Liberation Front (FMLN)     3351\n",
              "Al-Shabaab                                           3288\n",
              "New People's Army (NPA)                              2772\n",
              "Irish Republican Army (IRA)                          2671\n",
              "Revolutionary Armed Forces of Colombia (FARC)        2487\n",
              "Boko Haram                                           2418\n",
              "Kurdistan Workers' Party (PKK)                       2310\n",
              "Name: Gang_Name, dtype: int64"
            ]
          },
          "metadata": {},
          "execution_count": 19
        }
      ]
    },
    {
      "cell_type": "code",
      "source": [
        "#Eliminating unknown Gang_Name from the data\n",
        "top_gang_with_most_attacks = global_terrorism['Gang_Name'].value_counts()[1:11]\n",
        "top_gang_with_most_attacks"
      ],
      "metadata": {
        "colab": {
          "base_uri": "https://localhost:8080/"
        },
        "id": "XiccHOvjOELN",
        "outputId": "ce658b91-e19f-44a0-d08d-3bc03b5e5090"
      },
      "execution_count": 20,
      "outputs": [
        {
          "output_type": "execute_result",
          "data": {
            "text/plain": [
              "Taliban                                             7478\n",
              "Islamic State of Iraq and the Levant (ISIL)         5613\n",
              "Shining Path (SL)                                   4555\n",
              "Farabundo Marti National Liberation Front (FMLN)    3351\n",
              "Al-Shabaab                                          3288\n",
              "New People's Army (NPA)                             2772\n",
              "Irish Republican Army (IRA)                         2671\n",
              "Revolutionary Armed Forces of Colombia (FARC)       2487\n",
              "Boko Haram                                          2418\n",
              "Kurdistan Workers' Party (PKK)                      2310\n",
              "Name: Gang_Name, dtype: int64"
            ]
          },
          "metadata": {},
          "execution_count": 20
        }
      ]
    },
    {
      "cell_type": "code",
      "source": [
        "plt.figure(figsize = (12,7))\n",
        "sns.barplot(top_gang_with_most_attacks.values, top_gang_with_most_attacks.index,palette='viridis')\n",
        "plt.title('Top 10 GANG NAME with highest attacks',fontsize=20)\n",
        "plt.xlabel('Number of Attacks',fontsize=15)\n",
        "plt.ylabel('Terrorist Organiationz',fontsize=15)\n",
        "plt.xticks(rotation= 90)\n",
        "plt.show()"
      ],
      "metadata": {
        "colab": {
          "base_uri": "https://localhost:8080/",
          "height": 544
        },
        "id": "LsVMFxzXOIhk",
        "outputId": "ff62073a-7aff-4194-a180-e36c05656216"
      },
      "execution_count": 21,
      "outputs": [
        {
          "output_type": "stream",
          "name": "stderr",
          "text": [
            "/usr/local/lib/python3.7/dist-packages/seaborn/_decorators.py:43: FutureWarning: Pass the following variables as keyword args: x, y. From version 0.12, the only valid positional argument will be `data`, and passing other arguments without an explicit keyword will result in an error or misinterpretation.\n",
            "  FutureWarning\n"
          ]
        },
        {
          "output_type": "display_data",
          "data": {
            "text/plain": [
              "<Figure size 864x504 with 1 Axes>"
            ],
            "image/png": "[encoded data removed]"
          },
          "metadata": {
            "needs_background": "light"
          }
        }
      ]
    },
    {
      "cell_type": "markdown",
      "source": [
        "**taliban** is the gang which have most number of attacks in all of them followed by **islamic state of iraq abd the levant(isil)** and **shining path(SL)** "
      ],
      "metadata": {
        "id": "W5gWX_lk50gZ"
      }
    },
    {
      "cell_type": "markdown",
      "source": [
        "## 2. Top terrorist organization and their favourite attack types"
      ],
      "metadata": {
        "id": "ezHOT_rIOMsj"
      }
    },
    {
      "cell_type": "code",
      "source": [
        "#Here we will create a another dataframe which only include the data of the top terrorist organization\n",
        "a = global_terrorism[global_terrorism['Gang_Name']== (\"Taliban\")]\n",
        "b = global_terrorism[global_terrorism['Gang_Name']== ('Islamic State of Iraq and the Levant (ISIL)')]\n",
        "c = global_terrorism[global_terrorism['Gang_Name']== ('Shining Path (SL)')]\n",
        "d = global_terrorism[global_terrorism['Gang_Name']== (\"Farabundo Marti National Liberation Front (FMLN)\")]\n",
        "e = global_terrorism[global_terrorism['Gang_Name']== (\"Al-Shabaab\")]\n",
        "f = global_terrorism[global_terrorism['Gang_Name']== (\"New People's Army (NPA)\")]\n",
        "g = global_terrorism[global_terrorism['Gang_Name']== (\"Irish Republican Army (IRA)\")]\n",
        "h = global_terrorism[global_terrorism['Gang_Name']== (\"Revolutionary Armed Forces of Colombia (FARC)\")]\n",
        "i = global_terrorism[global_terrorism['Gang_Name']== (\"Boko Haram\")]\n",
        "j = global_terrorism[global_terrorism['Gang_Name']== (\"Kurdistan Workers' Party (PKK)\")]\n",
        "\n",
        "top_gangs = pd.concat([a,b,c,d,e,f,g,h,i,j])\n",
        "top_gangs.head()"
      ],
      "metadata": {
        "colab": {
          "base_uri": "https://localhost:8080/",
          "height": 392
        },
        "id": "RfCRpOGAON1O",
        "outputId": "ae5875fe-a259-4b53-d625-859ae25c9283"
      },
      "execution_count": 22,
      "outputs": [
        {
          "output_type": "execute_result",
          "data": {
            "text/plain": [
              "       Year  Month  Day Gang_Name  Nationality      Country     State  \\\n",
              "59040  1995      4   20   Taliban     Pakistan  Afghanistan   Unknown   \n",
              "60014  1995      8    3   Taliban       Russia  Afghanistan  Kandahar   \n",
              "60462  1995      9   21   Taliban  Afghanistan  Afghanistan  Kandahar   \n",
              "60786  1995     10   25   Taliban  Switzerland  Afghanistan     Kabul   \n",
              "71682  2001      1    7   Taliban  Afghanistan  Afghanistan    Bamyan   \n",
              "\n",
              "           Region       City   Latitude  Longitude  \\\n",
              "59040  South Asia    Unknown        NaN        NaN   \n",
              "60014  South Asia   Kandahar  31.631083  65.742226   \n",
              "60462  South Asia   Kandahar  31.631083  65.742226   \n",
              "60786  South Asia      Kabul  34.516895  69.147011   \n",
              "71682  South Asia  Yakawlang  34.733333  66.966667   \n",
              "\n",
              "                       Attack_Type Weapon_Type                  Main_Target  \\\n",
              "59040  Hostage Taking (Kidnapping)     Unknown                       Police   \n",
              "60014                    Hijacking  Explosives          Airports & Aircraft   \n",
              "60462                    Hijacking  Explosives          Airports & Aircraft   \n",
              "60786            Bombing/Explosion  Explosives          Airports & Aircraft   \n",
              "71682                Armed Assault    Firearms  Private Citizens & Property   \n",
              "\n",
              "                                            Sub_Target  Killed  Wounded  \n",
              "59040  Police Building (headquarters, station, school)       0        0  \n",
              "60014                     Aircraft (not at an airport)       0        0  \n",
              "60462                     Aircraft (not at an airport)       0        0  \n",
              "60786                     Aircraft (not at an airport)       0        0  \n",
              "71682                     Unnamed Civilian/Unspecified     150        0  "
            ],
            "text/html": [
              "\n",
              "  <div id=\"df-d93d9e4a-1a85-43d4-8e21-f3cf2e0cbbfe\">\n",
              "    <div class=\"colab-df-container\">\n",
              "      <div>\n",
              "<style scoped>\n",
              "    .dataframe tbody tr th:only-of-type {\n",
              "        vertical-align: middle;\n",
              "    }\n",
              "\n",
              "    .dataframe tbody tr th {\n",
              "        vertical-align: top;\n",
              "    }\n",
              "\n",
              "    .dataframe thead th {\n",
              "        text-align: right;\n",
              "    }\n",
              "</style>\n",
              "<table border=\"1\" class=\"dataframe\">\n",
              "  <thead>\n",
              "    <tr style=\"text-align: right;\">\n",
              "      <th></th>\n",
              "      <th>Year</th>\n",
              "      <th>Month</th>\n",
              "      <th>Day</th>\n",
              "      <th>Gang_Name</th>\n",
              "      <th>Nationality</th>\n",
              "      <th>Country</th>\n",
              "      <th>State</th>\n",
              "      <th>Region</th>\n",
              "      <th>City</th>\n",
              "      <th>Latitude</th>\n",
              "      <th>Longitude</th>\n",
              "      <th>Attack_Type</th>\n",
              "      <th>Weapon_Type</th>\n",
              "      <th>Main_Target</th>\n",
              "      <th>Sub_Target</th>\n",
              "      <th>Killed</th>\n",
              "      <th>Wounded</th>\n",
              "    </tr>\n",
              "  </thead>\n",
              "  <tbody>\n",
              "    <tr>\n",
              "      <th>59040</th>\n",
              "      <td>1995</td>\n",
              "      <td>4</td>\n",
              "      <td>20</td>\n",
              "      <td>Taliban</td>\n",
              "      <td>Pakistan</td>\n",
              "      <td>Afghanistan</td>\n",
              "      <td>Unknown</td>\n",
              "      <td>South Asia</td>\n",
              "      <td>Unknown</td>\n",
              "      <td>NaN</td>\n",
              "      <td>NaN</td>\n",
              "      <td>Hostage Taking (Kidnapping)</td>\n",
              "      <td>Unknown</td>\n",
              "      <td>Police</td>\n",
              "      <td>Police Building (headquarters, station, school)</td>\n",
              "      <td>0</td>\n",
              "      <td>0</td>\n",
              "    </tr>\n",
              "    <tr>\n",
              "      <th>60014</th>\n",
              "      <td>1995</td>\n",
              "      <td>8</td>\n",
              "      <td>3</td>\n",
              "      <td>Taliban</td>\n",
              "      <td>Russia</td>\n",
              "      <td>Afghanistan</td>\n",
              "      <td>Kandahar</td>\n",
              "      <td>South Asia</td>\n",
              "      <td>Kandahar</td>\n",
              "      <td>31.631083</td>\n",
              "      <td>65.742226</td>\n",
              "      <td>Hijacking</td>\n",
              "      <td>Explosives</td>\n",
              "      <td>Airports &amp; Aircraft</td>\n",
              "      <td>Aircraft (not at an airport)</td>\n",
              "      <td>0</td>\n",
              "      <td>0</td>\n",
              "    </tr>\n",
              "    <tr>\n",
              "      <th>60462</th>\n",
              "      <td>1995</td>\n",
              "      <td>9</td>\n",
              "      <td>21</td>\n",
              "      <td>Taliban</td>\n",
              "      <td>Afghanistan</td>\n",
              "      <td>Afghanistan</td>\n",
              "      <td>Kandahar</td>\n",
              "      <td>South Asia</td>\n",
              "      <td>Kandahar</td>\n",
              "      <td>31.631083</td>\n",
              "      <td>65.742226</td>\n",
              "      <td>Hijacking</td>\n",
              "      <td>Explosives</td>\n",
              "      <td>Airports &amp; Aircraft</td>\n",
              "      <td>Aircraft (not at an airport)</td>\n",
              "      <td>0</td>\n",
              "      <td>0</td>\n",
              "    </tr>\n",
              "    <tr>\n",
              "      <th>60786</th>\n",
              "      <td>1995</td>\n",
              "      <td>10</td>\n",
              "      <td>25</td>\n",
              "      <td>Taliban</td>\n",
              "      <td>Switzerland</td>\n",
              "      <td>Afghanistan</td>\n",
              "      <td>Kabul</td>\n",
              "      <td>South Asia</td>\n",
              "      <td>Kabul</td>\n",
              "      <td>34.516895</td>\n",
              "      <td>69.147011</td>\n",
              "      <td>Bombing/Explosion</td>\n",
              "      <td>Explosives</td>\n",
              "      <td>Airports &amp; Aircraft</td>\n",
              "      <td>Aircraft (not at an airport)</td>\n",
              "      <td>0</td>\n",
              "      <td>0</td>\n",
              "    </tr>\n",
              "    <tr>\n",
              "      <th>71682</th>\n",
              "      <td>2001</td>\n",
              "      <td>1</td>\n",
              "      <td>7</td>\n",
              "      <td>Taliban</td>\n",
              "      <td>Afghanistan</td>\n",
              "      <td>Afghanistan</td>\n",
              "      <td>Bamyan</td>\n",
              "      <td>South Asia</td>\n",
              "      <td>Yakawlang</td>\n",
              "      <td>34.733333</td>\n",
              "      <td>66.966667</td>\n",
              "      <td>Armed Assault</td>\n",
              "      <td>Firearms</td>\n",
              "      <td>Private Citizens &amp; Property</td>\n",
              "      <td>Unnamed Civilian/Unspecified</td>\n",
              "      <td>150</td>\n",
              "      <td>0</td>\n",
              "    </tr>\n",
              "  </tbody>\n",
              "</table>\n",
              "</div>\n",
              "      <button class=\"colab-df-convert\" onclick=\"convertToInteractive('df-d93d9e4a-1a85-43d4-8e21-f3cf2e0cbbfe')\"\n",
              "              title=\"Convert this dataframe to an interactive table.\"\n",
              "              style=\"display:none;\">\n",
              "        \n",
              "  <svg xmlns=\"http://www.w3.org/2000/svg\" height=\"24px\"viewBox=\"0 0 24 24\"\n",
              "       width=\"24px\">\n",
              "    <path d=\"M0 0h24v24H0V0z\" fill=\"none\"/>\n",
              "    <path d=\"M18.56 5.44l.94 2.06.94-2.06 2.06-.94-2.06-.94-.94-2.06-.94 2.06-2.06.94zm-11 1L8.5 8.5l.94-2.06 2.06-.94-2.06-.94L8.5 2.5l-.94 2.06-2.06.94zm10 10l.94 2.06.94-2.06 2.06-.94-2.06-.94-.94-2.06-.94 2.06-2.06.94z\"/><path d=\"M17.41 7.96l-1.37-1.37c-.4-.4-.92-.59-1.43-.59-.52 0-1.04.2-1.43.59L10.3 9.45l-7.72 7.72c-.78.78-.78 2.05 0 2.83L4 21.41c.39.39.9.59 1.41.59.51 0 1.02-.2 1.41-.59l7.78-7.78 2.81-2.81c.8-.78.8-2.07 0-2.86zM5.41 20L4 18.59l7.72-7.72 1.47 1.35L5.41 20z\"/>\n",
              "  </svg>\n",
              "      </button>\n",
              "      \n",
              "  <style>\n",
              "    .colab-df-container {\n",
              "      display:flex;\n",
              "      flex-wrap:wrap;\n",
              "      gap: 12px;\n",
              "    }\n",
              "\n",
              "    .colab-df-convert {\n",
              "      background-color: #E8F0FE;\n",
              "      border: none;\n",
              "      border-radius: 50%;\n",
              "      cursor: pointer;\n",
              "      display: none;\n",
              "      fill: #1967D2;\n",
              "      height: 32px;\n",
              "      padding: 0 0 0 0;\n",
              "      width: 32px;\n",
              "    }\n",
              "\n",
              "    .colab-df-convert:hover {\n",
              "      background-color: #E2EBFA;\n",
              "      box-shadow: 0px 1px 2px rgba(60, 64, 67, 0.3), 0px 1px 3px 1px rgba(60, 64, 67, 0.15);\n",
              "      fill: #174EA6;\n",
              "    }\n",
              "\n",
              "    [theme=dark] .colab-df-convert {\n",
              "      background-color: #3B4455;\n",
              "      fill: #D2E3FC;\n",
              "    }\n",
              "\n",
              "    [theme=dark] .colab-df-convert:hover {\n",
              "      background-color: #434B5C;\n",
              "      box-shadow: 0px 1px 3px 1px rgba(0, 0, 0, 0.15);\n",
              "      filter: drop-shadow(0px 1px 2px rgba(0, 0, 0, 0.3));\n",
              "      fill: #FFFFFF;\n",
              "    }\n",
              "  </style>\n",
              "\n",
              "      <script>\n",
              "        const buttonEl =\n",
              "          document.querySelector('#df-d93d9e4a-1a85-43d4-8e21-f3cf2e0cbbfe button.colab-df-convert');\n",
              "        buttonEl.style.display =\n",
              "          google.colab.kernel.accessAllowed ? 'block' : 'none';\n",
              "\n",
              "        async function convertToInteractive(key) {\n",
              "          const element = document.querySelector('#df-d93d9e4a-1a85-43d4-8e21-f3cf2e0cbbfe');\n",
              "          const dataTable =\n",
              "            await google.colab.kernel.invokeFunction('convertToInteractive',\n",
              "                                                     [key], {});\n",
              "          if (!dataTable) return;\n",
              "\n",
              "          const docLinkHtml = 'Like what you see? Visit the ' +\n",
              "            '<a target=\"_blank\" href=https://colab.research.google.com/notebooks/data_table.ipynb>data table notebook</a>'\n",
              "            + ' to learn more about interactive tables.';\n",
              "          element.innerHTML = '';\n",
              "          dataTable['output_type'] = 'display_data';\n",
              "          await google.colab.output.renderOutput(dataTable, element);\n",
              "          const docLink = document.createElement('div');\n",
              "          docLink.innerHTML = docLinkHtml;\n",
              "          element.appendChild(docLink);\n",
              "        }\n",
              "      </script>\n",
              "    </div>\n",
              "  </div>\n",
              "  "
            ]
          },
          "metadata": {},
          "execution_count": 22
        }
      ]
    },
    {
      "cell_type": "code",
      "source": [
        "fig = px.sunburst(top_gangs, path = ['Gang_Name','Attack_Type'], values = 'Killed', hover_name = 'Gang_Name', height = 700)\n",
        "fig.update_layout(title = \"Top terrorist organizations and their favourite targets\")\n",
        "fig.show()"
      ],
      "metadata": {
        "colab": {
          "base_uri": "https://localhost:8080/",
          "height": 717
        },
        "id": "XHoCSiSzOVCx",
        "outputId": "e81ea9ce-2c3d-4224-b9a0-96562b5c7b84"
      },
      "execution_count": 24,
      "outputs": [
        {
          "output_type": "display_data",
          "data": {
            "text/html": [
              "<html>\n",
              "<head><meta charset=\"utf-8\" /></head>\n",
              "<body>\n",
              "    <div>            <script src=\"https://cdnjs.cloudflare.com/ajax/libs/mathjax/2.7.5/MathJax.js?config=TeX-AMS-MML_SVG\"></script><script type=\"text/javascript\">if (window.MathJax) {MathJax.Hub.Config({SVG: {font: \"STIX-Web\"}});}</script>                <script type=\"text/javascript\">window.PlotlyConfig = {MathJaxConfig: 'local'};</script>\n",
              "        <script src=\"https://cdn.plot.ly/plotly-2.8.3.min.js\"></script>                <div id=\"84f9c451-ad8d-4ab1-9155-3b27377fdd57\" class=\"plotly-graph-div\" style=\"height:700px; width:100%;\"></div>            <script type=\"text/javascript\">                                    window.PLOTLYENV=window.PLOTLYENV || {};                                    if (document.getElementById(\"84f9c451-ad8d-4ab1-9155-3b27377fdd57\")) {                    Plotly.newPlot(                        \"84f9c451-ad8d-4ab1-9155-3b27377fdd57\",                        [{\"branchvalues\":\"total\",\"domain\":{\"x\":[0.0,1.0],\"y\":[0.0,1.0]},\"hovertemplate\":\"<b>%{hovertext}</b><br><br>labels=%{label}<br>Killed=%{value}<br>parent=%{parent}<br>id=%{id}<extra></extra>\",\"hovertext\":[\"Al-Shabaab\",\"Boko Haram\",\"Farabundo Marti National Liberation Front (FMLN)\",\"Irish Republican Army (IRA)\",\"Islamic State of Iraq and the Levant (ISIL)\",\"Kurdistan Workers' Party (PKK)\",\"New People's Army (NPA)\",\"Revolutionary Armed Forces of Colombia (FARC)\",\"Shining Path (SL)\",\"Taliban\",\"Al-Shabaab\",\"Boko Haram\",\"Farabundo Marti National Liberation Front (FMLN)\",\"Irish Republican Army (IRA)\",\"Islamic State of Iraq and the Levant (ISIL)\",\"Kurdistan Workers' Party (PKK)\",\"New People's Army (NPA)\",\"Revolutionary Armed Forces of Colombia (FARC)\",\"Shining Path (SL)\",\"Taliban\",\"Al-Shabaab\",\"Boko Haram\",\"Farabundo Marti National Liberation Front (FMLN)\",\"Irish Republican Army (IRA)\",\"Islamic State of Iraq and the Levant (ISIL)\",\"Kurdistan Workers' Party (PKK)\",\"New People's Army (NPA)\",\"Revolutionary Armed Forces of Colombia (FARC)\",\"Shining Path (SL)\",\"Taliban\",\"Al-Shabaab\",\"Boko Haram\",\"Farabundo Marti National Liberation Front (FMLN)\",\"Irish Republican Army (IRA)\",\"Islamic State of Iraq and the Levant (ISIL)\",\"Kurdistan Workers' Party (PKK)\",\"New People's Army (NPA)\",\"Revolutionary Armed Forces of Colombia (FARC)\",\"Shining Path (SL)\",\"Taliban\",\"Al-Shabaab\",\"Boko Haram\",\"Irish Republican Army (IRA)\",\"Islamic State of Iraq and the Levant (ISIL)\",\"Kurdistan Workers' Party (PKK)\",\"New People's Army (NPA)\",\"Revolutionary Armed Forces of Colombia (FARC)\",\"Shining Path (SL)\",\"Taliban\",\"Al-Shabaab\",\"Boko Haram\",\"Farabundo Marti National Liberation Front (FMLN)\",\"Irish Republican Army (IRA)\",\"Islamic State of Iraq and the Levant (ISIL)\",\"Kurdistan Workers' Party (PKK)\",\"New People's Army (NPA)\",\"Revolutionary Armed Forces of Colombia (FARC)\",\"Shining Path (SL)\",\"Taliban\",\"Al-Shabaab\",\"Boko Haram\",\"Farabundo Marti National Liberation Front (FMLN)\",\"Irish Republican Army (IRA)\",\"Islamic State of Iraq and the Levant (ISIL)\",\"Kurdistan Workers' Party (PKK)\",\"New People's Army (NPA)\",\"Revolutionary Armed Forces of Colombia (FARC)\",\"Shining Path (SL)\",\"Taliban\",\"Al-Shabaab\",\"Irish Republican Army (IRA)\",\"Kurdistan Workers' Party (PKK)\",\"New People's Army (NPA)\",\"Revolutionary Armed Forces of Colombia (FARC)\",\"Shining Path (SL)\",\"Taliban\",\"Al-Shabaab\",\"Boko Haram\",\"Farabundo Marti National Liberation Front (FMLN)\",\"Irish Republican Army (IRA)\",\"Islamic State of Iraq and the Levant (ISIL)\",\"Kurdistan Workers' Party (PKK)\",\"New People's Army (NPA)\",\"Revolutionary Armed Forces of Colombia (FARC)\",\"Shining Path (SL)\",\"Taliban\",\"Al-Shabaab\",\"Boko Haram\",\"Farabundo Marti National Liberation Front (FMLN)\",\"Irish Republican Army (IRA)\",\"Islamic State of Iraq and the Levant (ISIL)\",\"Kurdistan Workers' Party (PKK)\",\"New People's Army (NPA)\",\"Revolutionary Armed Forces of Colombia (FARC)\",\"Shining Path (SL)\",\"Taliban\"],\"ids\":[\"Al-Shabaab/Armed Assault\",\"Boko Haram/Armed Assault\",\"Farabundo Marti National Liberation Front (FMLN)/Armed Assault\",\"Irish Republican Army (IRA)/Armed Assault\",\"Islamic State of Iraq and the Levant (ISIL)/Armed Assault\",\"Kurdistan Workers' Party (PKK)/Armed Assault\",\"New People's Army (NPA)/Armed Assault\",\"Revolutionary Armed Forces of Colombia (FARC)/Armed Assault\",\"Shining Path (SL)/Armed Assault\",\"Taliban/Armed Assault\",\"Al-Shabaab/Assassination\",\"Boko Haram/Assassination\",\"Farabundo Marti National Liberation Front (FMLN)/Assassination\",\"Irish Republican Army (IRA)/Assassination\",\"Islamic State of Iraq and the Levant (ISIL)/Assassination\",\"Kurdistan Workers' Party (PKK)/Assassination\",\"New People's Army (NPA)/Assassination\",\"Revolutionary Armed Forces of Colombia (FARC)/Assassination\",\"Shining Path (SL)/Assassination\",\"Taliban/Assassination\",\"Al-Shabaab/Bombing/Explosion\",\"Boko Haram/Bombing/Explosion\",\"Farabundo Marti National Liberation Front (FMLN)/Bombing/Explosion\",\"Irish Republican Army (IRA)/Bombing/Explosion\",\"Islamic State of Iraq and the Levant (ISIL)/Bombing/Explosion\",\"Kurdistan Workers' Party (PKK)/Bombing/Explosion\",\"New People's Army (NPA)/Bombing/Explosion\",\"Revolutionary Armed Forces of Colombia (FARC)/Bombing/Explosion\",\"Shining Path (SL)/Bombing/Explosion\",\"Taliban/Bombing/Explosion\",\"Al-Shabaab/Facility/Infrastructure Attack\",\"Boko Haram/Facility/Infrastructure Attack\",\"Farabundo Marti National Liberation Front (FMLN)/Facility/Infrastructure Attack\",\"Irish Republican Army (IRA)/Facility/Infrastructure Attack\",\"Islamic State of Iraq and the Levant (ISIL)/Facility/Infrastructure Attack\",\"Kurdistan Workers' Party (PKK)/Facility/Infrastructure Attack\",\"New People's Army (NPA)/Facility/Infrastructure Attack\",\"Revolutionary Armed Forces of Colombia (FARC)/Facility/Infrastructure Attack\",\"Shining Path (SL)/Facility/Infrastructure Attack\",\"Taliban/Facility/Infrastructure Attack\",\"Al-Shabaab/Hijacking\",\"Boko Haram/Hijacking\",\"Irish Republican Army (IRA)/Hijacking\",\"Islamic State of Iraq and the Levant (ISIL)/Hijacking\",\"Kurdistan Workers' Party (PKK)/Hijacking\",\"New People's Army (NPA)/Hijacking\",\"Revolutionary Armed Forces of Colombia (FARC)/Hijacking\",\"Shining Path (SL)/Hijacking\",\"Taliban/Hijacking\",\"Al-Shabaab/Hostage Taking (Barricade Incident)\",\"Boko Haram/Hostage Taking (Barricade Incident)\",\"Farabundo Marti National Liberation Front (FMLN)/Hostage Taking (Barricade Incident)\",\"Irish Republican Army (IRA)/Hostage Taking (Barricade Incident)\",\"Islamic State of Iraq and the Levant (ISIL)/Hostage Taking (Barricade Incident)\",\"Kurdistan Workers' Party (PKK)/Hostage Taking (Barricade Incident)\",\"New People's Army (NPA)/Hostage Taking (Barricade Incident)\",\"Revolutionary Armed Forces of Colombia (FARC)/Hostage Taking (Barricade Incident)\",\"Shining Path (SL)/Hostage Taking (Barricade Incident)\",\"Taliban/Hostage Taking (Barricade Incident)\",\"Al-Shabaab/Hostage Taking (Kidnapping)\",\"Boko Haram/Hostage Taking (Kidnapping)\",\"Farabundo Marti National Liberation Front (FMLN)/Hostage Taking (Kidnapping)\",\"Irish Republican Army (IRA)/Hostage Taking (Kidnapping)\",\"Islamic State of Iraq and the Levant (ISIL)/Hostage Taking (Kidnapping)\",\"Kurdistan Workers' Party (PKK)/Hostage Taking (Kidnapping)\",\"New People's Army (NPA)/Hostage Taking (Kidnapping)\",\"Revolutionary Armed Forces of Colombia (FARC)/Hostage Taking (Kidnapping)\",\"Shining Path (SL)/Hostage Taking (Kidnapping)\",\"Taliban/Hostage Taking (Kidnapping)\",\"Al-Shabaab/Unarmed Assault\",\"Irish Republican Army (IRA)/Unarmed Assault\",\"Kurdistan Workers' Party (PKK)/Unarmed Assault\",\"New People's Army (NPA)/Unarmed Assault\",\"Revolutionary Armed Forces of Colombia (FARC)/Unarmed Assault\",\"Shining Path (SL)/Unarmed Assault\",\"Taliban/Unarmed Assault\",\"Al-Shabaab/Unknown\",\"Boko Haram/Unknown\",\"Farabundo Marti National Liberation Front (FMLN)/Unknown\",\"Irish Republican Army (IRA)/Unknown\",\"Islamic State of Iraq and the Levant (ISIL)/Unknown\",\"Kurdistan Workers' Party (PKK)/Unknown\",\"New People's Army (NPA)/Unknown\",\"Revolutionary Armed Forces of Colombia (FARC)/Unknown\",\"Shining Path (SL)/Unknown\",\"Taliban/Unknown\",\"Al-Shabaab\",\"Boko Haram\",\"Farabundo Marti National Liberation Front (FMLN)\",\"Irish Republican Army (IRA)\",\"Islamic State of Iraq and the Levant (ISIL)\",\"Kurdistan Workers' Party (PKK)\",\"New People's Army (NPA)\",\"Revolutionary Armed Forces of Colombia (FARC)\",\"Shining Path (SL)\",\"Taliban\"],\"labels\":[\"Armed Assault\",\"Armed Assault\",\"Armed Assault\",\"Armed Assault\",\"Armed Assault\",\"Armed Assault\",\"Armed Assault\",\"Armed Assault\",\"Armed Assault\",\"Armed Assault\",\"Assassination\",\"Assassination\",\"Assassination\",\"Assassination\",\"Assassination\",\"Assassination\",\"Assassination\",\"Assassination\",\"Assassination\",\"Assassination\",\"Bombing/Explosion\",\"Bombing/Explosion\",\"Bombing/Explosion\",\"Bombing/Explosion\",\"Bombing/Explosion\",\"Bombing/Explosion\",\"Bombing/Explosion\",\"Bombing/Explosion\",\"Bombing/Explosion\",\"Bombing/Explosion\",\"Facility/Infrastructure Attack\",\"Facility/Infrastructure Attack\",\"Facility/Infrastructure Attack\",\"Facility/Infrastructure Attack\",\"Facility/Infrastructure Attack\",\"Facility/Infrastructure Attack\",\"Facility/Infrastructure Attack\",\"Facility/Infrastructure Attack\",\"Facility/Infrastructure Attack\",\"Facility/Infrastructure Attack\",\"Hijacking\",\"Hijacking\",\"Hijacking\",\"Hijacking\",\"Hijacking\",\"Hijacking\",\"Hijacking\",\"Hijacking\",\"Hijacking\",\"Hostage Taking (Barricade Incident)\",\"Hostage Taking (Barricade Incident)\",\"Hostage Taking (Barricade Incident)\",\"Hostage Taking (Barricade Incident)\",\"Hostage Taking (Barricade Incident)\",\"Hostage Taking (Barricade Incident)\",\"Hostage Taking (Barricade Incident)\",\"Hostage Taking (Barricade Incident)\",\"Hostage Taking (Barricade Incident)\",\"Hostage Taking (Barricade Incident)\",\"Hostage Taking (Kidnapping)\",\"Hostage Taking (Kidnapping)\",\"Hostage Taking (Kidnapping)\",\"Hostage Taking (Kidnapping)\",\"Hostage Taking (Kidnapping)\",\"Hostage Taking (Kidnapping)\",\"Hostage Taking (Kidnapping)\",\"Hostage Taking (Kidnapping)\",\"Hostage Taking (Kidnapping)\",\"Hostage Taking (Kidnapping)\",\"Unarmed Assault\",\"Unarmed Assault\",\"Unarmed Assault\",\"Unarmed Assault\",\"Unarmed Assault\",\"Unarmed Assault\",\"Unarmed Assault\",\"Unknown\",\"Unknown\",\"Unknown\",\"Unknown\",\"Unknown\",\"Unknown\",\"Unknown\",\"Unknown\",\"Unknown\",\"Unknown\",\"Al-Shabaab\",\"Boko Haram\",\"Farabundo Marti National Liberation Front (FMLN)\",\"Irish Republican Army (IRA)\",\"Islamic State of Iraq and the Levant (ISIL)\",\"Kurdistan Workers' Party (PKK)\",\"New People's Army (NPA)\",\"Revolutionary Armed Forces of Colombia (FARC)\",\"Shining Path (SL)\",\"Taliban\"],\"name\":\"\",\"parents\":[\"Al-Shabaab\",\"Boko Haram\",\"Farabundo Marti National Liberation Front (FMLN)\",\"Irish Republican Army (IRA)\",\"Islamic State of Iraq and the Levant (ISIL)\",\"Kurdistan Workers' Party (PKK)\",\"New People's Army (NPA)\",\"Revolutionary Armed Forces of Colombia (FARC)\",\"Shining Path (SL)\",\"Taliban\",\"Al-Shabaab\",\"Boko Haram\",\"Farabundo Marti National Liberation Front (FMLN)\",\"Irish Republican Army (IRA)\",\"Islamic State of Iraq and the Levant (ISIL)\",\"Kurdistan Workers' Party (PKK)\",\"New People's Army (NPA)\",\"Revolutionary Armed Forces of Colombia (FARC)\",\"Shining Path (SL)\",\"Taliban\",\"Al-Shabaab\",\"Boko Haram\",\"Farabundo Marti National Liberation Front (FMLN)\",\"Irish Republican Army (IRA)\",\"Islamic State of Iraq and the Levant (ISIL)\",\"Kurdistan Workers' Party (PKK)\",\"New People's Army (NPA)\",\"Revolutionary Armed Forces of Colombia (FARC)\",\"Shining Path (SL)\",\"Taliban\",\"Al-Shabaab\",\"Boko Haram\",\"Farabundo Marti National Liberation Front (FMLN)\",\"Irish Republican Army (IRA)\",\"Islamic State of Iraq and the Levant (ISIL)\",\"Kurdistan Workers' Party (PKK)\",\"New People's Army (NPA)\",\"Revolutionary Armed Forces of Colombia (FARC)\",\"Shining Path (SL)\",\"Taliban\",\"Al-Shabaab\",\"Boko Haram\",\"Irish Republican Army (IRA)\",\"Islamic State of Iraq and the Levant (ISIL)\",\"Kurdistan Workers' Party (PKK)\",\"New People's Army (NPA)\",\"Revolutionary Armed Forces of Colombia (FARC)\",\"Shining Path (SL)\",\"Taliban\",\"Al-Shabaab\",\"Boko Haram\",\"Farabundo Marti National Liberation Front (FMLN)\",\"Irish Republican Army (IRA)\",\"Islamic State of Iraq and the Levant (ISIL)\",\"Kurdistan Workers' Party (PKK)\",\"New People's Army (NPA)\",\"Revolutionary Armed Forces of Colombia (FARC)\",\"Shining Path (SL)\",\"Taliban\",\"Al-Shabaab\",\"Boko Haram\",\"Farabundo Marti National Liberation Front (FMLN)\",\"Irish Republican Army (IRA)\",\"Islamic State of Iraq and the Levant (ISIL)\",\"Kurdistan Workers' Party (PKK)\",\"New People's Army (NPA)\",\"Revolutionary Armed Forces of Colombia (FARC)\",\"Shining Path (SL)\",\"Taliban\",\"Al-Shabaab\",\"Irish Republican Army (IRA)\",\"Kurdistan Workers' Party (PKK)\",\"New People's Army (NPA)\",\"Revolutionary Armed Forces of Colombia (FARC)\",\"Shining Path (SL)\",\"Taliban\",\"Al-Shabaab\",\"Boko Haram\",\"Farabundo Marti National Liberation Front (FMLN)\",\"Irish Republican Army (IRA)\",\"Islamic State of Iraq and the Levant (ISIL)\",\"Kurdistan Workers' Party (PKK)\",\"New People's Army (NPA)\",\"Revolutionary Armed Forces of Colombia (FARC)\",\"Shining Path (SL)\",\"Taliban\",\"\",\"\",\"\",\"\",\"\",\"\",\"\",\"\",\"\",\"\"],\"values\":[2519,11083,6708,210,3241,3185,2622,2676,8232,11634,528,168,144,808,218,228,602,415,1345,999,3949,6034,1031,716,19408,1110,472,1348,1105,10157,23,152,9,18,106,38,32,100,85,166,16,12,2,4,2,15,5,1,29,354,169,15,5,481,3,26,10,1,209,878,1450,9,35,10023,47,116,555,87,1898,34,0,21,0,69,0,22,1029,1260,149,10,5442,321,501,483,745,4296,9330,20328,8065,1804,38923,4955,4386,5661,11601,29410],\"type\":\"sunburst\"}],                        {\"template\":{\"data\":{\"bar\":[{\"error_x\":{\"color\":\"#2a3f5f\"},\"error_y\":{\"color\":\"#2a3f5f\"},\"marker\":{\"line\":{\"color\":\"#E5ECF6\",\"width\":0.5},\"pattern\":{\"fillmode\":\"overlay\",\"size\":10,\"solidity\":0.2}},\"type\":\"bar\"}],\"barpolar\":[{\"marker\":{\"line\":{\"color\":\"#E5ECF6\",\"width\":0.5},\"pattern\":{\"fillmode\":\"overlay\",\"size\":10,\"solidity\":0.2}},\"type\":\"barpolar\"}],\"carpet\":[{\"aaxis\":{\"endlinecolor\":\"#2a3f5f\",\"gridcolor\":\"white\",\"linecolor\":\"white\",\"minorgridcolor\":\"white\",\"startlinecolor\":\"#2a3f5f\"},\"baxis\":{\"endlinecolor\":\"#2a3f5f\",\"gridcolor\":\"white\",\"linecolor\":\"white\",\"minorgridcolor\":\"white\",\"startlinecolor\":\"#2a3f5f\"},\"type\":\"carpet\"}],\"choropleth\":[{\"colorbar\":{\"outlinewidth\":0,\"ticks\":\"\"},\"type\":\"choropleth\"}],\"contour\":[{\"colorbar\":{\"outlinewidth\":0,\"ticks\":\"\"},\"colorscale\":[[0.0,\"#0d0887\"],[0.1111111111111111,\"#46039f\"],[0.2222222222222222,\"#7201a8\"],[0.3333333333333333,\"#9c179e\"],[0.4444444444444444,\"#bd3786\"],[0.5555555555555556,\"#d8576b\"],[0.6666666666666666,\"#ed7953\"],[0.7777777777777778,\"#fb9f3a\"],[0.8888888888888888,\"#fdca26\"],[1.0,\"#f0f921\"]],\"type\":\"contour\"}],\"contourcarpet\":[{\"colorbar\":{\"outlinewidth\":0,\"ticks\":\"\"},\"type\":\"contourcarpet\"}],\"heatmap\":[{\"colorbar\":{\"outlinewidth\":0,\"ticks\":\"\"},\"colorscale\":[[0.0,\"#0d0887\"],[0.1111111111111111,\"#46039f\"],[0.2222222222222222,\"#7201a8\"],[0.3333333333333333,\"#9c179e\"],[0.4444444444444444,\"#bd3786\"],[0.5555555555555556,\"#d8576b\"],[0.6666666666666666,\"#ed7953\"],[0.7777777777777778,\"#fb9f3a\"],[0.8888888888888888,\"#fdca26\"],[1.0,\"#f0f921\"]],\"type\":\"heatmap\"}],\"heatmapgl\":[{\"colorbar\":{\"outlinewidth\":0,\"ticks\":\"\"},\"colorscale\":[[0.0,\"#0d0887\"],[0.1111111111111111,\"#46039f\"],[0.2222222222222222,\"#7201a8\"],[0.3333333333333333,\"#9c179e\"],[0.4444444444444444,\"#bd3786\"],[0.5555555555555556,\"#d8576b\"],[0.6666666666666666,\"#ed7953\"],[0.7777777777777778,\"#fb9f3a\"],[0.8888888888888888,\"#fdca26\"],[1.0,\"#f0f921\"]],\"type\":\"heatmapgl\"}],\"histogram\":[{\"marker\":{\"pattern\":{\"fillmode\":\"overlay\",\"size\":10,\"solidity\":0.2}},\"type\":\"histogram\"}],\"histogram2d\":[{\"colorbar\":{\"outlinewidth\":0,\"ticks\":\"\"},\"colorscale\":[[0.0,\"#0d0887\"],[0.1111111111111111,\"#46039f\"],[0.2222222222222222,\"#7201a8\"],[0.3333333333333333,\"#9c179e\"],[0.4444444444444444,\"#bd3786\"],[0.5555555555555556,\"#d8576b\"],[0.6666666666666666,\"#ed7953\"],[0.7777777777777778,\"#fb9f3a\"],[0.8888888888888888,\"#fdca26\"],[1.0,\"#f0f921\"]],\"type\":\"histogram2d\"}],\"histogram2dcontour\":[{\"colorbar\":{\"outlinewidth\":0,\"ticks\":\"\"},\"colorscale\":[[0.0,\"#0d0887\"],[0.1111111111111111,\"#46039f\"],[0.2222222222222222,\"#7201a8\"],[0.3333333333333333,\"#9c179e\"],[0.4444444444444444,\"#bd3786\"],[0.5555555555555556,\"#d8576b\"],[0.6666666666666666,\"#ed7953\"],[0.7777777777777778,\"#fb9f3a\"],[0.8888888888888888,\"#fdca26\"],[1.0,\"#f0f921\"]],\"type\":\"histogram2dcontour\"}],\"mesh3d\":[{\"colorbar\":{\"outlinewidth\":0,\"ticks\":\"\"},\"type\":\"mesh3d\"}],\"parcoords\":[{\"line\":{\"colorbar\":{\"outlinewidth\":0,\"ticks\":\"\"}},\"type\":\"parcoords\"}],\"pie\":[{\"automargin\":true,\"type\":\"pie\"}],\"scatter\":[{\"marker\":{\"colorbar\":{\"outlinewidth\":0,\"ticks\":\"\"}},\"type\":\"scatter\"}],\"scatter3d\":[{\"line\":{\"colorbar\":{\"outlinewidth\":0,\"ticks\":\"\"}},\"marker\":{\"colorbar\":{\"outlinewidth\":0,\"ticks\":\"\"}},\"type\":\"scatter3d\"}],\"scattercarpet\":[{\"marker\":{\"colorbar\":{\"outlinewidth\":0,\"ticks\":\"\"}},\"type\":\"scattercarpet\"}],\"scattergeo\":[{\"marker\":{\"colorbar\":{\"outlinewidth\":0,\"ticks\":\"\"}},\"type\":\"scattergeo\"}],\"scattergl\":[{\"marker\":{\"colorbar\":{\"outlinewidth\":0,\"ticks\":\"\"}},\"type\":\"scattergl\"}],\"scattermapbox\":[{\"marker\":{\"colorbar\":{\"outlinewidth\":0,\"ticks\":\"\"}},\"type\":\"scattermapbox\"}],\"scatterpolar\":[{\"marker\":{\"colorbar\":{\"outlinewidth\":0,\"ticks\":\"\"}},\"type\":\"scatterpolar\"}],\"scatterpolargl\":[{\"marker\":{\"colorbar\":{\"outlinewidth\":0,\"ticks\":\"\"}},\"type\":\"scatterpolargl\"}],\"scatterternary\":[{\"marker\":{\"colorbar\":{\"outlinewidth\":0,\"ticks\":\"\"}},\"type\":\"scatterternary\"}],\"surface\":[{\"colorbar\":{\"outlinewidth\":0,\"ticks\":\"\"},\"colorscale\":[[0.0,\"#0d0887\"],[0.1111111111111111,\"#46039f\"],[0.2222222222222222,\"#7201a8\"],[0.3333333333333333,\"#9c179e\"],[0.4444444444444444,\"#bd3786\"],[0.5555555555555556,\"#d8576b\"],[0.6666666666666666,\"#ed7953\"],[0.7777777777777778,\"#fb9f3a\"],[0.8888888888888888,\"#fdca26\"],[1.0,\"#f0f921\"]],\"type\":\"surface\"}],\"table\":[{\"cells\":{\"fill\":{\"color\":\"#EBF0F8\"},\"line\":{\"color\":\"white\"}},\"header\":{\"fill\":{\"color\":\"#C8D4E3\"},\"line\":{\"color\":\"white\"}},\"type\":\"table\"}]},\"layout\":{\"annotationdefaults\":{\"arrowcolor\":\"#2a3f5f\",\"arrowhead\":0,\"arrowwidth\":1},\"autotypenumbers\":\"strict\",\"coloraxis\":{\"colorbar\":{\"outlinewidth\":0,\"ticks\":\"\"}},\"colorscale\":{\"diverging\":[[0,\"#8e0152\"],[0.1,\"#c51b7d\"],[0.2,\"#de77ae\"],[0.3,\"#f1b6da\"],[0.4,\"#fde0ef\"],[0.5,\"#f7f7f7\"],[0.6,\"#e6f5d0\"],[0.7,\"#b8e186\"],[0.8,\"#7fbc41\"],[0.9,\"#4d9221\"],[1,\"#276419\"]],\"sequential\":[[0.0,\"#0d0887\"],[0.1111111111111111,\"#46039f\"],[0.2222222222222222,\"#7201a8\"],[0.3333333333333333,\"#9c179e\"],[0.4444444444444444,\"#bd3786\"],[0.5555555555555556,\"#d8576b\"],[0.6666666666666666,\"#ed7953\"],[0.7777777777777778,\"#fb9f3a\"],[0.8888888888888888,\"#fdca26\"],[1.0,\"#f0f921\"]],\"sequentialminus\":[[0.0,\"#0d0887\"],[0.1111111111111111,\"#46039f\"],[0.2222222222222222,\"#7201a8\"],[0.3333333333333333,\"#9c179e\"],[0.4444444444444444,\"#bd3786\"],[0.5555555555555556,\"#d8576b\"],[0.6666666666666666,\"#ed7953\"],[0.7777777777777778,\"#fb9f3a\"],[0.8888888888888888,\"#fdca26\"],[1.0,\"#f0f921\"]]},\"colorway\":[\"#636efa\",\"#EF553B\",\"#00cc96\",\"#ab63fa\",\"#FFA15A\",\"#19d3f3\",\"#FF6692\",\"#B6E880\",\"#FF97FF\",\"#FECB52\"],\"font\":{\"color\":\"#2a3f5f\"},\"geo\":{\"bgcolor\":\"white\",\"lakecolor\":\"white\",\"landcolor\":\"#E5ECF6\",\"showlakes\":true,\"showland\":true,\"subunitcolor\":\"white\"},\"hoverlabel\":{\"align\":\"left\"},\"hovermode\":\"closest\",\"mapbox\":{\"style\":\"light\"},\"paper_bgcolor\":\"white\",\"plot_bgcolor\":\"#E5ECF6\",\"polar\":{\"angularaxis\":{\"gridcolor\":\"white\",\"linecolor\":\"white\",\"ticks\":\"\"},\"bgcolor\":\"#E5ECF6\",\"radialaxis\":{\"gridcolor\":\"white\",\"linecolor\":\"white\",\"ticks\":\"\"}},\"scene\":{\"xaxis\":{\"backgroundcolor\":\"#E5ECF6\",\"gridcolor\":\"white\",\"gridwidth\":2,\"linecolor\":\"white\",\"showbackground\":true,\"ticks\":\"\",\"zerolinecolor\":\"white\"},\"yaxis\":{\"backgroundcolor\":\"#E5ECF6\",\"gridcolor\":\"white\",\"gridwidth\":2,\"linecolor\":\"white\",\"showbackground\":true,\"ticks\":\"\",\"zerolinecolor\":\"white\"},\"zaxis\":{\"backgroundcolor\":\"#E5ECF6\",\"gridcolor\":\"white\",\"gridwidth\":2,\"linecolor\":\"white\",\"showbackground\":true,\"ticks\":\"\",\"zerolinecolor\":\"white\"}},\"shapedefaults\":{\"line\":{\"color\":\"#2a3f5f\"}},\"ternary\":{\"aaxis\":{\"gridcolor\":\"white\",\"linecolor\":\"white\",\"ticks\":\"\"},\"baxis\":{\"gridcolor\":\"white\",\"linecolor\":\"white\",\"ticks\":\"\"},\"bgcolor\":\"#E5ECF6\",\"caxis\":{\"gridcolor\":\"white\",\"linecolor\":\"white\",\"ticks\":\"\"}},\"title\":{\"x\":0.05},\"xaxis\":{\"automargin\":true,\"gridcolor\":\"white\",\"linecolor\":\"white\",\"ticks\":\"\",\"title\":{\"standoff\":15},\"zerolinecolor\":\"white\",\"zerolinewidth\":2},\"yaxis\":{\"automargin\":true,\"gridcolor\":\"white\",\"linecolor\":\"white\",\"ticks\":\"\",\"title\":{\"standoff\":15},\"zerolinecolor\":\"white\",\"zerolinewidth\":2}}},\"legend\":{\"tracegroupgap\":0},\"margin\":{\"t\":60},\"height\":700,\"title\":{\"text\":\"Top terrorist organizations and their favourite targets\"}},                        {\"responsive\": true}                    ).then(function(){\n",
              "                            \n",
              "var gd = document.getElementById('84f9c451-ad8d-4ab1-9155-3b27377fdd57');\n",
              "var x = new MutationObserver(function (mutations, observer) {{\n",
              "        var display = window.getComputedStyle(gd).display;\n",
              "        if (!display || display === 'none') {{\n",
              "            console.log([gd, 'removed!']);\n",
              "            Plotly.purge(gd);\n",
              "            observer.disconnect();\n",
              "        }}\n",
              "}});\n",
              "\n",
              "// Listen for the removal of the full notebook cells\n",
              "var notebookContainer = gd.closest('#notebook-container');\n",
              "if (notebookContainer) {{\n",
              "    x.observe(notebookContainer, {childList: true});\n",
              "}}\n",
              "\n",
              "// Listen for the clearing of the current output cell\n",
              "var outputEl = gd.closest('.output');\n",
              "if (outputEl) {{\n",
              "    x.observe(outputEl, {childList: true});\n",
              "}}\n",
              "\n",
              "                        })                };                            </script>        </div>\n",
              "</body>\n",
              "</html>"
            ]
          },
          "metadata": {}
        }
      ]
    },
    {
      "cell_type": "markdown",
      "source": [
        "#### **After the analysis we say that:**\n",
        "\n",
        " * **Islamic State of Iraq and the Levant (ISIL)** has the most number of kills followed by **'Taliban'** and **'boko haram'** "
      ],
      "metadata": {
        "id": "a1qgNRpm57Tc"
      }
    },
    {
      "cell_type": "markdown",
      "source": [
        "## 3. Type of attack mostly used by the terrorist organization."
      ],
      "metadata": {
        "id": "kiuW5x32Oxft"
      }
    },
    {
      "cell_type": "code",
      "source": [
        "# Attack_Type and printing top Attack_Type\n",
        "known_attack_type = global_terrorism['Attack_Type'].value_counts()\n",
        "known_attack_type\n",
        "#['Attack_Type'].value_counts()\n"
      ],
      "metadata": {
        "colab": {
          "base_uri": "https://localhost:8080/"
        },
        "id": "JH1hiy0QO3WI",
        "outputId": "d00a1ca5-eeaa-41eb-f8f9-89f166504072"
      },
      "execution_count": 27,
      "outputs": [
        {
          "output_type": "execute_result",
          "data": {
            "text/plain": [
              "Bombing/Explosion                      88255\n",
              "Armed Assault                          42669\n",
              "Assassination                          19312\n",
              "Hostage Taking (Kidnapping)            11158\n",
              "Facility/Infrastructure Attack         10356\n",
              "Unknown                                 7276\n",
              "Unarmed Assault                         1015\n",
              "Hostage Taking (Barricade Incident)      991\n",
              "Hijacking                                659\n",
              "Name: Attack_Type, dtype: int64"
            ]
          },
          "metadata": {},
          "execution_count": 27
        }
      ]
    },
    {
      "cell_type": "code",
      "source": [
        "(global_terrorism['Attack_Type'].value_counts() / global_terrorism.shape[0])*100\n"
      ],
      "metadata": {
        "colab": {
          "base_uri": "https://localhost:8080/"
        },
        "id": "LhX8H317O7zS",
        "outputId": "671b58e9-9794-4041-a320-a37fd20f6df1"
      },
      "execution_count": 28,
      "outputs": [
        {
          "output_type": "execute_result",
          "data": {
            "text/plain": [
              "Bombing/Explosion                      48.574228\n",
              "Armed Assault                          23.484377\n",
              "Assassination                          10.629035\n",
              "Hostage Taking (Kidnapping)             6.141196\n",
              "Facility/Infrastructure Attack          5.699787\n",
              "Unknown                                 4.004601\n",
              "Unarmed Assault                         0.558641\n",
              "Hostage Taking (Barricade Incident)     0.545432\n",
              "Hijacking                               0.362704\n",
              "Name: Attack_Type, dtype: float64"
            ]
          },
          "metadata": {},
          "execution_count": 28
        }
      ]
    },
    {
      "cell_type": "code",
      "source": [
        "# Types of Attacks Mostly Used\n",
        "\n",
        "\n",
        "#plt.style.use('dark_background')\n",
        "plt.figure(figsize = (12,5))\n",
        "ax = plt.axes()\n",
        "ax.set_facecolor(\"green\")\n",
        "plt.plot(known_attack_type.index, known_attack_type.values, color='blue', marker = 'o', linewidth = 4,  markerfacecolor='red', markersize=12)\n",
        "plt.title('Attack Mostly used',fontsize=25)\n",
        "plt.xlabel('Attack type',fontsize=25)\n",
        "plt.ylabel('No. of attacks',fontsize=25)\n",
        "plt.xticks(rotation=90)\n",
        "plt.show()\n"
      ],
      "metadata": {
        "colab": {
          "base_uri": "https://localhost:8080/",
          "height": 563
        },
        "id": "G7hnaNTqPAyX",
        "outputId": "473ead8b-85a7-446c-9ead-7d1e873f1252"
      },
      "execution_count": 30,
      "outputs": [
        {
          "output_type": "display_data",
          "data": {
            "text/plain": [
              "<Figure size 864x360 with 1 Axes>"
            ],
            "image/png": "[encoded data removed]"
          },
          "metadata": {}
        }
      ]
    },
    {
      "cell_type": "markdown",
      "source": [
        "**conclusion** : Most of the attack (approx 50%) is happenend with the Bombing/Explosion:"
      ],
      "metadata": {
        "id": "NX4AoJ2gPe3P"
      }
    },
    {
      "cell_type": "markdown",
      "source": [
        "* 10-20% of the Attack happened with Armed Assault .\n",
        "* hijacking is the less used Attack Type used by terrorists.\n",
        "* Remaining other are in between 0-6%"
      ],
      "metadata": {
        "id": "nsftSa5DPhA3"
      }
    },
    {
      "cell_type": "markdown",
      "source": [
        "## 4. Top 10 most attacked targets."
      ],
      "metadata": {
        "id": "66e0xfjuPsg4"
      }
    },
    {
      "cell_type": "code",
      "source": [
        "##Eliminating unknown Main_Target and printing top 10 Main_Target\n",
        "known_attacked_target = global_terrorism[global_terrorism['Main_Target'] !='Unknown']\n",
        "top_attacked_targets = known_attacked_target['Main_Target'].value_counts()[:10]\n",
        "top_attacked_targets"
      ],
      "metadata": {
        "id": "0KXKP-SbPyAU",
        "outputId": "06e6b3a0-8ab5-4f87-fcda-41b3c0a61f57",
        "colab": {
          "base_uri": "https://localhost:8080/"
        }
      },
      "execution_count": 31,
      "outputs": [
        {
          "output_type": "execute_result",
          "data": {
            "text/plain": [
              "Private Citizens & Property       43511\n",
              "Military                          27984\n",
              "Police                            24506\n",
              "Government (General)              21283\n",
              "Business                          20669\n",
              "Transportation                     6799\n",
              "Utilities                          6023\n",
              "Religious Figures/Institutions     4440\n",
              "Educational Institution            4322\n",
              "Government (Diplomatic)            3573\n",
              "Name: Main_Target, dtype: int64"
            ]
          },
          "metadata": {},
          "execution_count": 31
        }
      ]
    },
    {
      "cell_type": "code",
      "source": [
        "plt.figure(figsize = (14,8))\n",
        "sns.barplot(top_attacked_targets.index, top_attacked_targets.values, palette='crest')\n",
        "plt.title('Top 10 most attacked targets',fontsize=25)\n",
        "plt.xlabel('Targets',fontsize=25)\n",
        "plt.ylabel('Number of attacks',fontsize=25)\n",
        "plt.xticks(rotation=90)\n",
        "plt.show()"
      ],
      "metadata": {
        "id": "SF37Q_PSP08H",
        "outputId": "f25a5fdb-29c0-404b-fe36-d7361e22951b",
        "colab": {
          "base_uri": "https://localhost:8080/",
          "height": 776
        }
      },
      "execution_count": 32,
      "outputs": [
        {
          "output_type": "stream",
          "name": "stderr",
          "text": [
            "/usr/local/lib/python3.7/dist-packages/seaborn/_decorators.py:43: FutureWarning:\n",
            "\n",
            "Pass the following variables as keyword args: x, y. From version 0.12, the only valid positional argument will be `data`, and passing other arguments without an explicit keyword will result in an error or misinterpretation.\n",
            "\n"
          ]
        },
        {
          "output_type": "display_data",
          "data": {
            "text/plain": [
              "<Figure size 1008x576 with 1 Axes>"
            ],
            "image/png": "[encoded data removed]"
          },
          "metadata": {}
        }
      ]
    },
    {
      "cell_type": "markdown",
      "source": [
        "#### This Graph Shows:\n",
        "\n",
        "\n",
        "*   The most Attacked Target is 'Private Citizens & Property' which is approximately 25%\n",
        "* 10-20% is the Target which is 'Military','Police', 'Government', 'Business'\n",
        "\n"
      ],
      "metadata": {
        "id": "ntD4BrTYP5if"
      }
    },
    {
      "cell_type": "markdown",
      "source": [
        "## 5. Yearly growth of terrorist attacks."
      ],
      "metadata": {
        "id": "0TTFZNYlSWCy"
      }
    },
    {
      "cell_type": "code",
      "source": [
        "# getting unique values of 'Year'\n",
        "unique_year = global_terrorism['Year'].unique()\n",
        "unique_year"
      ],
      "metadata": {
        "id": "5sMJ6UlhSYq-",
        "outputId": "2ff5c9cf-f358-490c-988a-59254a89358c",
        "colab": {
          "base_uri": "https://localhost:8080/"
        }
      },
      "execution_count": 33,
      "outputs": [
        {
          "output_type": "execute_result",
          "data": {
            "text/plain": [
              "array([1970, 1971, 1972, 1973, 1974, 1975, 1976, 1977, 1978, 1979, 1980,\n",
              "       1981, 1986, 1982, 1983, 1984, 1985, 1987, 1988, 1989, 1990, 1991,\n",
              "       1992, 1994, 1995, 1996, 1997, 1998, 1999, 2000, 2001, 2002, 2003,\n",
              "       2004, 2005, 2006, 2007, 2008, 2009, 2010, 2011, 2012, 2013, 2014,\n",
              "       2015, 2016, 2017])"
            ]
          },
          "metadata": {},
          "execution_count": 33
        }
      ]
    },
    {
      "cell_type": "code",
      "source": [
        "#sort & count the unique values\n",
        "sorted_year = global_terrorism['Year'].value_counts(dropna = False).sort_index()\n",
        "print(sorted_year)"
      ],
      "metadata": {
        "id": "6mbvApT5SbbO",
        "outputId": "9302defc-0981-4436-bccf-8b4abcfbabe4",
        "colab": {
          "base_uri": "https://localhost:8080/"
        }
      },
      "execution_count": 34,
      "outputs": [
        {
          "output_type": "stream",
          "name": "stdout",
          "text": [
            "1970      651\n",
            "1971      471\n",
            "1972      568\n",
            "1973      473\n",
            "1974      581\n",
            "1975      740\n",
            "1976      923\n",
            "1977     1319\n",
            "1978     1526\n",
            "1979     2662\n",
            "1980     2662\n",
            "1981     2586\n",
            "1982     2544\n",
            "1983     2870\n",
            "1984     3495\n",
            "1985     2915\n",
            "1986     2860\n",
            "1987     3183\n",
            "1988     3721\n",
            "1989     4324\n",
            "1990     3887\n",
            "1991     4683\n",
            "1992     5071\n",
            "1994     3456\n",
            "1995     3081\n",
            "1996     3058\n",
            "1997     3197\n",
            "1998      934\n",
            "1999     1395\n",
            "2000     1814\n",
            "2001     1906\n",
            "2002     1333\n",
            "2003     1278\n",
            "2004     1166\n",
            "2005     2017\n",
            "2006     2758\n",
            "2007     3242\n",
            "2008     4805\n",
            "2009     4721\n",
            "2010     4826\n",
            "2011     5076\n",
            "2012     8522\n",
            "2013    12036\n",
            "2014    16903\n",
            "2015    14965\n",
            "2016    13587\n",
            "2017    10900\n",
            "Name: Year, dtype: int64\n"
          ]
        }
      ]
    },
    {
      "cell_type": "code",
      "source": [
        "plt.figure(figsize = (12,7))\n",
        "sns.barplot(x = unique_year,\n",
        "           y = sorted_year,\n",
        "           palette = \"icefire\")\n",
        "plt.xticks(rotation = 80)\n",
        "plt.xlabel('Attack Year')\n",
        "plt.ylabel('Number of Attacks each year')\n",
        "plt.title('Attack_of_Years')\n",
        "plt.show()\n"
      ],
      "metadata": {
        "id": "tn1mtvYmSemq",
        "outputId": "f02ad6b4-c490-4d0c-bca8-ddd9e5174c63",
        "colab": {
          "base_uri": "https://localhost:8080/",
          "height": 483
        }
      },
      "execution_count": 35,
      "outputs": [
        {
          "output_type": "display_data",
          "data": {
            "text/plain": [
              "<Figure size 864x504 with 1 Axes>"
            ],
            "image/png": "[encoded data removed]"
          },
          "metadata": {}
        }
      ]
    },
    {
      "cell_type": "markdown",
      "source": [
        "#### **After the analysis we can say that:** \n",
        "* 2014 appears to be witness of a huge terrorist attacks.\n",
        "* After 2011 we can see that there is a large growth recorded in terrorist attack."
      ],
      "metadata": {
        "id": "9EF9sxNyShxQ"
      }
    },
    {
      "cell_type": "markdown",
      "source": [
        "## **Analysis based on killiings**\n",
        "\n",
        "1.   Top 10 terrorist organization with highest kills.\n",
        "2.   Location in which 50+ people were killed in the year which having the most terrorist attacks.\n",
        "3.   Death analysis in both Country and Region wise.\n",
        "\n"
      ],
      "metadata": {
        "id": "E_I159wHP68R"
      }
    },
    {
      "cell_type": "markdown",
      "source": [
        "## 1. Top 10 terrorist organization with highest kills."
      ],
      "metadata": {
        "id": "Qt6fPE74QD3b"
      }
    },
    {
      "cell_type": "code",
      "source": [
        "known_gang_name = global_terrorism[(global_terrorism['Gang_Name'] !='Unknown')]\n",
        "total_killed_by_a_gang = known_gang_name.groupby('Gang_Name')['Killed'].sum()\n",
        "total_killed_by_a_gang = total_killed_by_a_gang.sort_values(ascending=False)\n",
        "top_gang_with_most_killed=total_killed_by_a_gang.head(10)\n",
        "top_gang_with_most_killed"
      ],
      "metadata": {
        "id": "fpA1XPdcQHzU",
        "outputId": "41695cb3-4058-4204-fa3c-e5aba684d532",
        "colab": {
          "base_uri": "https://localhost:8080/"
        }
      },
      "execution_count": 36,
      "outputs": [
        {
          "output_type": "execute_result",
          "data": {
            "text/plain": [
              "Gang_Name\n",
              "Islamic State of Iraq and the Levant (ISIL)         38923\n",
              "Taliban                                             29410\n",
              "Boko Haram                                          20328\n",
              "Shining Path (SL)                                   11601\n",
              "Liberation Tigers of Tamil Eelam (LTTE)             10989\n",
              "Al-Shabaab                                           9330\n",
              "Farabundo Marti National Liberation Front (FMLN)     8065\n",
              "Nicaraguan Democratic Force (FDN)                    6662\n",
              "Tehrik-i-Taliban Pakistan (TTP)                      6042\n",
              "Revolutionary Armed Forces of Colombia (FARC)        5661\n",
              "Name: Killed, dtype: int64"
            ]
          },
          "metadata": {},
          "execution_count": 36
        }
      ]
    },
    {
      "cell_type": "code",
      "source": [
        "plt.figure(figsize = (12,6))\n",
        "sns.barplot(top_gang_with_most_killed.values, top_gang_with_most_killed.index,palette='Reds_r')\n",
        "plt.title('Top 10 Gangs with highest no. of kills',fontsize=20)\n",
        "plt.xlabel('Number of people killed',fontsize=15)\n",
        "plt.ylabel('Gang Name',fontsize=15)\n",
        "plt.xticks(rotation= 90)\n",
        "plt.show()\n",
        "plt.savefig('top_gang_with_most_killed.jpg')"
      ],
      "metadata": {
        "id": "G1dUkJI8QJfz",
        "outputId": "97aa856a-2546-48d6-81cb-d534188882b7",
        "colab": {
          "base_uri": "https://localhost:8080/",
          "height": 549
        }
      },
      "execution_count": 37,
      "outputs": [
        {
          "output_type": "stream",
          "name": "stderr",
          "text": [
            "/usr/local/lib/python3.7/dist-packages/seaborn/_decorators.py:43: FutureWarning:\n",
            "\n",
            "Pass the following variables as keyword args: x, y. From version 0.12, the only valid positional argument will be `data`, and passing other arguments without an explicit keyword will result in an error or misinterpretation.\n",
            "\n"
          ]
        },
        {
          "output_type": "display_data",
          "data": {
            "text/plain": [
              "<Figure size 864x432 with 1 Axes>"
            ],
            "image/png": "[encoded data removed]"
          },
          "metadata": {}
        },
        {
          "output_type": "display_data",
          "data": {
            "text/plain": [
              "<Figure size 432x288 with 0 Axes>"
            ]
          },
          "metadata": {}
        }
      ]
    },
    {
      "cell_type": "markdown",
      "source": [
        "**According to analysis:**\n",
        "* **'Islamic State of Iraq and the Levant (ISIL)'** killed most of number of people which is almost approx **(40k)** followed by **'Taliban'** and **'Bokko Haran'** who has  killed approx **(30k)** & **(20k)** respectively.\n"
      ],
      "metadata": {
        "id": "y7sD1-F56WP8"
      }
    },
    {
      "cell_type": "markdown",
      "source": [
        "#### After the analysis we can say that: \n",
        "* 2014 appears to be witness of a huge terrorist attacks.\n",
        "* After 2011 we can see that there is a large growth recorded in terrorist attack."
      ],
      "metadata": {
        "id": "lEA34TgiQfDn"
      }
    },
    {
      "cell_type": "markdown",
      "source": [
        "##2.  Location in which 50+ people were killed in the year which having the most terrorist attacks."
      ],
      "metadata": {
        "id": "edWv1q1aQjuP"
      }
    },
    {
      "cell_type": "code",
      "source": [
        "# selecting the 'Latittude' and 'Longitude' where 50+ people were killed in 2014\n",
        "lon=global_terrorism[(global_terrorism['Year']==2014) & (global_terrorism['Killed']>=50)]['Longitude']\n",
        "lat=global_terrorism[(global_terrorism['Year']==2014) & (global_terrorism['Killed']>=50)]['Latitude']\n"
      ],
      "metadata": {
        "id": "hKe6MmMIQmb-"
      },
      "execution_count": 38,
      "outputs": []
    },
    {
      "cell_type": "code",
      "source": [
        "fig =px.density_mapbox(global_terrorism,lat =lat,lon = lon,radius = 10,center = dict(lat=9,lon=9),zoom = 1,\n",
        "                       hover_name = global_terrorism[(global_terrorism['Year']==2014) & (global_terrorism['Killed']>=50)]['Country'],\n",
        "                     mapbox_style = 'open-street-map',title = 'Location where 50+ people were killed in 2014')\n",
        "fig.show()"
      ],
      "metadata": {
        "id": "Qh6YJxvtQpRQ",
        "outputId": "bc7f306b-6809-4dc1-8113-a8231323a993",
        "colab": {
          "base_uri": "https://localhost:8080/",
          "height": 542
        }
      },
      "execution_count": 39,
      "outputs": [
        {
          "output_type": "display_data",
          "data": {
            "text/html": [
              "<html>\n",
              "<head><meta charset=\"utf-8\" /></head>\n",
              "<body>\n",
              "    <div>            <script src=\"https://cdnjs.cloudflare.com/ajax/libs/mathjax/2.7.5/MathJax.js?config=TeX-AMS-MML_SVG\"></script><script type=\"text/javascript\">if (window.MathJax) {MathJax.Hub.Config({SVG: {font: \"STIX-Web\"}});}</script>                <script type=\"text/javascript\">window.PlotlyConfig = {MathJaxConfig: 'local'};</script>\n",
              "        <script src=\"https://cdn.plot.ly/plotly-2.8.3.min.js\"></script>                <div id=\"57f06777-c979-43ac-bfd1-d4568a92dfc9\" class=\"plotly-graph-div\" style=\"height:525px; width:100%;\"></div>            <script type=\"text/javascript\">                                    window.PLOTLYENV=window.PLOTLYENV || {};                                    if (document.getElementById(\"57f06777-c979-43ac-bfd1-d4568a92dfc9\")) {                    Plotly.newPlot(                        \"57f06777-c979-43ac-bfd1-d4568a92dfc9\",                        [{\"coloraxis\":\"coloraxis\",\"hovertemplate\":\"<b>%{hovertext}</b><br><br>lat=%{lat}<br>lon=%{lon}<extra></extra>\",\"hovertext\":[\"Nigeria\",\"Nigeria\",\"Nigeria\",\"South Sudan\",\"South Sudan\",\"South Sudan\",\"Nigeria\",\"Iraq\",\"Nigeria\",\"Nigeria\",\"Nigeria\",\"Nigeria\",\"Nigeria\",\"South Sudan\",\"South Sudan\",\"Syria\",\"Syria\",\"Central African Republic\",\"Nigeria\",\"Nigeria\",\"Nigeria\",\"Nigeria\",\"Nigeria\",\"Nigeria\",\"Nigeria\",\"Nigeria\",\"Nigeria\",\"Nigeria\",\"Nigeria\",\"Nigeria\",\"Nigeria\",\"Nigeria\",\"Sudan\",\"Iraq\",\"Iraq\",\"Iraq\",\"Iraq\",\"Iraq\",\"Sudan\",\"Iraq\",\"Nigeria\",\"Afghanistan\",\"Nigeria\",\"Nigeria\",\"Syria\",\"Ukraine\",\"Nigeria\",\"Iraq\",\"Syria\",\"Afghanistan\",\"Iraq\",\"Iraq\",\"Central African Republic\",\"Nigeria\",\"Iraq\",\"South Sudan\",\"South Sudan\",\"Iraq\",\"Syria\",\"Ukraine\",\"Nigeria\",\"Cameroon\",\"Iraq\",\"Nigeria\",\"Nigeria\",\"Afghanistan\",\"Syria\",\"Iraq\",\"Iraq\",\"Iraq\",\"Pakistan\",\"Ukraine\",\"Somalia\",\"Iraq\",\"Afghanistan\",\"Nigeria\",\"Nigeria\",\"Nigeria\",\"Nigeria\",\"Nigeria\",\"Syria\",\"Cameroon\",\"Syria\",\"Syria\",\"Pakistan\",\"Iraq\",\"Cameroon\",\"Nigeria\",\"Yemen\"],\"lat\":[11.655408,12.12052,11.526846,6.960118,6.960315,6.960315,11.247069,32.469238,11.840929,12.124167,12.082407,11.725265,9.066559,9.259689,6.219991,34.717705,34.717705,7.25,12.359468,11.151905,12.046389,12.046389,11.929978,11.806517,9.933333,9.933333,11.107849,11.083973,11.126492,11.107849,11.829979,11.17275,10.900763,36.407394,32.469238,34.621521,33.74324,32.365976,11.036333,32.867008,11.840929,30.19659,11.151905,10.750977,34.608148,48.139156,11.151905,33.540672,35.951523,34.283562,36.76321,36.319386,7.300804,11.083983,36.319386,8.3488,8.3488,36.177341,35.959198,47.925907,11.526846,12.379026,36.354145,11.655408,11.655408,34.111254,35.928802,33.420948,33.633896,33.416713,31.590166,47.981647,-0.872426,33.633442,32.937172,13.101662,11.840929,11.974328,11.74464,11.655408,35.283095,11.236522,35.644217,35.616253,34.006004,33.349159,11.236522,11.391125,13.967151],\"lon\":[13.412932,13.174035,13.69271,31.372189,31.372943,31.372943,12.01246,44.416637,13.141459,6.534444,14.467137,14.263032,7.483589,29.800148,31.550005,36.722824,36.722824,16.433333,14.210929,12.758704,14.480833,14.480833,14.343351,12.497848,8.883333,8.883333,13.813551,13.682182,13.78975,13.813551,12.630177,13.429547,30.069372,42.964626,44.416637,43.668377,44.623825,44.665562,30.249001,44.220455,13.141459,63.965456,12.758704,13.220349,38.430948,38.639335,12.758704,44.251266,39.009563,69.883565,42.602535,41.861473,18.288171,13.693092,41.861473,31.07937,31.07937,41.91016,38.998018,38.200459,13.69271,14.224362,43.14357,13.412932,13.412932,70.978915,36.631451,43.295662,42.832081,43.299752,74.575894,37.762325,42.155462,42.816579,68.647247,12.509746,13.141459,8.50026,11.970257,13.412932,40.170864,14.126195,36.701914,36.655267,71.53743,43.784199,14.126195,12.909138,44.165426],\"name\":\"\",\"radius\":10,\"subplot\":\"mapbox\",\"type\":\"densitymapbox\"}],                        {\"template\":{\"data\":{\"bar\":[{\"error_x\":{\"color\":\"#2a3f5f\"},\"error_y\":{\"color\":\"#2a3f5f\"},\"marker\":{\"line\":{\"color\":\"#E5ECF6\",\"width\":0.5},\"pattern\":{\"fillmode\":\"overlay\",\"size\":10,\"solidity\":0.2}},\"type\":\"bar\"}],\"barpolar\":[{\"marker\":{\"line\":{\"color\":\"#E5ECF6\",\"width\":0.5},\"pattern\":{\"fillmode\":\"overlay\",\"size\":10,\"solidity\":0.2}},\"type\":\"barpolar\"}],\"carpet\":[{\"aaxis\":{\"endlinecolor\":\"#2a3f5f\",\"gridcolor\":\"white\",\"linecolor\":\"white\",\"minorgridcolor\":\"white\",\"startlinecolor\":\"#2a3f5f\"},\"baxis\":{\"endlinecolor\":\"#2a3f5f\",\"gridcolor\":\"white\",\"linecolor\":\"white\",\"minorgridcolor\":\"white\",\"startlinecolor\":\"#2a3f5f\"},\"type\":\"carpet\"}],\"choropleth\":[{\"colorbar\":{\"outlinewidth\":0,\"ticks\":\"\"},\"type\":\"choropleth\"}],\"contour\":[{\"colorbar\":{\"outlinewidth\":0,\"ticks\":\"\"},\"colorscale\":[[0.0,\"#0d0887\"],[0.1111111111111111,\"#46039f\"],[0.2222222222222222,\"#7201a8\"],[0.3333333333333333,\"#9c179e\"],[0.4444444444444444,\"#bd3786\"],[0.5555555555555556,\"#d8576b\"],[0.6666666666666666,\"#ed7953\"],[0.7777777777777778,\"#fb9f3a\"],[0.8888888888888888,\"#fdca26\"],[1.0,\"#f0f921\"]],\"type\":\"contour\"}],\"contourcarpet\":[{\"colorbar\":{\"outlinewidth\":0,\"ticks\":\"\"},\"type\":\"contourcarpet\"}],\"heatmap\":[{\"colorbar\":{\"outlinewidth\":0,\"ticks\":\"\"},\"colorscale\":[[0.0,\"#0d0887\"],[0.1111111111111111,\"#46039f\"],[0.2222222222222222,\"#7201a8\"],[0.3333333333333333,\"#9c179e\"],[0.4444444444444444,\"#bd3786\"],[0.5555555555555556,\"#d8576b\"],[0.6666666666666666,\"#ed7953\"],[0.7777777777777778,\"#fb9f3a\"],[0.8888888888888888,\"#fdca26\"],[1.0,\"#f0f921\"]],\"type\":\"heatmap\"}],\"heatmapgl\":[{\"colorbar\":{\"outlinewidth\":0,\"ticks\":\"\"},\"colorscale\":[[0.0,\"#0d0887\"],[0.1111111111111111,\"#46039f\"],[0.2222222222222222,\"#7201a8\"],[0.3333333333333333,\"#9c179e\"],[0.4444444444444444,\"#bd3786\"],[0.5555555555555556,\"#d8576b\"],[0.6666666666666666,\"#ed7953\"],[0.7777777777777778,\"#fb9f3a\"],[0.8888888888888888,\"#fdca26\"],[1.0,\"#f0f921\"]],\"type\":\"heatmapgl\"}],\"histogram\":[{\"marker\":{\"pattern\":{\"fillmode\":\"overlay\",\"size\":10,\"solidity\":0.2}},\"type\":\"histogram\"}],\"histogram2d\":[{\"colorbar\":{\"outlinewidth\":0,\"ticks\":\"\"},\"colorscale\":[[0.0,\"#0d0887\"],[0.1111111111111111,\"#46039f\"],[0.2222222222222222,\"#7201a8\"],[0.3333333333333333,\"#9c179e\"],[0.4444444444444444,\"#bd3786\"],[0.5555555555555556,\"#d8576b\"],[0.6666666666666666,\"#ed7953\"],[0.7777777777777778,\"#fb9f3a\"],[0.8888888888888888,\"#fdca26\"],[1.0,\"#f0f921\"]],\"type\":\"histogram2d\"}],\"histogram2dcontour\":[{\"colorbar\":{\"outlinewidth\":0,\"ticks\":\"\"},\"colorscale\":[[0.0,\"#0d0887\"],[0.1111111111111111,\"#46039f\"],[0.2222222222222222,\"#7201a8\"],[0.3333333333333333,\"#9c179e\"],[0.4444444444444444,\"#bd3786\"],[0.5555555555555556,\"#d8576b\"],[0.6666666666666666,\"#ed7953\"],[0.7777777777777778,\"#fb9f3a\"],[0.8888888888888888,\"#fdca26\"],[1.0,\"#f0f921\"]],\"type\":\"histogram2dcontour\"}],\"mesh3d\":[{\"colorbar\":{\"outlinewidth\":0,\"ticks\":\"\"},\"type\":\"mesh3d\"}],\"parcoords\":[{\"line\":{\"colorbar\":{\"outlinewidth\":0,\"ticks\":\"\"}},\"type\":\"parcoords\"}],\"pie\":[{\"automargin\":true,\"type\":\"pie\"}],\"scatter\":[{\"marker\":{\"colorbar\":{\"outlinewidth\":0,\"ticks\":\"\"}},\"type\":\"scatter\"}],\"scatter3d\":[{\"line\":{\"colorbar\":{\"outlinewidth\":0,\"ticks\":\"\"}},\"marker\":{\"colorbar\":{\"outlinewidth\":0,\"ticks\":\"\"}},\"type\":\"scatter3d\"}],\"scattercarpet\":[{\"marker\":{\"colorbar\":{\"outlinewidth\":0,\"ticks\":\"\"}},\"type\":\"scattercarpet\"}],\"scattergeo\":[{\"marker\":{\"colorbar\":{\"outlinewidth\":0,\"ticks\":\"\"}},\"type\":\"scattergeo\"}],\"scattergl\":[{\"marker\":{\"colorbar\":{\"outlinewidth\":0,\"ticks\":\"\"}},\"type\":\"scattergl\"}],\"scattermapbox\":[{\"marker\":{\"colorbar\":{\"outlinewidth\":0,\"ticks\":\"\"}},\"type\":\"scattermapbox\"}],\"scatterpolar\":[{\"marker\":{\"colorbar\":{\"outlinewidth\":0,\"ticks\":\"\"}},\"type\":\"scatterpolar\"}],\"scatterpolargl\":[{\"marker\":{\"colorbar\":{\"outlinewidth\":0,\"ticks\":\"\"}},\"type\":\"scatterpolargl\"}],\"scatterternary\":[{\"marker\":{\"colorbar\":{\"outlinewidth\":0,\"ticks\":\"\"}},\"type\":\"scatterternary\"}],\"surface\":[{\"colorbar\":{\"outlinewidth\":0,\"ticks\":\"\"},\"colorscale\":[[0.0,\"#0d0887\"],[0.1111111111111111,\"#46039f\"],[0.2222222222222222,\"#7201a8\"],[0.3333333333333333,\"#9c179e\"],[0.4444444444444444,\"#bd3786\"],[0.5555555555555556,\"#d8576b\"],[0.6666666666666666,\"#ed7953\"],[0.7777777777777778,\"#fb9f3a\"],[0.8888888888888888,\"#fdca26\"],[1.0,\"#f0f921\"]],\"type\":\"surface\"}],\"table\":[{\"cells\":{\"fill\":{\"color\":\"#EBF0F8\"},\"line\":{\"color\":\"white\"}},\"header\":{\"fill\":{\"color\":\"#C8D4E3\"},\"line\":{\"color\":\"white\"}},\"type\":\"table\"}]},\"layout\":{\"annotationdefaults\":{\"arrowcolor\":\"#2a3f5f\",\"arrowhead\":0,\"arrowwidth\":1},\"autotypenumbers\":\"strict\",\"coloraxis\":{\"colorbar\":{\"outlinewidth\":0,\"ticks\":\"\"}},\"colorscale\":{\"diverging\":[[0,\"#8e0152\"],[0.1,\"#c51b7d\"],[0.2,\"#de77ae\"],[0.3,\"#f1b6da\"],[0.4,\"#fde0ef\"],[0.5,\"#f7f7f7\"],[0.6,\"#e6f5d0\"],[0.7,\"#b8e186\"],[0.8,\"#7fbc41\"],[0.9,\"#4d9221\"],[1,\"#276419\"]],\"sequential\":[[0.0,\"#0d0887\"],[0.1111111111111111,\"#46039f\"],[0.2222222222222222,\"#7201a8\"],[0.3333333333333333,\"#9c179e\"],[0.4444444444444444,\"#bd3786\"],[0.5555555555555556,\"#d8576b\"],[0.6666666666666666,\"#ed7953\"],[0.7777777777777778,\"#fb9f3a\"],[0.8888888888888888,\"#fdca26\"],[1.0,\"#f0f921\"]],\"sequentialminus\":[[0.0,\"#0d0887\"],[0.1111111111111111,\"#46039f\"],[0.2222222222222222,\"#7201a8\"],[0.3333333333333333,\"#9c179e\"],[0.4444444444444444,\"#bd3786\"],[0.5555555555555556,\"#d8576b\"],[0.6666666666666666,\"#ed7953\"],[0.7777777777777778,\"#fb9f3a\"],[0.8888888888888888,\"#fdca26\"],[1.0,\"#f0f921\"]]},\"colorway\":[\"#636efa\",\"#EF553B\",\"#00cc96\",\"#ab63fa\",\"#FFA15A\",\"#19d3f3\",\"#FF6692\",\"#B6E880\",\"#FF97FF\",\"#FECB52\"],\"font\":{\"color\":\"#2a3f5f\"},\"geo\":{\"bgcolor\":\"white\",\"lakecolor\":\"white\",\"landcolor\":\"#E5ECF6\",\"showlakes\":true,\"showland\":true,\"subunitcolor\":\"white\"},\"hoverlabel\":{\"align\":\"left\"},\"hovermode\":\"closest\",\"mapbox\":{\"style\":\"light\"},\"paper_bgcolor\":\"white\",\"plot_bgcolor\":\"#E5ECF6\",\"polar\":{\"angularaxis\":{\"gridcolor\":\"white\",\"linecolor\":\"white\",\"ticks\":\"\"},\"bgcolor\":\"#E5ECF6\",\"radialaxis\":{\"gridcolor\":\"white\",\"linecolor\":\"white\",\"ticks\":\"\"}},\"scene\":{\"xaxis\":{\"backgroundcolor\":\"#E5ECF6\",\"gridcolor\":\"white\",\"gridwidth\":2,\"linecolor\":\"white\",\"showbackground\":true,\"ticks\":\"\",\"zerolinecolor\":\"white\"},\"yaxis\":{\"backgroundcolor\":\"#E5ECF6\",\"gridcolor\":\"white\",\"gridwidth\":2,\"linecolor\":\"white\",\"showbackground\":true,\"ticks\":\"\",\"zerolinecolor\":\"white\"},\"zaxis\":{\"backgroundcolor\":\"#E5ECF6\",\"gridcolor\":\"white\",\"gridwidth\":2,\"linecolor\":\"white\",\"showbackground\":true,\"ticks\":\"\",\"zerolinecolor\":\"white\"}},\"shapedefaults\":{\"line\":{\"color\":\"#2a3f5f\"}},\"ternary\":{\"aaxis\":{\"gridcolor\":\"white\",\"linecolor\":\"white\",\"ticks\":\"\"},\"baxis\":{\"gridcolor\":\"white\",\"linecolor\":\"white\",\"ticks\":\"\"},\"bgcolor\":\"#E5ECF6\",\"caxis\":{\"gridcolor\":\"white\",\"linecolor\":\"white\",\"ticks\":\"\"}},\"title\":{\"x\":0.05},\"xaxis\":{\"automargin\":true,\"gridcolor\":\"white\",\"linecolor\":\"white\",\"ticks\":\"\",\"title\":{\"standoff\":15},\"zerolinecolor\":\"white\",\"zerolinewidth\":2},\"yaxis\":{\"automargin\":true,\"gridcolor\":\"white\",\"linecolor\":\"white\",\"ticks\":\"\",\"title\":{\"standoff\":15},\"zerolinecolor\":\"white\",\"zerolinewidth\":2}}},\"mapbox\":{\"domain\":{\"x\":[0.0,1.0],\"y\":[0.0,1.0]},\"center\":{\"lat\":9,\"lon\":9},\"zoom\":1,\"style\":\"open-street-map\"},\"coloraxis\":{\"colorscale\":[[0.0,\"#0d0887\"],[0.1111111111111111,\"#46039f\"],[0.2222222222222222,\"#7201a8\"],[0.3333333333333333,\"#9c179e\"],[0.4444444444444444,\"#bd3786\"],[0.5555555555555556,\"#d8576b\"],[0.6666666666666666,\"#ed7953\"],[0.7777777777777778,\"#fb9f3a\"],[0.8888888888888888,\"#fdca26\"],[1.0,\"#f0f921\"]]},\"legend\":{\"tracegroupgap\":0},\"title\":{\"text\":\"Location where 50+ people were killed in 2014\"}},                        {\"responsive\": true}                    ).then(function(){\n",
              "                            \n",
              "var gd = document.getElementById('57f06777-c979-43ac-bfd1-d4568a92dfc9');\n",
              "var x = new MutationObserver(function (mutations, observer) {{\n",
              "        var display = window.getComputedStyle(gd).display;\n",
              "        if (!display || display === 'none') {{\n",
              "            console.log([gd, 'removed!']);\n",
              "            Plotly.purge(gd);\n",
              "            observer.disconnect();\n",
              "        }}\n",
              "}});\n",
              "\n",
              "// Listen for the removal of the full notebook cells\n",
              "var notebookContainer = gd.closest('#notebook-container');\n",
              "if (notebookContainer) {{\n",
              "    x.observe(notebookContainer, {childList: true});\n",
              "}}\n",
              "\n",
              "// Listen for the clearing of the current output cell\n",
              "var outputEl = gd.closest('.output');\n",
              "if (outputEl) {{\n",
              "    x.observe(outputEl, {childList: true});\n",
              "}}\n",
              "\n",
              "                        })                };                            </script>        </div>\n",
              "</body>\n",
              "</html>"
            ]
          },
          "metadata": {}
        }
      ]
    },
    {
      "cell_type": "markdown",
      "source": [
        "## 3. Death analysis in both Country and Region wise."
      ],
      "metadata": {
        "id": "p9_omCm6QurC"
      }
    },
    {
      "cell_type": "code",
      "source": [
        "# group by the columns ('country' & 'killed') and then sort it.\n",
        "kill_country=global_terrorism.groupby(['Country'])['Killed'].sum().sort_values(ascending = False).head(10)\n",
        "kill_country"
      ],
      "metadata": {
        "id": "NJ0gJARVQxwS",
        "outputId": "4e85323f-43d8-4ceb-eee4-4dabdabf7195",
        "colab": {
          "base_uri": "https://localhost:8080/"
        }
      },
      "execution_count": 40,
      "outputs": [
        {
          "output_type": "execute_result",
          "data": {
            "text/plain": [
              "Country\n",
              "Iraq           78589\n",
              "Afghanistan    39384\n",
              "Pakistan       23822\n",
              "Nigeria        22682\n",
              "India          19341\n",
              "Sri Lanka      15530\n",
              "Syria          15229\n",
              "Colombia       14698\n",
              "Peru           12771\n",
              "El Salvador    12053\n",
              "Name: Killed, dtype: int64"
            ]
          },
          "metadata": {},
          "execution_count": 40
        }
      ]
    },
    {
      "cell_type": "code",
      "source": [
        "# group by the columns ('region' & 'killed') and then sort it.\n",
        "kill_region = global_terrorism.groupby(['Region'])['Killed'].sum().sort_values(ascending = False)\n",
        "kill_region"
      ],
      "metadata": {
        "id": "CbDE1hdgQ1Qe",
        "outputId": "979616c5-8c96-4e79-bd7d-1ef8014427e0",
        "colab": {
          "base_uri": "https://localhost:8080/"
        }
      },
      "execution_count": null,
      "outputs": [
        {
          "output_type": "execute_result",
          "data": {
            "text/plain": [
              "Region\n",
              "Middle East & North Africa     137642\n",
              "South Asia                     101319\n",
              "Sub-Saharan Africa              78386\n",
              "South America                   28849\n",
              "Central America & Caribbean     28708\n",
              "Southeast Asia                  15637\n",
              "Eastern Europe                   7415\n",
              "Western Europe                   6694\n",
              "North America                    4916\n",
              "East Asia                        1152\n",
              "Central Asia                     1000\n",
              "Australasia & Oceania             150\n",
              "Name: Killed, dtype: int64"
            ]
          },
          "metadata": {},
          "execution_count": 40
        }
      ]
    },
    {
      "cell_type": "code",
      "source": [
        "plt.subplot(1,2,2)\n",
        "kill_country.plot(kind='bar',colormap='summer')\n",
        "plt.title('Country wise Killed People',fontsize=15)\n",
        "plt.xlabel('Country',fontsize=15)\n",
        "plt.ylabel('Number of Killed',fontsize=15)\n",
        "plt.xticks(rotation=90)\n",
        "plt.gcf().set_size_inches(15, 5)\n",
        "\n",
        "\n",
        "\n",
        "plt.subplot(1,2,1)\n",
        "kill_region.plot(kind='bar',colormap='winter')\n",
        "\n",
        "plt.title('Regions wise Killed People',fontsize=15)\n",
        "plt.xlabel('Region',fontsize=15)\n",
        "plt.ylabel('Number of Killed',fontsize=15)\n",
        "plt.xticks(rotation=90)\n",
        "plt.gcf().set_size_inches(15, 5)"
      ],
      "metadata": {
        "id": "rzf-98rZQ5Dg",
        "outputId": "3e1efe71-3e10-4a91-f1f8-72242f37b04e",
        "colab": {
          "base_uri": "https://localhost:8080/",
          "height": 511
        }
      },
      "execution_count": null,
      "outputs": [
        {
          "output_type": "display_data",
          "data": {
            "text/plain": [
              "<Figure size 1080x360 with 2 Axes>"
            ],
            "image/png": "[encoded data removed]"
          },
          "metadata": {}
        }
      ]
    },
    {
      "cell_type": "markdown",
      "source": [
        "#### With these Graphs, we can conclude that :\n",
        "*  In countries 'Iraq' has the most killed people approx(80k) followed by 'Afghanistan' & 'Pakistan'.\n",
        "* 'Middle East & North Africa' Region has the most Killed people approx(1.4 Lacs) followed by 'South-Asia' & 'Sub-saharan Africa'.\n"
      ],
      "metadata": {
        "id": "givQrzaYQ9qM"
      }
    },
    {
      "cell_type": "markdown",
      "source": [
        "# **Analysis based on Country,Region and State**\n",
        "\n",
        "1.   Top 10 most attacked country\n",
        "2.   Most attacked region and state\n"
      ],
      "metadata": {
        "id": "udJG26VyRAdR"
      }
    },
    {
      "cell_type": "markdown",
      "source": [
        "## 1. Top 10 most attacked country"
      ],
      "metadata": {
        "id": "4GVo1foTRENg"
      }
    },
    {
      "cell_type": "code",
      "source": [
        "most_attacked_country = global_terrorism.Country.value_counts()[:10]\n",
        "most_attacked_country"
      ],
      "metadata": {
        "id": "OutXjy8lRHpJ",
        "outputId": "6dc13c8e-cb58-4147-e136-e0c1fa7c01cf",
        "colab": {
          "base_uri": "https://localhost:8080/"
        }
      },
      "execution_count": null,
      "outputs": [
        {
          "output_type": "execute_result",
          "data": {
            "text/plain": [
              "Iraq              24636\n",
              "Pakistan          14368\n",
              "Afghanistan       12731\n",
              "India             11960\n",
              "Colombia           8306\n",
              "Philippines        6908\n",
              "Peru               6096\n",
              "El Salvador        5320\n",
              "United Kingdom     5235\n",
              "Turkey             4292\n",
              "Name: Country, dtype: int64"
            ]
          },
          "metadata": {},
          "execution_count": 42
        }
      ]
    },
    {
      "cell_type": "code",
      "source": [
        "plt.figure(figsize = (14,8))\n",
        "sns.barplot(most_attacked_country.index, most_attacked_country.values, \n",
        "            palette='mako')\n",
        "plt.title('Top 10 most attacked country',fontsize=25)\n",
        "plt.xlabel('Country Names',fontsize=25)\n",
        "plt.ylabel('No. of attacks',fontsize=25)\n",
        "plt.xticks(rotation=90)\n",
        "plt.show()\n"
      ],
      "metadata": {
        "id": "UPBL9m1ERK0A",
        "outputId": "e21893b4-4f04-4178-b53d-e5151ee56553",
        "colab": {
          "base_uri": "https://localhost:8080/",
          "height": 706
        }
      },
      "execution_count": null,
      "outputs": [
        {
          "output_type": "stream",
          "name": "stderr",
          "text": [
            "/usr/local/lib/python3.7/dist-packages/seaborn/_decorators.py:43: FutureWarning:\n",
            "\n",
            "Pass the following variables as keyword args: x, y. From version 0.12, the only valid positional argument will be `data`, and passing other arguments without an explicit keyword will result in an error or misinterpretation.\n",
            "\n"
          ]
        },
        {
          "output_type": "display_data",
          "data": {
            "text/plain": [
              "<Figure size 1008x576 with 1 Axes>"
            ],
            "image/png": "[encoded data removed]"
          },
          "metadata": {}
        }
      ]
    },
    {
      "cell_type": "markdown",
      "source": [
        "* According to research, Iraq is the most affected country by terrorist, then followed by Pakistan and Afganistan.\n",
        "\n",
        "\n",
        "\n",
        "\n",
        "\n",
        "\n",
        "\n",
        "\n"
      ],
      "metadata": {
        "id": "lkIbQ2P7RO50"
      }
    },
    {
      "cell_type": "markdown",
      "source": [
        "## 2. Most attacked region and state"
      ],
      "metadata": {
        "id": "6q7EALZnRSCd"
      }
    },
    {
      "cell_type": "code",
      "source": [
        "plt.subplot(1,2,1)\n",
        "# regions with most attacks \n",
        "sns.barplot(global_terrorism['Region'].value_counts().index, global_terrorism['Region'].value_counts().values,palette='rocket')\n",
        "plt.title('Most Attacked Regions',fontsize=20)\n",
        "plt.xlabel('Regions',fontsize=25)\n",
        "plt.ylabel('Number of Attacks',fontsize=20)\n",
        "plt.xticks(rotation=90)\n",
        "\n",
        "# states with most attack\n",
        "plt.subplot(1,2,2)\n",
        "sns.barplot(global_terrorism['State'].value_counts().head(15).index, global_terrorism['State'].value_counts().head(15).values,palette='mako')\n",
        "plt.title('Most Attacked States',fontsize=20)\n",
        "plt.xlabel('States',fontsize=25)\n",
        "plt.ylabel('Number of Attacks',fontsize=20)\n",
        "plt.xticks(rotation=90)\n",
        "plt.gcf().set_size_inches(15, 5)"
      ],
      "metadata": {
        "id": "yXUlHGHzPo0I",
        "outputId": "fdd5f818-248f-415c-9fa5-39db62e6e8b1",
        "colab": {
          "base_uri": "https://localhost:8080/",
          "height": 716
        }
      },
      "execution_count": null,
      "outputs": [
        {
          "output_type": "stream",
          "name": "stderr",
          "text": [
            "/usr/local/lib/python3.7/dist-packages/seaborn/_decorators.py:43: FutureWarning:\n",
            "\n",
            "Pass the following variables as keyword args: x, y. From version 0.12, the only valid positional argument will be `data`, and passing other arguments without an explicit keyword will result in an error or misinterpretation.\n",
            "\n",
            "/usr/local/lib/python3.7/dist-packages/seaborn/_decorators.py:43: FutureWarning:\n",
            "\n",
            "Pass the following variables as keyword args: x, y. From version 0.12, the only valid positional argument will be `data`, and passing other arguments without an explicit keyword will result in an error or misinterpretation.\n",
            "\n"
          ]
        },
        {
          "output_type": "display_data",
          "data": {
            "text/plain": [
              "<Figure size 1080x360 with 2 Axes>"
            ],
            "image/png": "[encoded data removed]"
          },
          "metadata": {}
        }
      ]
    },
    {
      "cell_type": "markdown",
      "source": [
        "* Most Attacked Region is 'Middle East and North Africa' then comes South Asia\n",
        "* Most Attacked States is 'Baghdad' then comes 'Northem irland'\n"
      ],
      "metadata": {
        "id": "pB55kytORbR4"
      }
    },
    {
      "cell_type": "markdown",
      "source": [
        "\n",
        "#**Following is the overall analysis:**\n",
        "\n",
        "1. **\"Taliban\"** is the most powerful, dangerous  and the  most active gang among all of the gangs, followed by **\"islamic state of iraq and the levant(isil)\"** and **\"shining path(SL)\"**.\n",
        "\n",
        "2. 50% of the attacks have occurred because of **Bombing/Explosion** and  10-20% occurred because of **Armed Assault** & Remaining other are in between 0-6%.\n",
        "\n",
        "3. The most targetted attacks are on **\"Private Citizens & Property\"** which is approximately **25%** and **10-20%** is the target on **\"Military\"**,   **\"Police\"**,     **\"Government\"**,    **\"Business\"**.\n",
        "\n",
        "4.  **\"Islamic State of Iraq and the Levant (ISIL)\"** killed the most number of people which is approximately **40k** followed by **\"Taliban\"** and **\"Bokko Haran\"** with an approximation of **30k** & **20k** respectively.\n",
        "\n",
        "5. After **2011** we can observe that there is a large growth recorded in terrorist attacks followed by **2014** which appears to witness a sudden growth in the terrorist attacks.\n",
        "\n",
        "6. * **\"Iraq\"** is the country that has the highest number of people killed due to terrorist attacks, approximately 80k followed by **\"Afghanistan\"** & **\"Pakistan\"**\n",
        "   * Among all the regions **\"Middle East & North Africa\"** has the most number of killed people approx 1.4 Lakhs followed by **\"South-Asia\"** & **\"Sub-saharan Africa\"**.\n",
        "7. According to the research, **\"Iraq\"** is the most affected country by the terrorists, followed by **\"Pakistan\"** and **\"Afghanistan\"**.\n",
        "8. * Most number of attacks have happened in the **\"Middle East and North Africa's\"** region followed by **\"south asia\"** and other regions\n",
        "    * Most number of attacks have happened in the **\"Baghdad\"** followed by **\"Northem irland\"**and other many other states."
      ],
      "metadata": {
        "id": "eMByCeMf6y7y"
      }
    }
  ],
  "metadata": {
    "colab": {
      "collapsed_sections": [],
      "name": "EDA on Global Terrorism",
      "provenance": [],
      "include_colab_link": true
    },
    "kernelspec": {
      "display_name": "Python 3",
      "name": "python3"
    },
    "language_info": {
      "name": "python"
    }
  },
  "nbformat": 4,
  "nbformat_minor": 0
}